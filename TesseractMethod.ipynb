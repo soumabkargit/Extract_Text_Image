{
  "nbformat": 4,
  "nbformat_minor": 0,
  "metadata": {
    "colab": {
      "name": "TesseractMethod.ipynb",
      "provenance": [],
      "collapsed_sections": [],
      "include_colab_link": true
    },
    "kernelspec": {
      "display_name": "Python 3",
      "language": "python",
      "name": "python3"
    },
    "language_info": {
      "codemirror_mode": {
        "name": "ipython",
        "version": 3
      },
      "file_extension": ".py",
      "mimetype": "text/x-python",
      "name": "python",
      "nbconvert_exporter": "python",
      "pygments_lexer": "ipython3",
      "version": "3.7.6"
    }
  },
  "cells": [
    {
      "cell_type": "markdown",
      "metadata": {
        "id": "view-in-github",
        "colab_type": "text"
      },
      "source": [
        "<a href=\"https://colab.research.google.com/github/soumabkargit/Extract_Text_Image/blob/master/TesseractMethod.ipynb\" target=\"_parent\"><img src=\"https://colab.research.google.com/assets/colab-badge.svg\" alt=\"Open In Colab\"/></a>"
      ]
    },
    {
      "cell_type": "markdown",
      "metadata": {
        "colab_type": "text",
        "id": "ZZfsXQ75Tpr4"
      },
      "source": [
        "# **Extraction du montant ttc sur les photos de facture**"
      ]
    },
    {
      "cell_type": "markdown",
      "metadata": {
        "id": "zzChY4oUegaQ",
        "colab_type": "text"
      },
      "source": [
        "#installation de l'ocr Tesseract, prise en charge de Tesseract en Anglais et installation de remotezip. \n",
        "\n",
        "[https://github.com/tesseract-ocr/tesseract/wiki](https://)\n"
      ]
    },
    {
      "cell_type": "code",
      "metadata": {
        "colab_type": "code",
        "id": "fBxV6GDWzMEM",
        "colab": {}
      },
      "source": [
        "!sudo apt install tesseract-ocr\n",
        "!pip install pytesseract\n",
        "!sudo apt-get install tesseract-ocr-eng\n",
        "!pip install remotezip\n",
        "!pip install -q -U opencv-python"
      ],
      "execution_count": null,
      "outputs": []
    },
    {
      "cell_type": "markdown",
      "metadata": {
        "colab_type": "text",
        "id": "k7RjnMkSVrau"
      },
      "source": [
        "##Importation de toutes les dépendances"
      ]
    },
    {
      "cell_type": "code",
      "metadata": {
        "colab_type": "code",
        "id": "mrBJ-l8IyRu5",
        "colab": {}
      },
      "source": [
        "from matplotlib.image import imread\n",
        "import numpy as np\n",
        "from matplotlib import pyplot as plt\n",
        "import os\n",
        "import cv2\n",
        "import pytesseract\n",
        "from pytesseract import Output\n",
        "import matplotlib.patches as patches\n",
        "from PIL import Image\n",
        "import re\n",
        "from pathlib import Path\n",
        "from shutil import copyfile\n",
        "from remotezip import RemoteZip\n",
        "import json\n",
        "import csv\n",
        "# Technically not necessary in newest versions of jupyter\n",
        "%matplotlib inline"
      ],
      "execution_count": null,
      "outputs": []
    },
    {
      "cell_type": "markdown",
      "metadata": {
        "id": "LuBaI-fvUq_i",
        "colab_type": "text"
      },
      "source": [
        "## Déclarations et assignations de toutes les variables globales"
      ]
    },
    {
      "cell_type": "code",
      "metadata": {
        "id": "Y8S1spQphmB9",
        "colab_type": "code",
        "colab": {}
      },
      "source": [
        "url = 'https://expressexpense.com/large-receipt-image-dataset-SRD.zip'\n",
        "\n",
        "lang = 'eng'\n",
        "\n",
        "image_extract_path = \"image_extract\"\n",
        "image_NO_extract_path = \"image_NO_extract\"\n",
        "image_NO_read_text_path = \"image_NO_read_text\"\n",
        "data = \"data\"\n",
        "\n",
        "file_info_result = {}\n",
        "\n",
        "list_regex = []\n",
        "regex_1 = r'TOTAL(.)*(\\:)*(.)*(\\d)'\n",
        "regex_2 = r'BALANCE(.)*(\\:)*(.)*(\\d)'\n",
        "regex_3 = r'AMOUNT(.)*(\\:)*(.)*(\\d)'\n",
        "regex_4 = r'GRAND(.)*TOTAL(.)*(\\:)*(.)*(\\d)'\n",
        "regex_5 = r'ORDER(.)*BALANCE(.)*(\\:)*(.)*(\\d)'\n",
        "regex_6 = r'CASH(.)*(\\:)*(.)*(\\d)'\n",
        "regex_amount = r'\\d*\\.\\d+|\\d+'\n",
        "\n",
        "list_regex.append(regex_1)\n",
        "list_regex.append(regex_2)\n",
        "list_regex.append(regex_3)\n",
        "list_regex.append(regex_4)\n",
        "list_regex.append(regex_5)\n",
        "list_regex.append(regex_6)\n",
        "\n",
        "good_info_candidat = 'good_info_candidat'\n",
        "bad_info_candidat_value = 'bad_info_candidat_value'\n",
        "bad_info_candidat_no_value = 'bad_info_candidat_no_value'\n",
        "bad_info_not_foreseen = 'bad_info_not_foreseen'\n",
        "warning_situation = 'warning_situation'\n",
        "\n",
        "all_info_csv_file = \"all_info.csv\"\n",
        "all_info_bad_csv_file = \"all_info_bad.csv\"\n",
        "all_info_good_csv_file = \"all_info_good.csv\"\n",
        "\n",
        "good_state = 'Good_State'\n",
        "bad_state = 'Bad_State'"
      ],
      "execution_count": null,
      "outputs": []
    },
    {
      "cell_type": "markdown",
      "metadata": {
        "id": "9kagEaalVUMG",
        "colab_type": "text"
      },
      "source": [
        "##Implémentation de toutes les méthodes utiles pour l'extraction du montant TTC"
      ]
    },
    {
      "cell_type": "code",
      "metadata": {
        "id": "itWMgSI6egp-",
        "colab_type": "code",
        "colab": {}
      },
      "source": [
        "def hasNumbers(inputString):\n",
        "  \"\"\"Vérifier si la chaîne est alphanumérique.\"\"\"\n",
        "  return any(char.isdigit() for char in inputString)\n",
        "\n",
        "def add_regex(list_regex, regex):\n",
        "  \"\"\"Ajouter une expression régulière.\"\"\"\n",
        "  list_regex.append(regex)\n",
        "\n",
        "def extract_amount(regex_amount, string):\n",
        "  \"\"\"Appliquer l'expression régulière pour avoir le montant TTC en chiffre.\"\"\"\n",
        "  return re.findall(regex_amount, string, re.IGNORECASE)\n",
        "\n",
        "def createFolder(path):\n",
        "  \"\"\"Créer un dossier.\"\"\"\n",
        "  try:\n",
        "    os.mkdir(path)\n",
        "  except OSError:\n",
        "    print (\"la création du dossier %s a échoué\" % path)\n",
        "  else:\n",
        "    print (\"Réussite de la création du dossier %s \" % path)\n",
        "\n",
        "def extracted(url, data):\n",
        "  \"\"\"Téléchargement des données zipées et extraction dans un dossier\"\"\"\n",
        "  try:\n",
        "    with RemoteZip(url) as zip:\n",
        "      zip.extractall(path=data)\n",
        "  except :\n",
        "    print (\"Le zip n'a pas pu être chargé au lien %s \" % url)\n",
        "  \n",
        "def is_all_values_table_null(array):\n",
        "  test = False\n",
        "  if all('' == s or s.isspace() for s in array):\n",
        "    test = True\n",
        "  return test\n",
        "\n",
        "def showAmount(fonction):\n",
        "  def wrapper(args):\n",
        "      result = 0\n",
        "      if len(args) == 1 :\n",
        "        temp = args[0]\n",
        "        result = float(temp)\n",
        "      else:\n",
        "        result = \"degraded information\"\n",
        "      return fonction(result)\n",
        "  return wrapper\n",
        "\n",
        "@showAmount\n",
        "def showAmountResut(amount):\n",
        "  return amount\n",
        "  \n",
        "\n",
        "def extracted_text_split(imageName, lang):\n",
        "  \"\"\"Extraire le text sur l'image et spliter le text selon espace.\"\"\"\n",
        "  #im = np.array(Image.open(imageName), dtype=np.uint8) \n",
        "  im = cv2.imread(imageName)\n",
        "  try :\n",
        "    extracted_text = pytesseract.image_to_string(im, lang)\n",
        "  except :\n",
        "    #L image n'a pas pu être traité. C'est a dire l'extraction du texte a échoué.\n",
        "    copy_file_folder(data + '/' + file_name, image_NO_extract_path + '/' + file_name)\n",
        "  text_split_line = extracted_text.splitlines()\n",
        "  return text_split_line\n",
        "\n",
        "def extracted_text_split_file_name(file_path):\n",
        "  \"\"\"Faire l'extraction en précisant le chemen de l'image.\"\"\"\n",
        "  im = file_path\n",
        "  text_split_text = extracted_text_split(im, lang)\n",
        "  return text_split_text\n",
        "\n",
        "def read_all_line_file(text_split_text, file_name):\n",
        "  \"\"\"Rechercher les information selon les patterns défis.\"\"\"\n",
        "  file_info_read_all_line_file = {}\n",
        "  if is_all_values_table_null(text_split_text):\n",
        "    copy_file_folder(data + '/' + file_name, image_NO_read_text_path + '/' + file_name)\n",
        "    file_info_read_all_line_file[bad_info_candidat_no_value] = \"Nous avons une chaîne vide, Verifions s'il n'y a aucun texte sur l'image.\"\n",
        "    file_info_read_all_line_file[warning_situation] = \"Erreur 002\"\n",
        "  for line in text_split_text:\n",
        "    for regex in list_regex:\n",
        "      if regexLine(regex, line):\n",
        "        if hasNumbers(line):\n",
        "          file_info_read_all_line_file[good_info_candidat] = showAmountResut(extract_amount(regex_amount, line))\n",
        "        else:\n",
        "          file_info_read_all_line_file[bad_info_candidat_value] = line\n",
        "          file_info_read_all_line_file[warning_situation] = \"Erreur 003\"\n",
        "  return file_info_read_all_line_file\n",
        "\n",
        "def regexLine(regex, line):\n",
        "  \"\"\"Appliquer une expression régulière.\"\"\"\n",
        "  return re.search(regex, line, re.IGNORECASE)\n",
        "    \n",
        "def copy_file_folder(file_name, path):\n",
        "  \"\"\"Copier un fichier d'un dossier à un autre.\"\"\"\n",
        "  copyfile(file_name, path)\n",
        "\n",
        "def get_all_names_files(data):\n",
        "  \"\"\"Avoir la liste de tout les fichiers.\"\"\"\n",
        "  try :\n",
        "    list_files = os.listdir(data)\n",
        "  except OSError:\n",
        "    print (\"La lecture de tout les fichiers dans le dossier %s a échoué\" % data)\n",
        "  else:\n",
        "    print (\"Réussite de la lecture de tout les fichiers dans le dossier %s \" % data)\n",
        "  return list_files\n",
        "\n",
        "def get_all_amount(data):\n",
        "  \"\"\"Avoir le montant TTC de toute les photos de facture lues dans un dossier fournie.\"\"\"\n",
        "  files_infos_results = []\n",
        "  temp_list_files = {}\n",
        "\n",
        "  temp_list_files = get_all_names_files(data)\n",
        "\n",
        "  if len(temp_list_files) == 0 :\n",
        "    print(\"Le dossier est vide\")\n",
        "  else :\n",
        "    for image_filename in temp_list_files:\n",
        "      file_info_res = get_amount(image_filename)\n",
        "      files_infos_results.append(file_info_res)\n",
        "  return files_infos_results\n",
        "\n",
        "def get_amount(file_name):\n",
        "   \"\"\"Avoir le montant TTC d'une photo de facture.\"\"\"\n",
        "   file_info_result = {}\n",
        "   amount_info = {}\n",
        "   text_split_text  = extracted_text_split_file_name(data + '/' + file_name)\n",
        "   temp_file_info_result = read_all_line_file(text_split_text,file_name) \n",
        "   file_info_result[\"file_Name\"] = file_name\n",
        "   file_info_result['Amount'] = temp_file_info_result\n",
        "   amount_info = file_info_result\n",
        "   file_info_result = {}\n",
        "   return amount_info\n",
        "\n",
        "def create_csv(csv_file_name):\n",
        "  \"\"\"Ajouter une information au rapport cvs \"\"\"\n",
        "  # field names \n",
        "  fields = ['Amount', 'File_Name', 'File_State'] \n",
        "  # name of csv file \n",
        "  filename = csv_file_name\n",
        "  # writing to csv file \n",
        "  f = open(filename, 'w')\n",
        "  with f as csvfile: \n",
        "    # creating a csv dict writer object\n",
        "    writer = csv.DictWriter(csvfile, fieldnames = fields)\n",
        "    # writing headers (field names)   \n",
        "    writer.writeheader()\n",
        "    f.close()  \n",
        "\n",
        "def save_data_csv(dict_data, csv_file):\n",
        "  \"\"\"Ajouter une information au rapport cvs \"\"\"\n",
        "  if isinstance(dict_data, list) == False :\n",
        "    tab_res_info = []\n",
        "    dict_data = tab_res_info.append(dict_data)\n",
        "  dict_data = dict_data\n",
        "  filename = csv_file\n",
        "  fields = ['Amount', 'File_Name', 'File_State'] \n",
        "  f = open(filename, 'a')\n",
        "  # writing to csv file \n",
        "  with f as csvfile: \n",
        "    # creating a csv dict writer object\n",
        "    writer = csv.DictWriter(csvfile, fieldnames = fields)\n",
        "    writer.writerows(dict_data)  \n",
        "    f.close() \n",
        "\n",
        "def info_csv(file_name, value):\n",
        "  \"\"\"Construction de dictionnaire pour le rapport cvs \"\"\"\n",
        "  temp_csv_info_save = {}\n",
        "  temp_csv_info_save['File_Name'] = file_name\n",
        "  temp = value\n",
        "  key_temp = list(temp.keys())\n",
        "  if good_info_candidat in key_temp:\n",
        "    temp_csv_info_save['Amount']= value[good_info_candidat]\n",
        "    state = good_state\n",
        "  elif ((bad_info_candidat_value in key_temp) ) : \n",
        "    state = bad_state \n",
        "    temp_csv_info_save['Amount']= value[bad_info_candidat_value]\n",
        "  elif ( (bad_info_candidat_no_value in key_temp) ) :\n",
        "    state = bad_state \n",
        "    temp_csv_info_save['Amount']= value[bad_info_candidat_no_value]\n",
        "  elif ((bad_info_not_foreseen in key_temp) ) :\n",
        "    state = bad_state \n",
        "    temp_csv_info_save['Amount']= value[bad_info_not_foreseen]\n",
        "  else :\n",
        "    state = bad_state   \n",
        "    temp_csv_info_save['Amount']= \"Erreur Non Prévuer\"  \n",
        "  temp_csv_info_save['File_State'] = state\n",
        "  return temp_csv_info_save\n",
        "\n",
        "def save_info(element):\n",
        "  temp_csv_info_save = {}\n",
        "  all_info_good_array = []\n",
        "  all_info_bad_array = []\n",
        "  all_info_array = []\n",
        "  value_amount = element[\"Amount\"]\n",
        "  value_file = element[\"file_Name\"]\n",
        "  res_key = list(value_amount.keys())\n",
        "  if good_info_candidat in res_key:\n",
        "    copyfile(data + '/' + value_file, image_extract_path + '/' + value_file)\n",
        "    temp_csv_info_save = info_csv(value_file, value_amount )\n",
        "    all_info_good_array.append(temp_csv_info_save)\n",
        "    all_info_array.append(temp_csv_info_save)\n",
        "  elif ( (bad_info_candidat_value in res_key) ) : \n",
        "    copyfile(data + '/' + value_file, bad_info_candidat_value + '/' + value_file)\n",
        "    temp_csv_info_save = info_csv(value_file, value_amount)\n",
        "    all_info_bad_array.append(temp_csv_info_save)\n",
        "    all_info_array.append(temp_csv_info_save)\n",
        "  elif ((bad_info_not_foreseen in res_key) ) :\n",
        "    copyfile(data + '/' + value_file, bad_info_candidat_no_value + '/' + value_file)\n",
        "    temp_csv_info_save = info_csv(value_file, value_amount )\n",
        "    all_info_bad_array.append(temp_csv_info_save)\n",
        "    all_info_array.append(temp_csv_info_save)\n",
        "  elif ((bad_info_not_foreseen in res_key) ) :\n",
        "    copyfile(data + '/' + value_file, bad_info_not_foreseen + '/' + value_file)\n",
        "    temp_csv_info_save = info_csv(value_file, value_amount )\n",
        "    all_info_bad_array.append(temp_csv_info_save)\n",
        "    all_info_array.append(temp_csv_info_save)\n",
        "  else : \n",
        "    copyfile(data + '/' + value_file, warning_situation + '/' + value_file)\n",
        "    temp_csv_info_save = info_csv(value_file, value_amount )\n",
        "    all_info_bad_array.append(temp_csv_info_save)\n",
        "    all_info_array.append(temp_csv_info_save)\n",
        "  save_data_csv(all_info_bad_array, all_info_bad_csv_file)\n",
        "  save_data_csv(all_info_array, all_info_csv_file)\n",
        "  save_data_csv(all_info_good_array, all_info_good_csv_file)\n",
        "     \n",
        "def save_all_infos(file_info_res):\n",
        "  \"\"\"Ranger la facture selon le résultat du traitement.\"\"\"\n",
        "  if isinstance(file_info_res, list) == False :\n",
        "    save_info(file_info_res)\n",
        "  for element in file_info_res :\n",
        "    save_info(element)\n"
      ],
      "execution_count": null,
      "outputs": []
    },
    {
      "cell_type": "markdown",
      "metadata": {
        "id": "k6xqLUg5ZU5w",
        "colab_type": "text"
      },
      "source": [
        "##Création des dossiers\n",
        "Dossier de toute les photos de facture\n",
        "\n",
        "Dossier des factures dont l'extraction du montant ttc a réussi\n",
        "\n",
        "Dossier des factures dont l'extraction des montant ttc a échoué\n"
      ]
    },
    {
      "cell_type": "code",
      "metadata": {
        "id": "0qd0F9IPjcJJ",
        "colab_type": "code",
        "colab": {}
      },
      "source": [
        "createFolder(image_extract_path)\n",
        "createFolder(image_NO_extract_path)\n",
        "createFolder(image_NO_read_text_path)\n",
        "createFolder(bad_info_candidat_no_value)\n",
        "createFolder(bad_info_candidat_value)\n",
        "createFolder(bad_info_not_foreseen)\n",
        "createFolder(data)\n",
        "createFolder(warning_situation)"
      ],
      "execution_count": null,
      "outputs": []
    },
    {
      "cell_type": "code",
      "metadata": {
        "id": "kb-OneQ1MHtb",
        "colab_type": "code",
        "colab": {}
      },
      "source": [
        "create_csv(all_info_csv_file)\n",
        "create_csv(all_info_bad_csv_file)\n",
        "create_csv(all_info_good_csv_file)"
      ],
      "execution_count": null,
      "outputs": []
    },
    {
      "cell_type": "markdown",
      "metadata": {
        "id": "_SsSwJKcfyU6",
        "colab_type": "text"
      },
      "source": [
        "Téléchargement du zip des photos et extraction dans le dossier de toute les factures"
      ]
    },
    {
      "cell_type": "code",
      "metadata": {
        "id": "EH1X_d-AQfqg",
        "colab_type": "code",
        "colab": {}
      },
      "source": [
        "extracted(url, data)"
      ],
      "execution_count": null,
      "outputs": []
    },
    {
      "cell_type": "markdown",
      "metadata": {
        "id": "2HiY6OAxs_fi",
        "colab_type": "text"
      },
      "source": [
        "Extraction de montant ttc pour une facture"
      ]
    },
    {
      "cell_type": "code",
      "metadata": {
        "id": "C5RBxcE7EV2i",
        "colab_type": "code",
        "colab": {}
      },
      "source": [
        "file_name = '1008-receipt.jpg'\n",
        "res = get_amount(file_name)\n",
        "print(\"Le nom du fichier est : \" + res['file_Name']+ \"\\n\" + \"et son montant est : \" ,res['Amount'] )"
      ],
      "execution_count": null,
      "outputs": []
    },
    {
      "cell_type": "code",
      "metadata": {
        "id": "71aNFF85XOkV",
        "colab_type": "code",
        "colab": {}
      },
      "source": [
        "save_info(res)"
      ],
      "execution_count": null,
      "outputs": []
    },
    {
      "cell_type": "markdown",
      "metadata": {
        "id": "nqBMrivevHsc",
        "colab_type": "text"
      },
      "source": [
        "Extraction de montant ttc pour toute les factures"
      ]
    },
    {
      "cell_type": "code",
      "metadata": {
        "id": "FmIVj6QbbC_m",
        "colab_type": "code",
        "colab": {
          "base_uri": "https://localhost:8080/",
          "height": 34
        },
        "outputId": "d00bc718-f85e-4b41-d30b-41cde4aeecf6"
      },
      "source": [
        "dict_dat = get_all_amount(data)"
      ],
      "execution_count": null,
      "outputs": [
        {
          "output_type": "stream",
          "text": [
            "Réussite de la lecture de tout les fichiers dans le dossier data \n"
          ],
          "name": "stdout"
        }
      ]
    },
    {
      "cell_type": "code",
      "metadata": {
        "id": "hZcFxV_4ro73",
        "colab_type": "code",
        "colab": {}
      },
      "source": [
        "dict_dat"
      ],
      "execution_count": null,
      "outputs": []
    },
    {
      "cell_type": "code",
      "metadata": {
        "id": "W0zRmNj6VPRs",
        "colab_type": "code",
        "colab": {}
      },
      "source": [
        "save_all_infos(dict_dat)"
      ],
      "execution_count": null,
      "outputs": []
    },
    {
      "cell_type": "markdown",
      "metadata": {
        "colab_type": "text",
        "id": "HKF8rq3bzTUX"
      },
      "source": [
        "#References\n",
        "\n",
        "https://nanonets.com/blog/receipt-ocr/?fbclid=IwAR0H4VkHhpimqKIgEUQOUCOJS1mtk6vQREcv3MMiqJ2NpxG9LHZnsHM-aeE\n",
        "\n",
        "\n",
        "https://www.datacamp.com/community/tutorials/zip-file"
      ]
    }
  ]
}