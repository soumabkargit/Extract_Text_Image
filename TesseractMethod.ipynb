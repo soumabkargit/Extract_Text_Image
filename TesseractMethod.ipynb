{
  "nbformat": 4,
  "nbformat_minor": 0,
  "metadata": {
    "colab": {
      "name": "TesseractMethod.ipynb",
      "provenance": [],
      "include_colab_link": true
    },
    "kernelspec": {
      "display_name": "Python 3",
      "language": "python",
      "name": "python3"
    },
    "language_info": {
      "codemirror_mode": {
        "name": "ipython",
        "version": 3
      },
      "file_extension": ".py",
      "mimetype": "text/x-python",
      "name": "python",
      "nbconvert_exporter": "python",
      "pygments_lexer": "ipython3",
      "version": "3.7.6"
    }
  },
  "cells": [
    {
      "cell_type": "markdown",
      "metadata": {
        "id": "view-in-github",
        "colab_type": "text"
      },
      "source": [
        "<a href=\"https://colab.research.google.com/github/soumabkargit/Extract_Text_Image/blob/master/TesseractMethod.ipynb\" target=\"_parent\"><img src=\"https://colab.research.google.com/assets/colab-badge.svg\" alt=\"Open In Colab\"/></a>"
      ]
    },
    {
      "cell_type": "markdown",
      "metadata": {
        "colab_type": "text",
        "id": "ZZfsXQ75Tpr4"
      },
      "source": [
        "# **Tesseract installation**\n",
        "\n",
        "[https://github.com/tesseract-ocr/tesseract/wiki](https://)\n"
      ]
    },
    {
      "cell_type": "code",
      "metadata": {
        "colab_type": "code",
        "id": "fBxV6GDWzMEM",
        "colab": {
          "base_uri": "https://localhost:8080/",
          "height": 1000
        },
        "outputId": "55915461-9c06-4001-bd62-fc88bee90552"
      },
      "source": [
        "!sudo apt install tesseract-ocr\n",
        "!pip install pytesseract\n",
        "!sudo apt-get install tesseract-ocr-eng\n",
        "!pip install remotezip"
      ],
      "execution_count": 1,
      "outputs": [
        {
          "output_type": "stream",
          "text": [
            "Reading package lists... Done\n",
            "Building dependency tree       \n",
            "Reading state information... Done\n",
            "The following package was automatically installed and is no longer required:\n",
            "  libnvidia-common-440\n",
            "Use 'sudo apt autoremove' to remove it.\n",
            "The following additional packages will be installed:\n",
            "  tesseract-ocr-eng tesseract-ocr-osd\n",
            "The following NEW packages will be installed:\n",
            "  tesseract-ocr tesseract-ocr-eng tesseract-ocr-osd\n",
            "0 upgraded, 3 newly installed, 0 to remove and 39 not upgraded.\n",
            "Need to get 4,795 kB of archives.\n",
            "After this operation, 15.8 MB of additional disk space will be used.\n",
            "Get:1 http://archive.ubuntu.com/ubuntu bionic/universe amd64 tesseract-ocr-eng all 4.00~git24-0e00fe6-1.2 [1,588 kB]\n",
            "Get:2 http://archive.ubuntu.com/ubuntu bionic/universe amd64 tesseract-ocr-osd all 4.00~git24-0e00fe6-1.2 [2,989 kB]\n",
            "Get:3 http://archive.ubuntu.com/ubuntu bionic/universe amd64 tesseract-ocr amd64 4.00~git2288-10f4998a-2 [218 kB]\n",
            "Fetched 4,795 kB in 1s (4,346 kB/s)\n",
            "debconf: unable to initialize frontend: Dialog\n",
            "debconf: (No usable dialog-like program is installed, so the dialog based frontend cannot be used. at /usr/share/perl5/Debconf/FrontEnd/Dialog.pm line 76, <> line 3.)\n",
            "debconf: falling back to frontend: Readline\n",
            "debconf: unable to initialize frontend: Readline\n",
            "debconf: (This frontend requires a controlling tty.)\n",
            "debconf: falling back to frontend: Teletype\n",
            "dpkg-preconfigure: unable to re-open stdin: \n",
            "Selecting previously unselected package tesseract-ocr-eng.\n",
            "(Reading database ... 144579 files and directories currently installed.)\n",
            "Preparing to unpack .../tesseract-ocr-eng_4.00~git24-0e00fe6-1.2_all.deb ...\n",
            "Unpacking tesseract-ocr-eng (4.00~git24-0e00fe6-1.2) ...\n",
            "Selecting previously unselected package tesseract-ocr-osd.\n",
            "Preparing to unpack .../tesseract-ocr-osd_4.00~git24-0e00fe6-1.2_all.deb ...\n",
            "Unpacking tesseract-ocr-osd (4.00~git24-0e00fe6-1.2) ...\n",
            "Selecting previously unselected package tesseract-ocr.\n",
            "Preparing to unpack .../tesseract-ocr_4.00~git2288-10f4998a-2_amd64.deb ...\n",
            "Unpacking tesseract-ocr (4.00~git2288-10f4998a-2) ...\n",
            "Setting up tesseract-ocr-osd (4.00~git24-0e00fe6-1.2) ...\n",
            "Setting up tesseract-ocr-eng (4.00~git24-0e00fe6-1.2) ...\n",
            "Setting up tesseract-ocr (4.00~git2288-10f4998a-2) ...\n",
            "Processing triggers for man-db (2.8.3-2ubuntu0.1) ...\n",
            "Collecting pytesseract\n",
            "  Downloading https://files.pythonhosted.org/packages/ba/19/c4c09496657920a859aca0e95db41da5fa6299d1693d7e7ab8ac96677198/pytesseract-0.3.5.tar.gz\n",
            "Requirement already satisfied: Pillow in /usr/local/lib/python3.6/dist-packages (from pytesseract) (7.0.0)\n",
            "Building wheels for collected packages: pytesseract\n",
            "  Building wheel for pytesseract (setup.py) ... \u001b[?25l\u001b[?25hdone\n",
            "  Created wheel for pytesseract: filename=pytesseract-0.3.5-py2.py3-none-any.whl size=13405 sha256=b8e63b0728c1b32134676173e783764856b0e81e14e8b576316753055fac4a48\n",
            "  Stored in directory: /root/.cache/pip/wheels/4c/57/f5/4e60154cc0cfb584373ec7922766e67d00f34879c21ed73f14\n",
            "Successfully built pytesseract\n",
            "Installing collected packages: pytesseract\n",
            "Successfully installed pytesseract-0.3.5\n",
            "Reading package lists... Done\n",
            "Building dependency tree       \n",
            "Reading state information... Done\n",
            "tesseract-ocr-eng is already the newest version (4.00~git24-0e00fe6-1.2).\n",
            "tesseract-ocr-eng set to manually installed.\n",
            "The following package was automatically installed and is no longer required:\n",
            "  libnvidia-common-440\n",
            "Use 'sudo apt autoremove' to remove it.\n",
            "0 upgraded, 0 newly installed, 0 to remove and 39 not upgraded.\n",
            "Collecting remotezip\n",
            "  Downloading https://files.pythonhosted.org/packages/17/92/57938dea74ff6aa66cf3aa8db6ac7cbd16f3297fe1768e5187bbfb3f1d65/remotezip-0.9.2-py2.py3-none-any.whl\n",
            "Requirement already satisfied: tabulate in /usr/local/lib/python3.6/dist-packages (from remotezip) (0.8.7)\n",
            "Requirement already satisfied: requests in /usr/local/lib/python3.6/dist-packages (from remotezip) (2.23.0)\n",
            "Requirement already satisfied: certifi>=2017.4.17 in /usr/local/lib/python3.6/dist-packages (from requests->remotezip) (2020.6.20)\n",
            "Requirement already satisfied: urllib3!=1.25.0,!=1.25.1,<1.26,>=1.21.1 in /usr/local/lib/python3.6/dist-packages (from requests->remotezip) (1.24.3)\n",
            "Requirement already satisfied: chardet<4,>=3.0.2 in /usr/local/lib/python3.6/dist-packages (from requests->remotezip) (3.0.4)\n",
            "Requirement already satisfied: idna<3,>=2.5 in /usr/local/lib/python3.6/dist-packages (from requests->remotezip) (2.10)\n",
            "Installing collected packages: remotezip\n",
            "Successfully installed remotezip-0.9.2\n"
          ],
          "name": "stdout"
        }
      ]
    },
    {
      "cell_type": "markdown",
      "metadata": {
        "colab_type": "text",
        "id": "k7RjnMkSVrau"
      },
      "source": [
        "##Importing all useful dependencies"
      ]
    },
    {
      "cell_type": "code",
      "metadata": {
        "colab_type": "code",
        "id": "mrBJ-l8IyRu5",
        "colab": {}
      },
      "source": [
        "from matplotlib.image import imread\n",
        "import numpy as np\n",
        "from matplotlib import pyplot as plt\n",
        "import os\n",
        "import pytesseract\n",
        "from pytesseract import Output\n",
        "import matplotlib.patches as patches\n",
        "from PIL import Image\n",
        "import re\n",
        "from pathlib import Path\n",
        "from shutil import copyfile\n",
        "from remotezip import RemoteZip\n",
        "import json\n",
        "import csv\n",
        "# Technically not necessary in newest versions of jupyter\n",
        "%matplotlib inline"
      ],
      "execution_count": 133,
      "outputs": []
    },
    {
      "cell_type": "code",
      "metadata": {
        "id": "Y8S1spQphmB9",
        "colab_type": "code",
        "colab": {}
      },
      "source": [
        "url = 'https://expressexpense.com/large-receipt-image-dataset-SRD.zip'\n",
        "lang = 'eng'\n",
        "image_extract_path = \"image_extract\"\n",
        "image_NO_extract_path = \"image_NO_extract\"\n",
        "image_NO_read_text_path = \"image_NO_read_text\"\n",
        "data = \"data\"\n",
        "list_regex = []\n",
        "regex_1 = r'^TOTAL(.)*(\\:)*(.)*(\\d)*'\n",
        "regex_2 = r'^BALANCE(.)*(\\:)*(.)*(\\d)*'\n",
        "regex_3 = r'^AMOUNT(.)*(\\:)*(.)*(\\d)*'\n",
        "regex_amount = r'(\\d)*'\n",
        "list_regex.append(regex_1)\n",
        "list_regex.append(regex_2)\n",
        "list_regex.append(regex_3)\n",
        "list_good_files = []\n",
        "list_bad_files = []\n",
        "list_word_total = []\n",
        "candidat_good_total = []\n",
        "candidat_bad_total = []\n",
        "list_candidat_word_total = []\n",
        "list_word_total_file = []\n",
        "list_invoices = {}\n",
        "receipt_ocr = {}\n",
        "total_invoice_good_info = {}\n",
        "total_invoice_bad_info = {}\n",
        "all_total_invoice_info = {}"
      ],
      "execution_count": 134,
      "outputs": []
    },
    {
      "cell_type": "code",
      "metadata": {
        "id": "itWMgSI6egp-",
        "colab_type": "code",
        "colab": {}
      },
      "source": [
        "def hasNumbers(inputString):\n",
        "  return any(char.isdigit() for char in inputString)\n",
        "\n",
        "def add_regex(list_regex, regex):\n",
        "  list_regex.append(regex)\n",
        "\n",
        "def extract_amount(regex_amount, string):\n",
        "  return re.search(regex_amount, string, re.IGNORECASE)\n",
        "\n",
        "def createFolder(path):\n",
        "  try:\n",
        "    os.mkdir(path)\n",
        "  except OSError:\n",
        "    print (\"Creation of the directory %s failed\" % path)\n",
        "  else:\n",
        "    print (\"Successfully created the directory %s \" % path)\n",
        "\n",
        "def extracted(url, data):\n",
        "  with RemoteZip(url) as zip:\n",
        "    zip.extractall(path=data)\n",
        "  \n",
        "def extracted_text_split(imageName, lang):\n",
        "  im = np.array(Image.open(imageName), dtype=np.uint8)\n",
        "  extracted_text = pytesseract.image_to_string(im, lang)\n",
        "  text_split_line = extracted_text.splitlines()\n",
        "  return text_split_line\n",
        "\n",
        "def extracted_text_split_file_name(file_path):\n",
        "  im = file_path\n",
        "  text_split_text = extracted_text_split(im, lang)\n",
        "  return text_split_text\n",
        "\n",
        "def read_all_line_file(text_split_text):\n",
        "  file_info = {}\n",
        "  for line in text_split_text:\n",
        "    for regex in list_regex:\n",
        "      if regexLine(regex, line):\n",
        "        if hasNumbers(line):\n",
        "          file_info['good_info_candidat'] = line\n",
        "        else:\n",
        "          file_info['bad_info_candidat'] = line\n",
        "  return file_info\n",
        "\n",
        "def regexLine(regex, line):\n",
        "  return re.search(regex, line, re.IGNORECASE)\n",
        "    \n",
        "def copy_file_folder(file_name, path):\n",
        "  copyfile(file_name, path)\n",
        "\n",
        "def get_all_names_files(data):\n",
        "  try :\n",
        "    list_files = os.listdir(data)\n",
        "  except OSError:\n",
        "    print (\"Read all files in folder is %s failed\" % data)\n",
        "  else:\n",
        "    print (\"Successfully to read all files in the folder %s \" % data)\n",
        "  return list_files\n",
        "\n",
        "def get_all_amount(data):\n",
        "  \n",
        "  files_infos_results = {}\n",
        "  temp_list_files = get_all_names_files(data)\n",
        "\n",
        "  if len(temp_list_files) == 0 :\n",
        "    print(\"the folder is empty\")\n",
        "  else :\n",
        "    for image_filename in temp_list_files:\n",
        "      file_info_res = get_amount(image_filename)\n",
        "      files_infos_results['Resume'] = file_info_res\n",
        "      arrange_files_quality(file_info_res)\n",
        "  return files_infos_results\n",
        "\n",
        "def get_amount(file_name):\n",
        "\n",
        "   file_info_result = {}\n",
        "\n",
        "   if len(extracted_text_split_file_name(data + '/' + file_name)) == 0 :\n",
        "     #print(\"the file has not been read\")\n",
        "     copy_file_folder(data + '/' + file_name, image_NO_read_text_path + '/' + file_name)\n",
        "   else :\n",
        "     text_split_text = extracted_text_split_file_name(data + '/' + file_name)\n",
        "\n",
        "     if len(read_all_line_file(text_split_text)) == 0 :\n",
        "       temp_file_info_result = \"no information was read\"\n",
        "       #print(\"no information was read\")\n",
        "     else :\n",
        "       temp_file_info_result = read_all_line_file(text_split_text)     \n",
        "\n",
        "     file_info_result[file_name] = file_name\n",
        "     file_info_result['Amount'] = temp_file_info_result\n",
        "   arrange_files_quality(file_info_result)\n",
        "   return file_info_result\n",
        "\n",
        "def arrange_files_quality(file_info_res):\n",
        "  try :\n",
        "    file_info_res[file_name]\n",
        "    copyfile(data + '/' + file_name, image_extract_path + '/' + file_name)\n",
        "  except KeyError:\n",
        "    print(\"the amount was not extracted correctly\")\n",
        "    try :\n",
        "      file_info_res[file_name]\n",
        "      copyfile(data + '/' + file_name, image_NO_extract_path + '/' + file_name) \n",
        "    except KeyError:  \n",
        "      print(\"the file has not been read\")\n",
        "      copyfile(data + '/' + file_name, image_NO_read_text_path + '/' + file_name)\n",
        " \n",
        "    \n"
      ],
      "execution_count": 153,
      "outputs": []
    },
    {
      "cell_type": "code",
      "metadata": {
        "id": "0qd0F9IPjcJJ",
        "colab_type": "code",
        "colab": {}
      },
      "source": [
        "createFolder(image_extract_path)\n",
        "createFolder(image_NO_extract_path)\n",
        "createFolder(image_NO_read_text_path)\n",
        "createFolder(data)"
      ],
      "execution_count": null,
      "outputs": []
    },
    {
      "cell_type": "code",
      "metadata": {
        "id": "EH1X_d-AQfqg",
        "colab_type": "code",
        "colab": {}
      },
      "source": [
        "extracted(url, data)"
      ],
      "execution_count": 6,
      "outputs": []
    },
    {
      "cell_type": "markdown",
      "metadata": {
        "colab_type": "text",
        "id": "cy5XplxPYXZz"
      },
      "source": [
        "##Dataset\n",
        "\n",
        "https://expressexpense.com/large-receipt-image-dataset-SRD.zip\n",
        "\n",
        "## Reading of all invoice images and extraction of the total amount.\n",
        "\n",
        "##Sort extracted and non-extracted images into respective folders."
      ]
    },
    {
      "cell_type": "code",
      "metadata": {
        "id": "C5RBxcE7EV2i",
        "colab_type": "code",
        "colab": {}
      },
      "source": [
        "file_name = '1199-receipt.jpg'\n",
        "res = get_amount(file_name)"
      ],
      "execution_count": 154,
      "outputs": []
    },
    {
      "cell_type": "code",
      "metadata": {
        "id": "KubM0oce5dVr",
        "colab_type": "code",
        "colab": {
          "base_uri": "https://localhost:8080/",
          "height": 52
        },
        "outputId": "3cdcc09e-6980-4432-f459-86b1e6ce5f4f"
      },
      "source": [
        "res"
      ],
      "execution_count": 155,
      "outputs": [
        {
          "output_type": "execute_result",
          "data": {
            "text/plain": [
              "{'1199-receipt.jpg': '1199-receipt.jpg',\n",
              " 'Amount': {'good_info_candidat': 'Total Due: 128.33'}}"
            ]
          },
          "metadata": {
            "tags": []
          },
          "execution_count": 155
        }
      ]
    },
    {
      "cell_type": "code",
      "metadata": {
        "id": "MtUfZB3IFTgp",
        "colab_type": "code",
        "colab": {
          "base_uri": "https://localhost:8080/",
          "height": 35
        },
        "outputId": "f7371d13-cb83-4570-dfae-4b5d29124e1f"
      },
      "source": [
        "res['Amount']['good_info_candidat']"
      ],
      "execution_count": 158,
      "outputs": [
        {
          "output_type": "execute_result",
          "data": {
            "application/vnd.google.colaboratory.intrinsic+json": {
              "type": "string"
            },
            "text/plain": [
              "'Total Due: 128.33'"
            ]
          },
          "metadata": {
            "tags": []
          },
          "execution_count": 158
        }
      ]
    },
    {
      "cell_type": "code",
      "metadata": {
        "id": "FmIVj6QbbC_m",
        "colab_type": "code",
        "colab": {}
      },
      "source": [
        "get_all_amount(data)"
      ],
      "execution_count": null,
      "outputs": []
    },
    {
      "cell_type": "markdown",
      "metadata": {
        "colab_type": "text",
        "id": "HKF8rq3bzTUX"
      },
      "source": [
        "#References\n",
        "\n",
        "https://nanonets.com/blog/receipt-ocr/?fbclid=IwAR0H4VkHhpimqKIgEUQOUCOJS1mtk6vQREcv3MMiqJ2NpxG9LHZnsHM-aeE\n",
        "\n",
        "\n",
        "https://www.datacamp.com/community/tutorials/zip-file"
      ]
    }
  ]
}