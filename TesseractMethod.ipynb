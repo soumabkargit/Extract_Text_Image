{
  "nbformat": 4,
  "nbformat_minor": 0,
  "metadata": {
    "colab": {
      "name": "TesseractMethod.ipynb",
      "provenance": [],
      "collapsed_sections": [],
      "include_colab_link": true
    },
    "kernelspec": {
      "display_name": "Python 3",
      "language": "python",
      "name": "python3"
    },
    "language_info": {
      "codemirror_mode": {
        "name": "ipython",
        "version": 3
      },
      "file_extension": ".py",
      "mimetype": "text/x-python",
      "name": "python",
      "nbconvert_exporter": "python",
      "pygments_lexer": "ipython3",
      "version": "3.7.6"
    }
  },
  "cells": [
    {
      "cell_type": "markdown",
      "metadata": {
        "id": "view-in-github",
        "colab_type": "text"
      },
      "source": [
        "<a href=\"https://colab.research.google.com/github/soumabkargit/Extract_Text_Image/blob/master/TesseractMethod.ipynb\" target=\"_parent\"><img src=\"https://colab.research.google.com/assets/colab-badge.svg\" alt=\"Open In Colab\"/></a>"
      ]
    },
    {
      "cell_type": "markdown",
      "metadata": {
        "colab_type": "text",
        "id": "ZZfsXQ75Tpr4"
      },
      "source": [
        "# **Extraction du montant ttc sur les photos de facture**"
      ]
    },
    {
      "cell_type": "markdown",
      "metadata": {
        "id": "zzChY4oUegaQ",
        "colab_type": "text"
      },
      "source": [
        "#installation de l'ocr Tesseract, prise en charge de Tesseract en Anglais et installation de remotezip. \n",
        "\n",
        "[https://github.com/tesseract-ocr/tesseract/wiki](https://)\n"
      ]
    },
    {
      "cell_type": "code",
      "metadata": {
        "colab_type": "code",
        "id": "fBxV6GDWzMEM",
        "colab": {
          "base_uri": "https://localhost:8080/",
          "height": 462
        },
        "outputId": "053b6c46-d01c-4c5a-e14f-bd4b48d52634"
      },
      "source": [
        "!sudo apt install tesseract-ocr\n",
        "!pip install pytesseract\n",
        "!sudo apt-get install tesseract-ocr-eng\n",
        "!pip install remotezip"
      ],
      "execution_count": 75,
      "outputs": [
        {
          "output_type": "stream",
          "text": [
            "Reading package lists... Done\n",
            "Building dependency tree       \n",
            "Reading state information... Done\n",
            "tesseract-ocr is already the newest version (4.00~git2288-10f4998a-2).\n",
            "The following package was automatically installed and is no longer required:\n",
            "  libnvidia-common-440\n",
            "Use 'sudo apt autoremove' to remove it.\n",
            "0 upgraded, 0 newly installed, 0 to remove and 39 not upgraded.\n",
            "Requirement already satisfied: pytesseract in /usr/local/lib/python3.6/dist-packages (0.3.6)\n",
            "Requirement already satisfied: Pillow in /usr/local/lib/python3.6/dist-packages (from pytesseract) (7.0.0)\n",
            "Reading package lists... Done\n",
            "Building dependency tree       \n",
            "Reading state information... Done\n",
            "tesseract-ocr-eng is already the newest version (4.00~git24-0e00fe6-1.2).\n",
            "The following package was automatically installed and is no longer required:\n",
            "  libnvidia-common-440\n",
            "Use 'sudo apt autoremove' to remove it.\n",
            "0 upgraded, 0 newly installed, 0 to remove and 39 not upgraded.\n",
            "Requirement already satisfied: remotezip in /usr/local/lib/python3.6/dist-packages (0.9.2)\n",
            "Requirement already satisfied: tabulate in /usr/local/lib/python3.6/dist-packages (from remotezip) (0.8.7)\n",
            "Requirement already satisfied: requests in /usr/local/lib/python3.6/dist-packages (from remotezip) (2.23.0)\n",
            "Requirement already satisfied: idna<3,>=2.5 in /usr/local/lib/python3.6/dist-packages (from requests->remotezip) (2.10)\n",
            "Requirement already satisfied: certifi>=2017.4.17 in /usr/local/lib/python3.6/dist-packages (from requests->remotezip) (2020.6.20)\n",
            "Requirement already satisfied: chardet<4,>=3.0.2 in /usr/local/lib/python3.6/dist-packages (from requests->remotezip) (3.0.4)\n",
            "Requirement already satisfied: urllib3!=1.25.0,!=1.25.1,<1.26,>=1.21.1 in /usr/local/lib/python3.6/dist-packages (from requests->remotezip) (1.24.3)\n"
          ],
          "name": "stdout"
        }
      ]
    },
    {
      "cell_type": "markdown",
      "metadata": {
        "colab_type": "text",
        "id": "k7RjnMkSVrau"
      },
      "source": [
        "##Importation de toutes les dépendances"
      ]
    },
    {
      "cell_type": "code",
      "metadata": {
        "colab_type": "code",
        "id": "mrBJ-l8IyRu5",
        "colab": {}
      },
      "source": [
        "from matplotlib.image import imread\n",
        "import numpy as np\n",
        "from matplotlib import pyplot as plt\n",
        "import os\n",
        "import pytesseract\n",
        "from pytesseract import Output\n",
        "import matplotlib.patches as patches\n",
        "from PIL import Image\n",
        "import re\n",
        "from pathlib import Path\n",
        "from shutil import copyfile\n",
        "from remotezip import RemoteZip\n",
        "import json\n",
        "import csv\n",
        "# Technically not necessary in newest versions of jupyter\n",
        "%matplotlib inline"
      ],
      "execution_count": 53,
      "outputs": []
    },
    {
      "cell_type": "markdown",
      "metadata": {
        "id": "LuBaI-fvUq_i",
        "colab_type": "text"
      },
      "source": [
        "## Déclarations et assignations de toutes les variables globales"
      ]
    },
    {
      "cell_type": "code",
      "metadata": {
        "id": "Y8S1spQphmB9",
        "colab_type": "code",
        "colab": {}
      },
      "source": [
        "url = 'https://expressexpense.com/large-receipt-image-dataset-SRD.zip'\n",
        "\n",
        "lang = 'eng'\n",
        "\n",
        "image_extract_path = \"image_extract\"\n",
        "image_NO_extract_path = \"image_NO_extract\"\n",
        "image_NO_read_text_path = \"image_NO_read_text\"\n",
        "data = \"data\"\n",
        "\n",
        "file_info_result = {}\n",
        "\n",
        "list_regex = []\n",
        "regex_1 = r'TOTAL(.)*(\\:)*(.)*(\\d)'\n",
        "regex_2 = r'BALANCE(.)*(\\:)*(.)*(\\d)'\n",
        "regex_3 = r'AMOUNT(.)*(\\:)*(.)*(\\d)'\n",
        "regex_4 = r'GRAND(.)*TOTAL(.)*(\\:)*(.)*(\\d)'\n",
        "regex_5 = r'ORDER(.)*BALANCE(.)*(\\:)*(.)*(\\d)'\n",
        "regex_6 = r'CASH(.)*(\\:)*(.)*(\\d)'\n",
        "regex_amount = r'\\d*\\.\\d+|\\d+'\n",
        "list_regex.append(regex_1)\n",
        "list_regex.append(regex_2)\n",
        "list_regex.append(regex_3)\n",
        "list_regex.append(regex_4)\n",
        "list_regex.append(regex_5)\n",
        "list_regex.append(regex_6)\n",
        "\n",
        "good_info_candidat = 'good_info_candidat'\n",
        "bad_info_candidat_value = 'bad_info_candidat_value'\n",
        "bad_info_candidat_no_value = 'bad_info_candidat_no_value'\n",
        "bad_info_not_foreseen = 'bad_info_not_foreseen'\n",
        "warning_situation = 'warning_situation'\n",
        "\n",
        "all_info_csv_file = \"all_info.csv\"\n",
        "all_info_bad_csv_file = \"all_info_bad.csv\"\n",
        "all_info_good_csv_file = \"all_info_good.csv\"\n",
        "\n",
        "good_state = 'Good_State'\n",
        "bad_state = 'Bad_State'"
      ],
      "execution_count": 94,
      "outputs": []
    },
    {
      "cell_type": "markdown",
      "metadata": {
        "id": "9kagEaalVUMG",
        "colab_type": "text"
      },
      "source": [
        "##Implémentation de toutes les méthodes utiles pour l'extraction du montant TTC"
      ]
    },
    {
      "cell_type": "code",
      "metadata": {
        "id": "itWMgSI6egp-",
        "colab_type": "code",
        "colab": {}
      },
      "source": [
        "def hasNumbers(inputString):\n",
        "  \"\"\"Vérifier si la chaîne est alphanumérique.\"\"\"\n",
        "  return any(char.isdigit() for char in inputString)\n",
        "\n",
        "def add_regex(list_regex, regex):\n",
        "  \"\"\"Ajouter une expression régulière.\"\"\"\n",
        "  list_regex.append(regex)\n",
        "\n",
        "def extract_amount(regex_amount, string):\n",
        "  \"\"\"Appliquer l'expression régulière pour avoir le montant TTC en chiffre.\"\"\"\n",
        "  return re.findall(regex_amount, string, re.IGNORECASE)\n",
        "\n",
        "def createFolder(path):\n",
        "  \"\"\"Créer un dossier.\"\"\"\n",
        "  try:\n",
        "    os.mkdir(path)\n",
        "  except OSError:\n",
        "    print (\"la création du dossier %s a échoué\" % path)\n",
        "  else:\n",
        "    print (\"Réussite de la création du dossier %s \" % path)\n",
        "\n",
        "def extracted(url, data):\n",
        "  \"\"\"Téléchargement des données zipées et extraction dans un dossier\"\"\"\n",
        "  try:\n",
        "    with RemoteZip(url) as zip:\n",
        "      zip.extractall(path=data)\n",
        "  except :\n",
        "    print (\"Le zip n'a pas pu être chargé au lien %s \" % url)\n",
        "  \n",
        "def is_all_values_table_null(array):\n",
        "  test = False\n",
        "  if all('' == s or s.isspace() for s in array):\n",
        "    test = True\n",
        "  return test\n",
        "    \n",
        "def extracted_text_split(imageName, lang):\n",
        "  \"\"\"Extraire le text sur l'image et spliter le text selon espace.\"\"\"\n",
        "  im = np.array(Image.open(imageName), dtype=np.uint8)\n",
        "  try :\n",
        "    extracted_text = pytesseract.image_to_string(im, lang)\n",
        "  except :\n",
        "    #L image n'a pas pu être traité. C'est a dire l'extraction du texte a échoué.\n",
        "    copy_file_folder(data + '/' + file_name, image_NO_extract_path + '/' + file_name)\n",
        "  text_split_line = extracted_text.splitlines()\n",
        "  return text_split_line\n",
        "\n",
        "def extracted_text_split_file_name(file_path):\n",
        "  \"\"\"Faire l'extraction en précisant le chemen de l'image.\"\"\"\n",
        "  im = file_path\n",
        "  text_split_text = extracted_text_split(im, lang)\n",
        "  return text_split_text\n",
        "\n",
        "def read_all_line_file(text_split_text, file_name):\n",
        "  \"\"\"Rechercher les information selon les patterns défis.\"\"\"\n",
        "  file_info_read_all_line_file = {}\n",
        "  if is_all_values_table_null(text_split_text):\n",
        "    copy_file_folder(data + '/' + file_name, image_NO_read_text_path + '/' + file_name)\n",
        "    file_info_read_all_line_file[bad_info_candidat_no_value] = \"Nous avons une chaîne vide, Verifions s'il n'y a aucun texte sur l'image.\"\n",
        "    file_info_read_all_line_file[warning_situation] = \"Erreur 002\"\n",
        "  for line in text_split_text:\n",
        "    for regex in list_regex:\n",
        "      if regexLine(regex, line):\n",
        "        if hasNumbers(line):\n",
        "          file_info_read_all_line_file[good_info_candidat] = extract_amount(regex_amount, line)\n",
        "        else:\n",
        "          file_info_read_all_line_file[bad_info_candidat_value] = line\n",
        "          file_info_read_all_line_file[warning_situation] = \"Erreur 003\"\n",
        "  return file_info_read_all_line_file\n",
        "\n",
        "def regexLine(regex, line):\n",
        "  \"\"\"Appliquer une expression régulière.\"\"\"\n",
        "  return re.search(regex, line, re.IGNORECASE)\n",
        "    \n",
        "def copy_file_folder(file_name, path):\n",
        "  \"\"\"Copier un fichier d'un dossier à un autre.\"\"\"\n",
        "  copyfile(file_name, path)\n",
        "\n",
        "def get_all_names_files(data):\n",
        "  \"\"\"Avoir la liste de tout les fichiers.\"\"\"\n",
        "  try :\n",
        "    list_files = os.listdir(data)\n",
        "  except OSError:\n",
        "    print (\"La lecture de tout les fichiers dans le dossier %s a échoué\" % data)\n",
        "  else:\n",
        "    print (\"Réussite de la lecture de tout les fichiers dans le dossier %s \" % data)\n",
        "  return list_files\n",
        "\n",
        "def get_all_amount(data):\n",
        "  \"\"\"Avoir le montant TTC de toute les photos de facture lues dans un dossier fournie.\"\"\"\n",
        "  files_infos_results = []\n",
        "  temp_list_files = {}\n",
        "\n",
        "  temp_list_files = get_all_names_files(data)\n",
        "\n",
        "  if len(temp_list_files) == 0 :\n",
        "    print(\"Le dossier est vide\")\n",
        "  else :\n",
        "    for image_filename in temp_list_files:\n",
        "      file_info_res = get_amount(image_filename)\n",
        "      files_infos_results.append(file_info_res)\n",
        "  return files_infos_results\n",
        "\n",
        "def get_amount(file_name):\n",
        "   \"\"\"Avoir le montant TTC d'une photo de facture.\"\"\"\n",
        "   file_info_result = {}\n",
        "   amount_info = {}\n",
        "   text_split_text  = extracted_text_split_file_name(data + '/' + file_name)\n",
        "   temp_file_info_result = read_all_line_file(text_split_text,file_name) \n",
        "   file_info_result[\"file_Name\"] = file_name\n",
        "   file_info_result['Amount'] = temp_file_info_result\n",
        "   amount_info = file_info_result\n",
        "   file_info_result = {}\n",
        "   return amount_info\n",
        "\n",
        "def create_csv(csv_file_name):\n",
        "  \"\"\"Ajouter une information au rapport cvs \"\"\"\n",
        "  # field names \n",
        "  fields = ['Amount', 'File_Name', 'File_State'] \n",
        "  # name of csv file \n",
        "  filename = csv_file_name\n",
        "  # writing to csv file \n",
        "  f = open(filename, 'w')\n",
        "  with f as csvfile: \n",
        "    # creating a csv dict writer object\n",
        "    writer = csv.DictWriter(csvfile, fieldnames = fields)\n",
        "    # writing headers (field names)   \n",
        "    writer.writeheader()\n",
        "    f.close()  \n",
        "\n",
        "def save_data_csv(dict_data, csv_file):\n",
        "  \"\"\"Ajouter une information au rapport cvs \"\"\"\n",
        "  if isinstance(dict_data, list) == False :\n",
        "    tab_res_info = []\n",
        "    dict_data = tab_res_info.append(dict_data)\n",
        "  dict_data = dict_data\n",
        "  filename = csv_file\n",
        "  fields = ['Amount', 'File_Name', 'File_State'] \n",
        "  f = open(filename, 'a')\n",
        "  # writing to csv file \n",
        "  with f as csvfile: \n",
        "    # creating a csv dict writer object\n",
        "    writer = csv.DictWriter(csvfile, fieldnames = fields)\n",
        "    writer.writerows(dict_data)  \n",
        "    f.close() \n",
        "\n",
        "def info_csv(file_name, value):\n",
        "  \"\"\"Construction de dictionnaire pour le rapport cvs \"\"\"\n",
        "  temp_csv_info_save = {}\n",
        "  temp_csv_info_save['File_Name'] = file_name\n",
        "  temp = value\n",
        "  key_temp = list(temp.keys())\n",
        "  if good_info_candidat in key_temp:\n",
        "    temp_csv_info_save['Amount']= value[good_info_candidat]\n",
        "    state = good_state\n",
        "  elif ((bad_info_candidat_value in key_temp) ) : \n",
        "    state = bad_state \n",
        "    temp_csv_info_save['Amount']= value[bad_info_candidat_value]\n",
        "  elif ( (bad_info_candidat_no_value in key_temp) ) :\n",
        "    state = bad_state \n",
        "    temp_csv_info_save['Amount']= value[bad_info_candidat_no_value]\n",
        "  elif ((bad_info_not_foreseen in key_temp) ) :\n",
        "    state = bad_state \n",
        "    temp_csv_info_save['Amount']= value[bad_info_not_foreseen]\n",
        "  else :\n",
        "    state = bad_state   \n",
        "    temp_csv_info_save['Amount']= \"Erreur Non Prévuer\"  \n",
        "  temp_csv_info_save['File_State'] = state\n",
        "  return temp_csv_info_save\n",
        "\n",
        "def save_info(element):\n",
        "  temp_csv_info_save = {}\n",
        "  all_info_good_array = []\n",
        "  all_info_bad_array = []\n",
        "  all_info_array = []\n",
        "  value_amount = element[\"Amount\"]\n",
        "  value_file = element[\"file_Name\"]\n",
        "  res_key = list(value_amount.keys())\n",
        "  if good_info_candidat in res_key:\n",
        "    copyfile(data + '/' + value_file, image_extract_path + '/' + value_file)\n",
        "    temp_csv_info_save = info_csv(value_file, value_amount )\n",
        "    all_info_good_array.append(temp_csv_info_save)\n",
        "    all_info_array.append(temp_csv_info_save)\n",
        "  elif ( (bad_info_candidat_value in res_key) ) : \n",
        "    copyfile(data + '/' + value_file, bad_info_candidat_value + '/' + value_file)\n",
        "    temp_csv_info_save = info_csv(value_file, value_amount)\n",
        "    all_info_bad_array.append(temp_csv_info_save)\n",
        "    all_info_array.append(temp_csv_info_save)\n",
        "  elif ((bad_info_not_foreseen in res_key) ) :\n",
        "    copyfile(data + '/' + value_file, bad_info_candidat_no_value + '/' + value_file)\n",
        "    temp_csv_info_save = info_csv(value_file, value_amount )\n",
        "    all_info_bad_array.append(temp_csv_info_save)\n",
        "    all_info_array.append(temp_csv_info_save)\n",
        "  elif ((bad_info_not_foreseen in res_key) ) :\n",
        "    copyfile(data + '/' + value_file, bad_info_not_foreseen + '/' + value_file)\n",
        "    temp_csv_info_save = info_csv(value_file, value_amount )\n",
        "    all_info_bad_array.append(temp_csv_info_save)\n",
        "    all_info_array.append(temp_csv_info_save)\n",
        "  else : \n",
        "    copyfile(data + '/' + value_file, warning_situation + '/' + value_file)\n",
        "    temp_csv_info_save = info_csv(value_file, value_amount )\n",
        "    all_info_bad_array.append(temp_csv_info_save)\n",
        "    all_info_array.append(temp_csv_info_save)\n",
        "  save_data_csv(all_info_bad_array, all_info_bad_csv_file)\n",
        "  save_data_csv(all_info_array, all_info_csv_file)\n",
        "  save_data_csv(all_info_good_array, all_info_good_csv_file)\n",
        "     \n",
        "def save_all_infos(file_info_res):\n",
        "  \"\"\"Ranger la facture selon le résultat du traitement.\"\"\"\n",
        "  if isinstance(file_info_res, list) == False :\n",
        "    save_info(file_info_res)\n",
        "  for element in file_info_res :\n",
        "    save_info(element)\n"
      ],
      "execution_count": 95,
      "outputs": []
    },
    {
      "cell_type": "markdown",
      "metadata": {
        "id": "k6xqLUg5ZU5w",
        "colab_type": "text"
      },
      "source": [
        "##Création des dossiers\n",
        "Dossier de toute les photos de facture\n",
        "\n",
        "Dossier des factures dont l'extraction du montant ttc a réussi\n",
        "\n",
        "Dossier des factures dont l'extraction des montant ttc a échoué\n"
      ]
    },
    {
      "cell_type": "code",
      "metadata": {
        "id": "0qd0F9IPjcJJ",
        "colab_type": "code",
        "colab": {}
      },
      "source": [
        "createFolder(image_extract_path)\n",
        "createFolder(image_NO_extract_path)\n",
        "createFolder(image_NO_read_text_path)\n",
        "createFolder(bad_info_candidat_no_value)\n",
        "createFolder(bad_info_candidat_value)\n",
        "createFolder(bad_info_not_foreseen)\n",
        "createFolder(data)\n",
        "createFolder(warning_situation)"
      ],
      "execution_count": null,
      "outputs": []
    },
    {
      "cell_type": "code",
      "metadata": {
        "id": "kb-OneQ1MHtb",
        "colab_type": "code",
        "colab": {}
      },
      "source": [
        "create_csv(all_info_csv_file)\n",
        "create_csv(all_info_bad_csv_file)\n",
        "create_csv(all_info_good_csv_file)"
      ],
      "execution_count": 97,
      "outputs": []
    },
    {
      "cell_type": "markdown",
      "metadata": {
        "id": "_SsSwJKcfyU6",
        "colab_type": "text"
      },
      "source": [
        "Téléchargement du zip des photos et extraction dans le dossier de toute les factures"
      ]
    },
    {
      "cell_type": "code",
      "metadata": {
        "id": "EH1X_d-AQfqg",
        "colab_type": "code",
        "colab": {}
      },
      "source": [
        "extracted(url, data)"
      ],
      "execution_count": 8,
      "outputs": []
    },
    {
      "cell_type": "markdown",
      "metadata": {
        "id": "2HiY6OAxs_fi",
        "colab_type": "text"
      },
      "source": [
        "Extraction de montant ttc pour une facture"
      ]
    },
    {
      "cell_type": "code",
      "metadata": {
        "id": "C5RBxcE7EV2i",
        "colab_type": "code",
        "colab": {
          "base_uri": "https://localhost:8080/",
          "height": 51
        },
        "outputId": "eb97aed5-2d95-4156-f29e-3077018601ab"
      },
      "source": [
        "file_name = '1008-receipt.jpg'\n",
        "res = get_amount(file_name)\n",
        "print(\"Le nom du fichier est : \" + res['file_Name']+ \"\\n\" + \"et son montant est : \" ,res['Amount'] )"
      ],
      "execution_count": 96,
      "outputs": [
        {
          "output_type": "stream",
          "text": [
            "Le nom du fichier est : 1008-receipt.jpg\n",
            "et son montant est :  {'good_info_candidat': ['24.47']}\n"
          ],
          "name": "stdout"
        }
      ]
    },
    {
      "cell_type": "code",
      "metadata": {
        "id": "cabDGNtNShi8",
        "colab_type": "code",
        "colab": {}
      },
      "source": [
        "extracted_text_split_file_name('data/'+file_name)"
      ],
      "execution_count": null,
      "outputs": []
    },
    {
      "cell_type": "code",
      "metadata": {
        "id": "71aNFF85XOkV",
        "colab_type": "code",
        "colab": {}
      },
      "source": [
        "save_info(res)"
      ],
      "execution_count": 10,
      "outputs": []
    },
    {
      "cell_type": "markdown",
      "metadata": {
        "id": "nqBMrivevHsc",
        "colab_type": "text"
      },
      "source": [
        "Extraction de montant ttc pour toute les factures"
      ]
    },
    {
      "cell_type": "code",
      "metadata": {
        "id": "FmIVj6QbbC_m",
        "colab_type": "code",
        "colab": {
          "base_uri": "https://localhost:8080/",
          "height": 34
        },
        "outputId": "d06f2707-009f-4c9f-ca27-321564106017"
      },
      "source": [
        "dict_dat = get_all_amount(data)"
      ],
      "execution_count": 98,
      "outputs": [
        {
          "output_type": "stream",
          "text": [
            "Réussite de la lecture de tout les fichiers dans le dossier data \n"
          ],
          "name": "stdout"
        }
      ]
    },
    {
      "cell_type": "code",
      "metadata": {
        "id": "hZcFxV_4ro73",
        "colab_type": "code",
        "colab": {
          "base_uri": "https://localhost:8080/",
          "height": 1000
        },
        "outputId": "5d8e095d-f992-4134-8c85-7d137f173f6d"
      },
      "source": [
        "dict_dat"
      ],
      "execution_count": 100,
      "outputs": [
        {
          "output_type": "execute_result",
          "data": {
            "text/plain": [
              "[{'Amount': {'good_info_candidat': ['24.47']},\n",
              "  'file_Name': '1008-receipt.jpg'},\n",
              " {'Amount': {'good_info_candidat': ['8']}, 'file_Name': '1187-receipt.jpg'},\n",
              " {'Amount': {}, 'file_Name': '1159-receipt.jpg'},\n",
              " {'Amount': {}, 'file_Name': '1055-receipt.jpg'},\n",
              " {'Amount': {}, 'file_Name': '1144-receipt.jpg'},\n",
              " {'Amount': {}, 'file_Name': '1063-receipt.jpg'},\n",
              " {'Amount': {}, 'file_Name': '1169-receipt.jpg'},\n",
              " {'Amount': {'good_info_candidat': ['134', '46']},\n",
              "  'file_Name': '1133-receipt.jpg'},\n",
              " {'Amount': {'good_info_candidat': ['128.33']},\n",
              "  'file_Name': '1199-receipt.jpg'},\n",
              " {'Amount': {'good_info_candidat': ['53', '23']},\n",
              "  'file_Name': '1161-receipt.jpg'},\n",
              " {'Amount': {}, 'file_Name': '1062-receipt.jpg'},\n",
              " {'Amount': {'bad_info_candidat_no_value': \"Nous avons une chaîne vide, Verifions s'il n'y a aucun texte sur l'image.\",\n",
              "   'warning_situation': 'Erreur 002'},\n",
              "  'file_Name': '1001-receipt.jpg'},\n",
              " {'Amount': {}, 'file_Name': '1108-receipt.jpg'},\n",
              " {'Amount': {'good_info_candidat': ['142.93']},\n",
              "  'file_Name': '1089-receipt.jpg'},\n",
              " {'Amount': {'good_info_candidat': ['5.30']}, 'file_Name': '1196-receipt.jpg'},\n",
              " {'Amount': {'good_info_candidat': ['60.00']},\n",
              "  'file_Name': '1054-receipt.jpg'},\n",
              " {'Amount': {}, 'file_Name': '1033-receipt.jpg'},\n",
              " {'Amount': {}, 'file_Name': '1022-receipt.jpg'},\n",
              " {'Amount': {'good_info_candidat': ['92.22']},\n",
              "  'file_Name': '1080-receipt.jpg'},\n",
              " {'Amount': {}, 'file_Name': '1119-receipt.jpg'},\n",
              " {'Amount': {'good_info_candidat': ['01', '07', '13', '29', '42.16']},\n",
              "  'file_Name': '1166-receipt.jpg'},\n",
              " {'Amount': {}, 'file_Name': '1134-receipt.jpg'},\n",
              " {'Amount': {}, 'file_Name': '1072-receipt.jpg'},\n",
              " {'Amount': {}, 'file_Name': '1168-receipt.jpg'},\n",
              " {'Amount': {'good_info_candidat': ['54.20']},\n",
              "  'file_Name': '1179-receipt.jpg'},\n",
              " {'Amount': {'good_info_candidat': ['228.92']},\n",
              "  'file_Name': '1085-receipt.jpg'},\n",
              " {'Amount': {'good_info_candidat': ['26.76']},\n",
              "  'file_Name': '1127-receipt.jpg'},\n",
              " {'Amount': {}, 'file_Name': '1006-receipt.jpg'},\n",
              " {'Amount': {}, 'file_Name': '1193-receipt.jpg'},\n",
              " {'Amount': {}, 'file_Name': '1073-receipt.jpg'},\n",
              " {'Amount': {'good_info_candidat': ['24', '50']},\n",
              "  'file_Name': '1043-receipt.jpg'},\n",
              " {'Amount': {'bad_info_candidat_no_value': \"Nous avons une chaîne vide, Verifions s'il n'y a aucun texte sur l'image.\",\n",
              "   'warning_situation': 'Erreur 002'},\n",
              "  'file_Name': '1026-receipt.jpg'},\n",
              " {'Amount': {}, 'file_Name': '1045-receipt.jpg'},\n",
              " {'Amount': {'good_info_candidat': ['100.26']},\n",
              "  'file_Name': '1170-receipt.jpg'},\n",
              " {'Amount': {'good_info_candidat': ['69.79']},\n",
              "  'file_Name': '1077-receipt.jpg'},\n",
              " {'Amount': {'bad_info_candidat_no_value': \"Nous avons une chaîne vide, Verifions s'il n'y a aucun texte sur l'image.\",\n",
              "   'warning_situation': 'Erreur 002'},\n",
              "  'file_Name': '1192-receipt.jpg'},\n",
              " {'Amount': {'good_info_candidat': ['10.00']},\n",
              "  'file_Name': '1183-receipt.jpg'},\n",
              " {'Amount': {}, 'file_Name': '1180-receipt.jpg'},\n",
              " {'Amount': {'good_info_candidat': ['13.03']},\n",
              "  'file_Name': '1088-receipt.jpg'},\n",
              " {'Amount': {}, 'file_Name': '1157-receipt.jpg'},\n",
              " {'Amount': {'good_info_candidat': ['3.50']}, 'file_Name': '1032-receipt.jpg'},\n",
              " {'Amount': {}, 'file_Name': '1064-receipt.jpg'},\n",
              " {'Amount': {}, 'file_Name': '1067-receipt.jpg'},\n",
              " {'Amount': {}, 'file_Name': '1003-receipt.jpg'},\n",
              " {'Amount': {'good_info_candidat': ['157', '51']},\n",
              "  'file_Name': '1086-receipt.jpg'},\n",
              " {'Amount': {}, 'file_Name': '1034-receipt.jpg'},\n",
              " {'Amount': {'good_info_candidat': ['33', '26']},\n",
              "  'file_Name': '1012-receipt.jpg'},\n",
              " {'Amount': {'good_info_candidat': ['44.35']},\n",
              "  'file_Name': '1031-receipt.jpg'},\n",
              " {'Amount': {}, 'file_Name': '1121-receipt.jpg'},\n",
              " {'Amount': {}, 'file_Name': '1142-receipt.jpg'},\n",
              " {'Amount': {'good_info_candidat': ['25.47']},\n",
              "  'file_Name': '1140-receipt.jpg'},\n",
              " {'Amount': {}, 'file_Name': '1021-receipt.jpg'},\n",
              " {'Amount': {'good_info_candidat': ['41.31']},\n",
              "  'file_Name': '1027-receipt.jpg'},\n",
              " {'Amount': {'good_info_candidat': ['46', '.98']},\n",
              "  'file_Name': '1096-receipt.jpg'},\n",
              " {'Amount': {'good_info_candidat': ['29.96']},\n",
              "  'file_Name': '1113-receipt.jpg'},\n",
              " {'Amount': {'good_info_candidat': ['47.30']},\n",
              "  'file_Name': '1177-receipt.jpg'},\n",
              " {'Amount': {'good_info_candidat': ['68', '89']},\n",
              "  'file_Name': '1154-receipt.jpg'},\n",
              " {'Amount': {}, 'file_Name': '1155-receipt.jpg'},\n",
              " {'Amount': {}, 'file_Name': '1075-receipt.jpg'},\n",
              " {'Amount': {'good_info_candidat': ['86.50']},\n",
              "  'file_Name': '1052-receipt.jpg'},\n",
              " {'Amount': {}, 'file_Name': '1017-receipt.jpg'},\n",
              " {'Amount': {}, 'file_Name': '1038-receipt.jpg'},\n",
              " {'Amount': {}, 'file_Name': '1130-receipt.jpg'},\n",
              " {'Amount': {}, 'file_Name': '1058-receipt.jpg'},\n",
              " {'Amount': {'good_info_candidat': ['23', '46']},\n",
              "  'file_Name': '1120-receipt.jpg'},\n",
              " {'Amount': {}, 'file_Name': '1059-receipt.jpg'},\n",
              " {'Amount': {}, 'file_Name': '1010-receipt.jpg'},\n",
              " {'Amount': {'good_info_candidat': ['35.52']},\n",
              "  'file_Name': '1016-receipt.jpg'},\n",
              " {'Amount': {'good_info_candidat': ['26.96']},\n",
              "  'file_Name': '1188-receipt.jpg'},\n",
              " {'Amount': {}, 'file_Name': '1172-receipt.jpg'},\n",
              " {'Amount': {}, 'file_Name': '1082-receipt.jpg'},\n",
              " {'Amount': {'good_info_candidat': ['3']}, 'file_Name': '1118-receipt.jpg'},\n",
              " {'Amount': {}, 'file_Name': '1174-receipt.jpg'},\n",
              " {'Amount': {}, 'file_Name': '1019-receipt.jpg'},\n",
              " {'Amount': {'good_info_candidat': ['28.04']},\n",
              "  'file_Name': '1040-receipt.jpg'},\n",
              " {'Amount': {'good_info_candidat': ['91.45']},\n",
              "  'file_Name': '1048-receipt.jpg'},\n",
              " {'Amount': {'good_info_candidat': ['0']}, 'file_Name': '1095-receipt.jpg'},\n",
              " {'Amount': {'good_info_candidat': ['33.75']},\n",
              "  'file_Name': '1195-receipt.jpg'},\n",
              " {'Amount': {}, 'file_Name': '1137-receipt.jpg'},\n",
              " {'Amount': {'good_info_candidat': ['24.24']},\n",
              "  'file_Name': '1138-receipt.jpg'},\n",
              " {'Amount': {}, 'file_Name': '1039-receipt.jpg'},\n",
              " {'Amount': {'good_info_candidat': ['19.10']},\n",
              "  'file_Name': '1125-receipt.jpg'},\n",
              " {'Amount': {}, 'file_Name': '1060-receipt.jpg'},\n",
              " {'Amount': {'good_info_candidat': ['11', '18', '12', '45', '52', '76']},\n",
              "  'file_Name': '1036-receipt.jpg'},\n",
              " {'Amount': {}, 'file_Name': '1128-receipt.jpg'},\n",
              " {'Amount': {'good_info_candidat': ['16.24']},\n",
              "  'file_Name': '1102-receipt.jpg'},\n",
              " {'Amount': {'good_info_candidat': ['184.47']},\n",
              "  'file_Name': '1112-receipt.jpg'},\n",
              " {'Amount': {}, 'file_Name': '1167-receipt.jpg'},\n",
              " {'Amount': {}, 'file_Name': '1104-receipt.jpg'},\n",
              " {'Amount': {'good_info_candidat': ['1', '.03']},\n",
              "  'file_Name': '1004-receipt.jpg'},\n",
              " {'Amount': {}, 'file_Name': '1061-receipt.jpg'},\n",
              " {'Amount': {'good_info_candidat': ['5.29']}, 'file_Name': '1149-receipt.jpg'},\n",
              " {'Amount': {'good_info_candidat': ['10.00']},\n",
              "  'file_Name': '1175-receipt.jpg'},\n",
              " {'Amount': {'good_info_candidat': ['74.49']},\n",
              "  'file_Name': '1150-receipt.jpg'},\n",
              " {'Amount': {}, 'file_Name': '1189-receipt.jpg'},\n",
              " {'Amount': {'good_info_candidat': ['158.87']},\n",
              "  'file_Name': '1117-receipt.jpg'},\n",
              " {'Amount': {'good_info_candidat': ['7']}, 'file_Name': '1115-receipt.jpg'},\n",
              " {'Amount': {'good_info_candidat': ['179.94']},\n",
              "  'file_Name': '1005-receipt.jpg'},\n",
              " {'Amount': {}, 'file_Name': '1173-receipt.jpg'},\n",
              " {'Amount': {}, 'file_Name': '1053-receipt.jpg'},\n",
              " {'Amount': {'good_info_candidat': ['13925']},\n",
              "  'file_Name': '1097-receipt.jpg'},\n",
              " {'Amount': {}, 'file_Name': '1071-receipt.jpg'},\n",
              " {'Amount': {}, 'file_Name': '1123-receipt.jpg'},\n",
              " {'Amount': {'good_info_candidat': ['146.85']},\n",
              "  'file_Name': '1110-receipt.jpg'},\n",
              " {'Amount': {'good_info_candidat': ['09', '19', '24.72']},\n",
              "  'file_Name': '1162-receipt.jpg'},\n",
              " {'Amount': {}, 'file_Name': '1065-receipt.jpg'},\n",
              " {'Amount': {'good_info_candidat': ['43', '60']},\n",
              "  'file_Name': '1182-receipt.jpg'},\n",
              " {'Amount': {}, 'file_Name': '1087-receipt.jpg'},\n",
              " {'Amount': {}, 'file_Name': '1178-receipt.jpg'},\n",
              " {'Amount': {}, 'file_Name': '1013-receipt.jpg'},\n",
              " {'Amount': {'bad_info_candidat_no_value': \"Nous avons une chaîne vide, Verifions s'il n'y a aucun texte sur l'image.\",\n",
              "   'warning_situation': 'Erreur 002'},\n",
              "  'file_Name': '1047-receipt.jpg'},\n",
              " {'Amount': {'good_info_candidat': ['24.25']},\n",
              "  'file_Name': '1035-receipt.jpg'},\n",
              " {'Amount': {'good_info_candidat': ['28.78']},\n",
              "  'file_Name': '1091-receipt.jpg'},\n",
              " {'Amount': {'good_info_candidat': ['31', '.80']},\n",
              "  'file_Name': '1126-receipt.jpg'},\n",
              " {'Amount': {}, 'file_Name': '1105-receipt.jpg'},\n",
              " {'Amount': {}, 'file_Name': '1015-receipt.jpg'},\n",
              " {'Amount': {}, 'file_Name': '1191-receipt.jpg'},\n",
              " {'Amount': {}, 'file_Name': '1106-receipt.jpg'},\n",
              " {'Amount': {'good_info_candidat': ['05', '19', '65.14']},\n",
              "  'file_Name': '1145-receipt.jpg'},\n",
              " {'Amount': {}, 'file_Name': '1046-receipt.jpg'},\n",
              " {'Amount': {'good_info_candidat': ['12875']},\n",
              "  'file_Name': '1083-receipt.jpg'},\n",
              " {'Amount': {'good_info_candidat': ['34.12']},\n",
              "  'file_Name': '1116-receipt.jpg'},\n",
              " {'Amount': {}, 'file_Name': '1181-receipt.jpg'},\n",
              " {'Amount': {}, 'file_Name': '1041-receipt.jpg'},\n",
              " {'Amount': {}, 'file_Name': '1163-receipt.jpg'},\n",
              " {'Amount': {'good_info_candidat': ['17.18']},\n",
              "  'file_Name': '1129-receipt.jpg'},\n",
              " {'Amount': {'good_info_candidat': ['11.62']},\n",
              "  'file_Name': '1151-receipt.jpg'},\n",
              " {'Amount': {'good_info_candidat': ['200.00']},\n",
              "  'file_Name': '1037-receipt.jpg'},\n",
              " {'Amount': {'good_info_candidat': ['11', '24', '2017', '12', '13', '00072']},\n",
              "  'file_Name': '1131-receipt.jpg'},\n",
              " {'Amount': {}, 'file_Name': '1143-receipt.jpg'},\n",
              " {'Amount': {}, 'file_Name': '1070-receipt.jpg'},\n",
              " {'Amount': {}, 'file_Name': '1078-receipt.jpg'},\n",
              " {'Amount': {'good_info_candidat': ['33.92']},\n",
              "  'file_Name': '1024-receipt.jpg'},\n",
              " {'Amount': {'good_info_candidat': ['2.37']}, 'file_Name': '1156-receipt.jpg'},\n",
              " {'Amount': {}, 'file_Name': '1029-receipt.jpg'},\n",
              " {'Amount': {'good_info_candidat': ['27.62']},\n",
              "  'file_Name': '1109-receipt.jpg'},\n",
              " {'Amount': {}, 'file_Name': '1132-receipt.jpg'},\n",
              " {'Amount': {}, 'file_Name': '1018-receipt.jpg'},\n",
              " {'Amount': {'good_info_candidat': ['69.90']},\n",
              "  'file_Name': '1042-receipt.jpg'},\n",
              " {'Amount': {'good_info_candidat': ['3']}, 'file_Name': '1025-receipt.jpg'},\n",
              " {'Amount': {}, 'file_Name': '1107-receipt.jpg'},\n",
              " {'Amount': {}, 'file_Name': '1009-receipt.jpg'},\n",
              " {'Amount': {}, 'file_Name': '1152-receipt.jpg'},\n",
              " {'Amount': {'good_info_candidat': ['51.90']},\n",
              "  'file_Name': '1000-receipt.jpg'},\n",
              " {'Amount': {'good_info_candidat': ['780.45']},\n",
              "  'file_Name': '1158-receipt.jpg'},\n",
              " {'Amount': {'good_info_candidat': ['4']}, 'file_Name': '1122-receipt.jpg'},\n",
              " {'Amount': {}, 'file_Name': '1093-receipt.jpg'},\n",
              " {'Amount': {'good_info_candidat': ['83.64']},\n",
              "  'file_Name': '1124-receipt.jpg'},\n",
              " {'Amount': {}, 'file_Name': '1051-receipt.jpg'},\n",
              " {'Amount': {}, 'file_Name': '1074-receipt.jpg'},\n",
              " {'Amount': {}, 'file_Name': '1069-receipt.jpg'},\n",
              " {'Amount': {}, 'file_Name': '1194-receipt.jpg'},\n",
              " {'Amount': {}, 'file_Name': '1197-receipt.jpg'},\n",
              " {'Amount': {'good_info_candidat': ['161']}, 'file_Name': '1002-receipt.jpg'},\n",
              " {'Amount': {'bad_info_candidat_no_value': \"Nous avons une chaîne vide, Verifions s'il n'y a aucun texte sur l'image.\",\n",
              "   'warning_situation': 'Erreur 002'},\n",
              "  'file_Name': '1076-receipt.jpg'},\n",
              " {'Amount': {'good_info_candidat': ['03', '22', '9', '54', '193.35']},\n",
              "  'file_Name': '1184-receipt.jpg'},\n",
              " {'Amount': {'good_info_candidat': ['13.50']},\n",
              "  'file_Name': '1094-receipt.jpg'},\n",
              " {'Amount': {}, 'file_Name': '1044-receipt.jpg'},\n",
              " {'Amount': {}, 'file_Name': '1135-receipt.jpg'},\n",
              " {'Amount': {'good_info_candidat': ['235.19']},\n",
              "  'file_Name': '1079-receipt.jpg'},\n",
              " {'Amount': {'good_info_candidat': ['1', '00']},\n",
              "  'file_Name': '1190-receipt.jpg'},\n",
              " {'Amount': {}, 'file_Name': '1028-receipt.jpg'},\n",
              " {'Amount': {}, 'file_Name': '1164-receipt.jpg'},\n",
              " {'Amount': {'good_info_candidat': ['143.71']},\n",
              "  'file_Name': '1007-receipt.jpg'},\n",
              " {'Amount': {}, 'file_Name': '1111-receipt.jpg'},\n",
              " {'Amount': {'good_info_candidat': ['154.7']},\n",
              "  'file_Name': '1198-receipt.jpg'},\n",
              " {'Amount': {'good_info_candidat': ['43.30']},\n",
              "  'file_Name': '1092-receipt.jpg'},\n",
              " {'Amount': {}, 'file_Name': '1147-receipt.jpg'},\n",
              " {'Amount': {}, 'file_Name': '1146-receipt.jpg'},\n",
              " {'Amount': {}, 'file_Name': '1171-receipt.jpg'},\n",
              " {'Amount': {}, 'file_Name': '1100-receipt.jpg'},\n",
              " {'Amount': {}, 'file_Name': '1186-receipt.jpg'},\n",
              " {'Amount': {'good_info_candidat': ['14.06']},\n",
              "  'file_Name': '1101-receipt.jpg'},\n",
              " {'Amount': {}, 'file_Name': '1014-receipt.jpg'},\n",
              " {'Amount': {'good_info_candidat': ['38.75']},\n",
              "  'file_Name': '1049-receipt.jpg'},\n",
              " {'Amount': {}, 'file_Name': '1176-receipt.jpg'},\n",
              " {'Amount': {'good_info_candidat': ['5']}, 'file_Name': '1084-receipt.jpg'},\n",
              " {'Amount': {}, 'file_Name': '1185-receipt.jpg'},\n",
              " {'Amount': {'good_info_candidat': ['08', '000', '13.07']},\n",
              "  'file_Name': '1148-receipt.jpg'},\n",
              " {'Amount': {}, 'file_Name': '1068-receipt.jpg'},\n",
              " {'Amount': {'good_info_candidat': ['13.13']},\n",
              "  'file_Name': '1136-receipt.jpg'},\n",
              " {'Amount': {'good_info_candidat': ['1.74']}, 'file_Name': '1050-receipt.jpg'},\n",
              " {'Amount': {'good_info_candidat': ['64', '52']},\n",
              "  'file_Name': '1099-receipt.jpg'},\n",
              " {'Amount': {'good_info_candidat': ['9.97']}, 'file_Name': '1081-receipt.jpg'},\n",
              " {'Amount': {'good_info_candidat': ['88', '.62']},\n",
              "  'file_Name': '1141-receipt.jpg'},\n",
              " {'Amount': {'good_info_candidat': ['290', '00']},\n",
              "  'file_Name': '1153-receipt.jpg'},\n",
              " {'Amount': {}, 'file_Name': '1139-receipt.jpg'},\n",
              " {'Amount': {}, 'file_Name': '1020-receipt.jpg'},\n",
              " {'Amount': {'good_info_candidat': ['42', '74']},\n",
              "  'file_Name': '1103-receipt.jpg'},\n",
              " {'Amount': {}, 'file_Name': '1114-receipt.jpg'},\n",
              " {'Amount': {}, 'file_Name': '1066-receipt.jpg'},\n",
              " {'Amount': {'good_info_candidat': ['30.15']},\n",
              "  'file_Name': '1023-receipt.jpg'},\n",
              " {'Amount': {}, 'file_Name': '1056-receipt.jpg'},\n",
              " {'Amount': {'good_info_candidat': ['117.00']},\n",
              "  'file_Name': '1165-receipt.jpg'},\n",
              " {'Amount': {}, 'file_Name': '1030-receipt.jpg'},\n",
              " {'Amount': {}, 'file_Name': '1011-receipt.jpg'},\n",
              " {'Amount': {'good_info_candidat': ['67.89']},\n",
              "  'file_Name': '1098-receipt.jpg'},\n",
              " {'Amount': {'good_info_candidat': ['9.58']}, 'file_Name': '1057-receipt.jpg'},\n",
              " {'Amount': {}, 'file_Name': '1090-receipt.jpg'},\n",
              " {'Amount': {}, 'file_Name': '1160-receipt.jpg'}]"
            ]
          },
          "metadata": {
            "tags": []
          },
          "execution_count": 100
        }
      ]
    },
    {
      "cell_type": "code",
      "metadata": {
        "id": "W0zRmNj6VPRs",
        "colab_type": "code",
        "colab": {}
      },
      "source": [
        "save_all_infos(dict_dat)"
      ],
      "execution_count": 99,
      "outputs": []
    },
    {
      "cell_type": "markdown",
      "metadata": {
        "colab_type": "text",
        "id": "HKF8rq3bzTUX"
      },
      "source": [
        "#References\n",
        "\n",
        "https://nanonets.com/blog/receipt-ocr/?fbclid=IwAR0H4VkHhpimqKIgEUQOUCOJS1mtk6vQREcv3MMiqJ2NpxG9LHZnsHM-aeE\n",
        "\n",
        "\n",
        "https://www.datacamp.com/community/tutorials/zip-file"
      ]
    }
  ]
}