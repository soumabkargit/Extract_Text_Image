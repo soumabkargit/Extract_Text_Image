{
  "nbformat": 4,
  "nbformat_minor": 0,
  "metadata": {
    "colab": {
      "name": "TesseractMethod.ipynb",
      "provenance": [],
      "toc_visible": true,
      "include_colab_link": true
    },
    "kernelspec": {
      "display_name": "Python 3",
      "language": "python",
      "name": "python3"
    },
    "language_info": {
      "codemirror_mode": {
        "name": "ipython",
        "version": 3
      },
      "file_extension": ".py",
      "mimetype": "text/x-python",
      "name": "python",
      "nbconvert_exporter": "python",
      "pygments_lexer": "ipython3",
      "version": "3.7.6"
    }
  },
  "cells": [
    {
      "cell_type": "markdown",
      "metadata": {
        "id": "view-in-github",
        "colab_type": "text"
      },
      "source": [
        "<a href=\"https://colab.research.google.com/github/soumabkargit/Extract_Text_Image/blob/master/TesseractMethod.ipynb\" target=\"_parent\"><img src=\"https://colab.research.google.com/assets/colab-badge.svg\" alt=\"Open In Colab\"/></a>"
      ]
    },
    {
      "cell_type": "markdown",
      "metadata": {
        "colab_type": "text",
        "id": "ZZfsXQ75Tpr4"
      },
      "source": [
        "# **Tesseract installation**\n",
        "\n",
        "[https://github.com/tesseract-ocr/tesseract/wiki](https://)\n"
      ]
    },
    {
      "cell_type": "code",
      "metadata": {
        "colab_type": "code",
        "id": "fBxV6GDWzMEM",
        "colab": {}
      },
      "source": [
        "!sudo apt install tesseract-ocr\n",
        "!pip install pytesseract\n",
        "!sudo apt-get install tesseract-ocr-eng\n",
        "!pip install remotezip"
      ],
      "execution_count": null,
      "outputs": []
    },
    {
      "cell_type": "markdown",
      "metadata": {
        "colab_type": "text",
        "id": "k7RjnMkSVrau"
      },
      "source": [
        "##Importing all useful dependencies"
      ]
    },
    {
      "cell_type": "code",
      "metadata": {
        "colab_type": "code",
        "id": "mrBJ-l8IyRu5",
        "colab": {}
      },
      "source": [
        "from matplotlib.image import imread\n",
        "import numpy as np\n",
        "from matplotlib import pyplot as plt\n",
        "import os\n",
        "import pytesseract\n",
        "from pytesseract import Output\n",
        "import matplotlib.patches as patches\n",
        "from PIL import Image\n",
        "import re\n",
        "from pathlib import Path\n",
        "from shutil import copyfile\n",
        "from remotezip import RemoteZip\n",
        "import json\n",
        "import csv\n",
        "# Technically not necessary in newest versions of jupyter\n",
        "%matplotlib inline"
      ],
      "execution_count": null,
      "outputs": []
    },
    {
      "cell_type": "code",
      "metadata": {
        "id": "itWMgSI6egp-",
        "colab_type": "code",
        "colab": {}
      },
      "source": [
        "def hasNumbers(inputString):\n",
        "  return any(char.isdigit() for char in inputString)\n",
        "\n",
        "def extract_total(array):\n",
        "  max_array = 0\n",
        "  temp = []\n",
        "  if len(array) == 1 :\n",
        "    temp = [float(s) for s in array[0].split() if s.isdigit()]\n",
        "    max_array = temp[0]\n",
        "    print(max_array)\n",
        "  elif len(array) > 1 :\n",
        "    for i in range(len(array)):\n",
        "      temp = max([int(s) for s in array[i].split() if s.isdigit()])\n",
        "      if max_array < temp[0]:\n",
        "        max_array = temp[0]    \n",
        "  else :\n",
        "    print('empty array')\n",
        "  return max_array\n",
        "\n",
        "#def buidJsonObject(dict):\n",
        "\n",
        "\n",
        "\n",
        "def createFolder(path):\n",
        "  try:\n",
        "    os.mkdir(path)\n",
        "  except OSError:\n",
        "    print (\"Creation of the directory %s failed\" % path)\n",
        "  else:\n",
        "    print (\"Successfully created the directory %s \" % path)\n",
        "\n",
        "def extracted(url, data):\n",
        "  with RemoteZip(url) as zip:\n",
        "    zip.extractall(path=data)\n",
        "  \n",
        "def extracted_text_split(imageName, lang):\n",
        "  im = np.array(Image.open(imageName), dtype=np.uint8)\n",
        "  extracted_text = pytesseract.image_to_string(im, lang)\n",
        "  text_split_line = extracted_text.splitlines()\n",
        "  return text_split_line\n",
        "  \n",
        "def regexLine(regex, line):\n",
        "  return re.search(regex,line,re.IGNORECASE)\n",
        "\n",
        "def copy_file_folder(file_name, path):\n",
        "  copyfile(file_name, path)\n"
      ],
      "execution_count": null,
      "outputs": []
    },
    {
      "cell_type": "code",
      "metadata": {
        "id": "Y8S1spQphmB9",
        "colab_type": "code",
        "colab": {}
      },
      "source": [
        "url = 'https://expressexpense.com/large-receipt-image-dataset-SRD.zip'\n",
        "lang = 'eng'\n",
        "image_extract_path = \"image_extract\"\n",
        "image_NO_extract_path = \"image_NO_extract\"\n",
        "image_NO_read_text_path = \"image_NO_read_text\"\n",
        "data = \"data\"\n",
        "regex = r'^TOTAL(.)*(\\:)*(\\d)*'\n",
        "list_good_files = []\n",
        "list_bad_files = []\n",
        "list_word_total = []\n",
        "candidat_good_total = []\n",
        "candidat_bad_total = []\n",
        "list_candidat_word_total = []\n",
        "list_word_total_file = []\n",
        "list_invoices = {}\n",
        "receipt_ocr = {}\n",
        "total_invoice_good_info = {}\n",
        "total_invoice_bad_info = {}\n",
        "all_total_invoice_info = {}"
      ],
      "execution_count": null,
      "outputs": []
    },
    {
      "cell_type": "code",
      "metadata": {
        "id": "0qd0F9IPjcJJ",
        "colab_type": "code",
        "colab": {
          "base_uri": "https://localhost:8080/",
          "height": 87
        },
        "outputId": "9790c3cd-ef13-4d75-be04-fc48849c1418"
      },
      "source": [
        "createFolder(image_extract_path)\n",
        "createFolder(image_NO_extract_path)\n",
        "createFolder(image_NO_read_text_path)\n",
        "createFolder(data)"
      ],
      "execution_count": null,
      "outputs": [
        {
          "output_type": "stream",
          "text": [
            "Creation of the directory image_extract failed\n",
            "Creation of the directory image_NO_extract failed\n",
            "Creation of the directory image_NO_read_text failed\n",
            "Creation of the directory data failed\n"
          ],
          "name": "stdout"
        }
      ]
    },
    {
      "cell_type": "code",
      "metadata": {
        "id": "EH1X_d-AQfqg",
        "colab_type": "code",
        "colab": {}
      },
      "source": [
        "extracted(url, data)"
      ],
      "execution_count": null,
      "outputs": []
    },
    {
      "cell_type": "code",
      "metadata": {
        "id": "c7ewG5yalsaV",
        "colab_type": "code",
        "colab": {}
      },
      "source": [
        "list_files = os.listdir(data)"
      ],
      "execution_count": null,
      "outputs": []
    },
    {
      "cell_type": "markdown",
      "metadata": {
        "colab_type": "text",
        "id": "cy5XplxPYXZz"
      },
      "source": [
        "##Dataset\n",
        "\n",
        "https://expressexpense.com/large-receipt-image-dataset-SRD.zip\n",
        "\n",
        "## Reading of all invoice images and extraction of the total amount.\n",
        "\n",
        "##Sort extracted and non-extracted images into respective folders."
      ]
    },
    {
      "cell_type": "code",
      "metadata": {
        "colab_type": "code",
        "id": "DiZgVopW1vTd",
        "colab": {
          "base_uri": "https://localhost:8080/",
          "height": 1000
        },
        "outputId": "86b223ce-4ede-43e9-bd50-f70c03a04c87"
      },
      "source": [
        "for image_filename in list_files:\n",
        "\n",
        "  im = data+'/'+image_filename\n",
        "  text_split_text = extracted_text_split(im, lang)\n",
        "  \n",
        "  for line in text_split_text:\n",
        "    if regexLine(regex, line):\n",
        "      list_word_total_file.append(line)\n",
        "\n",
        "  if len(list_word_total_file) == 0:\n",
        "    copy_file_folder(data + '/' + image_filename, image_NO_read_text_path + '/' + image_filename)\n",
        "  \n",
        "  for el in list_word_total_file:\n",
        "    if hasNumbers(el):\n",
        "      candidat_good_total.append(el)\n",
        "    else:\n",
        "      candidat_bad_total.append(el)\n",
        "\n",
        "  if len(candidat_good_total) > 0:\n",
        "    copyfile(data + '/' + image_filename, image_extract_path + '/' + image_filename)\n",
        "    total_invoice_good_info[image_filename] = candidat_good_total\n",
        "    list_good_files.append(image_filename)\n",
        "  elif len(candidat_bad_total) > 0 : \n",
        "    copy_file_folder(data + '/' + image_filename, image_NO_extract_path + '/' + image_filename)\n",
        "    total_invoice_bad_info[image_filename] = candidat_bad_total\n",
        "    list_bad_files.append(image_filename)\n",
        "  \n",
        "  list_word_total_file = []\n",
        "  candidat_good_total = []\n",
        "  candidat_bad_total = []\n",
        "\n",
        "total_invoice_good_info\n",
        "\n"
      ],
      "execution_count": null,
      "outputs": [
        {
          "output_type": "execute_result",
          "data": {
            "text/plain": [
              "{'1002-receipt.jpg': ['Total 161'],\n",
              " '1004-receipt.jpg': ['TOTAL. $1IS.03'],\n",
              " '1007-receipt.jpg': ['Total $143.71'],\n",
              " '1008-receipt.jpg': ['TOTAL: $24.47'],\n",
              " '1012-receipt.jpg': ['Total 24.36', 'Total $33 26'],\n",
              " '1016-receipt.jpg': ['Total $35.52'],\n",
              " '1023-receipt.jpg': ['Total 4 item(s)'],\n",
              " '1024-receipt.jpg': ['TOTAL : 33.92'],\n",
              " '1027-receipt.jpg': ['Total $41.31'],\n",
              " '1031-receipt.jpg': ['Total Due: 44.35'],\n",
              " '1035-receipt.jpg': ['total: $24.25'],\n",
              " '1037-receipt.jpg': ['Total 164.89'],\n",
              " '1040-receipt.jpg': ['Total $28.04'],\n",
              " '1048-receipt.jpg': ['Total 91.45'],\n",
              " '1049-receipt.jpg': ['Total Tax: $3.49', 'Total: $77.49'],\n",
              " '1050-receipt.jpg': ['Total Tax 1.74'],\n",
              " '1054-receipt.jpg': ['Total $56.50'],\n",
              " '1057-receipt.jpg': ['Total $9.58'],\n",
              " '1077-receipt.jpg': ['Total $69.79'],\n",
              " '1079-receipt.jpg': ['TOTAL 235.19'],\n",
              " '1080-receipt.jpg': ['TOTAL: 92.22'],\n",
              " '1081-receipt.jpg': ['Total $9.97'],\n",
              " '1085-receipt.jpg': ['Total 228.92'],\n",
              " '1086-receipt.jpg': ['TOTAL: $157.5'],\n",
              " '1088-receipt.jpg': ['TOTAL: $13.03'],\n",
              " '1089-receipt.jpg': ['Total Tax 5.43', 'Total 142.93'],\n",
              " '1091-receipt.jpg': ['TOTAL: 28.78'],\n",
              " '1092-receipt.jpg': ['Total: 43.30'],\n",
              " '1096-receipt.jpg': ['Total: $46 .98'],\n",
              " '1098-receipt.jpg': ['Total 67.89'],\n",
              " '1099-receipt.jpg': ['Total 55.51 |', 'Total 64.52'],\n",
              " '1101-receipt.jpg': ['Total $14.06'],\n",
              " '1102-receipt.jpg': ['TOTAL: $16.24'],\n",
              " '1103-receipt.jpg': ['TOTAL: $42. 74'],\n",
              " '1112-receipt.jpg': ['TOTAL 184.47'],\n",
              " '1116-receipt.jpg': ['Total Due: 34.12'],\n",
              " '1118-receipt.jpg': ['Total Itess 3'],\n",
              " '1120-receipt.jpg': ['TOTAL : 23. 46'],\n",
              " '1124-receipt.jpg': ['Total $83.64'],\n",
              " '1125-receipt.jpg': ['Total $19.10'],\n",
              " '1129-receipt.jpg': ['TOTAL: $17.18'],\n",
              " '1136-receipt.jpg': ['Total $13.13'],\n",
              " '1141-receipt.jpg': ['Total Bue $88 .62'],\n",
              " '1149-receipt.jpg': ['Total 5.29'],\n",
              " '1158-receipt.jpg': ['Total: 780.45', 'TOTAL: 780.45'],\n",
              " '1175-receipt.jpg': ['Total 156'],\n",
              " '1177-receipt.jpg': ['Total 47 30'],\n",
              " '1179-receipt.jpg': ['Total $54.20'],\n",
              " '1182-receipt.jpg': ['Total: \"43°60'],\n",
              " '1183-receipt.jpg': ['TOTAL 10.00'],\n",
              " '1187-receipt.jpg': ['Total: 8'],\n",
              " '1188-receipt.jpg': ['TOTAL: 26.96'],\n",
              " '1190-receipt.jpg': ['Total $118.46', 'Total 1SH00'],\n",
              " '1195-receipt.jpg': ['Total 20.62'],\n",
              " '1196-receipt.jpg': ['Total before tip: 5.30)'],\n",
              " '1198-receipt.jpg': ['TOTAL UE $154.7'],\n",
              " '1199-receipt.jpg': ['Total Due: 128.33']}"
            ]
          },
          "metadata": {
            "tags": []
          },
          "execution_count": 63
        }
      ]
    },
    {
      "cell_type": "code",
      "metadata": {
        "id": "oipZ2jivRplY",
        "colab_type": "code",
        "colab": {
          "base_uri": "https://localhost:8080/",
          "height": 52
        },
        "outputId": "3e303cc1-79c1-4542-ad4f-5ccd1542f434"
      },
      "source": [
        "extract_total(total_invoice_good_info['1002-receipt.jpg'])"
      ],
      "execution_count": null,
      "outputs": [
        {
          "output_type": "stream",
          "text": [
            "161.0\n"
          ],
          "name": "stdout"
        },
        {
          "output_type": "execute_result",
          "data": {
            "text/plain": [
              "161.0"
            ]
          },
          "metadata": {
            "tags": []
          },
          "execution_count": 79
        }
      ]
    },
    {
      "cell_type": "code",
      "metadata": {
        "id": "7tj_F8_hKta8",
        "colab_type": "code",
        "colab": {}
      },
      "source": [
        "csv_columns = ['file','amount']\n",
        "csv_file = 'report.csv'\n",
        "\n",
        "try:\n",
        "  with open(csv_file, 'w') as csvfile:\n",
        "    writer = csv.DictWriter(csvfile, fieldnames=csv_columns)\n",
        "    writer.writeheader()\n",
        "    for amount in total_invoice_good_info:\n",
        "      writer.writerow(amount)\n",
        "except IOError:\n",
        "  print(\"I/O error\")"
      ],
      "execution_count": null,
      "outputs": []
    },
    {
      "cell_type": "markdown",
      "metadata": {
        "colab_type": "text",
        "id": "URRLbzbtd83N"
      },
      "source": [
        "##Reading an invoice image and extracting the total amount"
      ]
    },
    {
      "cell_type": "code",
      "metadata": {
        "colab_type": "code",
        "id": "3BnRKrn1_3FU",
        "colab": {}
      },
      "source": [
        "total_invoice_good_info = {}\n",
        "\n",
        "def hasNumbers(inputString):\n",
        "  return any(char.isdigit() for char in inputString)\n",
        "candidat_word_total = []\n",
        "list_candidat_word_total = []\n",
        "\n",
        "im = np.array(Image.open('data/1004-receipt.jpg'), dtype=np.uint8)\n",
        "# Create figure and axes\n",
        "fig,ax = plt.subplots(1)\n",
        "receipt_ocr = {}\n",
        "extracted_text = pytesseract.image_to_string(im, lang = 'eng')\n",
        "splits = extracted_text.splitlines()\n",
        "list_word_total = []\n",
        "for line in splits:\n",
        "  if re.search(r'TOTAL',line):\n",
        "    list_word_total.append(line)\n",
        "  \n",
        "for el in list_word_total:\n",
        "  if hasNumbers(el):\n",
        "    total_invoice_good_info['info'] = {'invoice_name' : image_filename, 'total' : el}\n",
        "    candidat_word_total.append(el)\n",
        "    \n",
        "candidat_word_total     \n",
        "total_invoice_good_info"
      ],
      "execution_count": null,
      "outputs": []
    },
    {
      "cell_type": "code",
      "metadata": {
        "id": "H1tH269Z-th9",
        "colab_type": "code",
        "colab": {}
      },
      "source": [
        "receipt_ocr = {}\n",
        "total_invoice_good_info = {}\n",
        "total_invoice_bad_info = {}\n",
        "all_total_invoice_info = {}\n",
        "\n",
        "def hasNumbers(inputString):\n",
        "  return any(char.isdigit() for char in inputString)\n",
        "\n",
        "def createFolder(path):\n",
        "  try:\n",
        "    os.mkdir(path)\n",
        "  except OSError:\n",
        "    print (\"Creation of the directory %s failed\" % path)\n",
        "  else:\n",
        "    print (\"Successfully created the directory %s \" % path)\n",
        "\n",
        "candidat_word_total = []\n",
        "list_candidat_word_total = []\n",
        "\n",
        "#list_files = os.listdir('data_image')\n",
        "image_extract_path = \"image_extract\"\n",
        "image_NO_extract_path = \"image_NO_extract\"\n",
        "\n",
        "createFolder(image_extract_path)\n",
        "createFolder(image_NO_extract_path)\n",
        "\n",
        "with RemoteZip('https://expressexpense.com/large-receipt-image-dataset-SRD.zip') as zip:\n",
        "  for zip_info in zip.infolist():\n",
        "    im = np.array(Image.open(zip_info.filename), dtype=np.uint8)\n",
        "    extracted_text = pytesseract.image_to_string(im, lang = 'eng')\n",
        "    "
      ],
      "execution_count": null,
      "outputs": []
    },
    {
      "cell_type": "markdown",
      "metadata": {
        "colab_type": "text",
        "id": "HKF8rq3bzTUX"
      },
      "source": [
        "#References\n",
        "\n",
        "https://nanonets.com/blog/receipt-ocr/?fbclid=IwAR0H4VkHhpimqKIgEUQOUCOJS1mtk6vQREcv3MMiqJ2NpxG9LHZnsHM-aeE\n",
        "\n",
        "\n",
        "https://www.datacamp.com/community/tutorials/zip-file"
      ]
    }
  ]
}