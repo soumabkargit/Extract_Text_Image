{
  "nbformat": 4,
  "nbformat_minor": 0,
  "metadata": {
    "colab": {
      "name": "TesseractMethod.ipynb",
      "provenance": [],
      "include_colab_link": true
    },
    "kernelspec": {
      "display_name": "Python 3",
      "language": "python",
      "name": "python3"
    },
    "language_info": {
      "codemirror_mode": {
        "name": "ipython",
        "version": 3
      },
      "file_extension": ".py",
      "mimetype": "text/x-python",
      "name": "python",
      "nbconvert_exporter": "python",
      "pygments_lexer": "ipython3",
      "version": "3.7.6"
    }
  },
  "cells": [
    {
      "cell_type": "markdown",
      "metadata": {
        "id": "view-in-github",
        "colab_type": "text"
      },
      "source": [
        "<a href=\"https://colab.research.google.com/github/soumabkargit/Extract_Text_Image/blob/master/TesseractMethod.ipynb\" target=\"_parent\"><img src=\"https://colab.research.google.com/assets/colab-badge.svg\" alt=\"Open In Colab\"/></a>"
      ]
    },
    {
      "cell_type": "markdown",
      "metadata": {
        "colab_type": "text",
        "id": "ZZfsXQ75Tpr4"
      },
      "source": [
        "# **Tesseract installation**\n",
        "\n",
        "[https://github.com/tesseract-ocr/tesseract/wiki](https://)\n"
      ]
    },
    {
      "cell_type": "code",
      "metadata": {
        "colab_type": "code",
        "id": "fBxV6GDWzMEM",
        "colab": {}
      },
      "source": [
        "!sudo apt install tesseract-ocr\n",
        "!pip install pytesseract\n",
        "!sudo apt-get install tesseract-ocr-eng\n",
        "!pip install remotezip"
      ],
      "execution_count": null,
      "outputs": []
    },
    {
      "cell_type": "markdown",
      "metadata": {
        "colab_type": "text",
        "id": "k7RjnMkSVrau"
      },
      "source": [
        "##Importing all useful dependencies"
      ]
    },
    {
      "cell_type": "code",
      "metadata": {
        "colab_type": "code",
        "id": "mrBJ-l8IyRu5",
        "colab": {}
      },
      "source": [
        "from matplotlib.image import imread\n",
        "import numpy as np\n",
        "from matplotlib import pyplot as plt\n",
        "import os\n",
        "import pytesseract\n",
        "from pytesseract import Output\n",
        "import matplotlib.patches as patches\n",
        "from PIL import Image\n",
        "import re\n",
        "from pathlib import Path\n",
        "from shutil import copyfile\n",
        "from remotezip import RemoteZip\n",
        "# Technically not necessary in newest versions of jupyter\n",
        "%matplotlib inline"
      ],
      "execution_count": 91,
      "outputs": []
    },
    {
      "cell_type": "code",
      "metadata": {
        "id": "itWMgSI6egp-",
        "colab_type": "code",
        "colab": {}
      },
      "source": [
        "def hasNumbers(inputString):\n",
        "  return any(char.isdigit() for char in inputString)\n",
        "\n",
        "def createFolder(path):\n",
        "  try:\n",
        "    os.mkdir(path)\n",
        "  except OSError:\n",
        "    print (\"Creation of the directory %s failed\" % path)\n",
        "  else:\n",
        "    print (\"Successfully created the directory %s \" % path)\n",
        "\n",
        "def extracted(url, data):\n",
        "  with RemoteZip(url) as zip:\n",
        "    zip.extractall(path=data)\n",
        "  \n",
        "\n",
        "def extracted_text_split(imageName, lang):\n",
        "  im = np.array(Image.open(imageName), dtype=np.uint8)\n",
        "  extracted_text = pytesseract.image_to_string(im, lang)\n",
        "  text_split_line = extracted_text.splitlines()\n",
        "  return extracted_text\n",
        "  \n",
        "def regexLine(regex, line):\n",
        "  return re.search(regex,line)\n",
        " "
      ],
      "execution_count": 94,
      "outputs": []
    },
    {
      "cell_type": "code",
      "metadata": {
        "id": "Y8S1spQphmB9",
        "colab_type": "code",
        "colab": {}
      },
      "source": [
        "url = 'https://expressexpense.com/large-receipt-image-dataset-SRD.zip'\n",
        "lang = 'eng'\n",
        "image_extract_path = \"image_extract\"\n",
        "image_NO_extract_path = \"image_NO_extract\"\n",
        "data = \"data\"\n",
        "regex = r'TOTAL'\n",
        "list_word_total = []\n",
        "candidat_good_total = []\n",
        "candidat_bad_total = []\n",
        "list_candidat_word_total = []\n",
        "receipt_ocr = {}\n",
        "total_invoice_good_info = {}\n",
        "total_invoice_bad_info = {}\n",
        "all_total_invoice_info = {}"
      ],
      "execution_count": 95,
      "outputs": []
    },
    {
      "cell_type": "code",
      "metadata": {
        "id": "0qd0F9IPjcJJ",
        "colab_type": "code",
        "colab": {}
      },
      "source": [
        "createFolder(image_extract_path)\n",
        "createFolder(image_NO_extract_path)\n",
        "createFolder(data)"
      ],
      "execution_count": null,
      "outputs": []
    },
    {
      "cell_type": "code",
      "metadata": {
        "id": "EH1X_d-AQfqg",
        "colab_type": "code",
        "colab": {}
      },
      "source": [
        "extracted(url, data)"
      ],
      "execution_count": 97,
      "outputs": []
    },
    {
      "cell_type": "code",
      "metadata": {
        "id": "c7ewG5yalsaV",
        "colab_type": "code",
        "colab": {}
      },
      "source": [
        "list_files = os.listdir(data)"
      ],
      "execution_count": 98,
      "outputs": []
    },
    {
      "cell_type": "markdown",
      "metadata": {
        "colab_type": "text",
        "id": "cy5XplxPYXZz"
      },
      "source": [
        "##Dataset\n",
        "\n",
        "https://expressexpense.com/large-receipt-image-dataset-SRD.zip\n",
        "\n",
        "## Reading of all invoice images and extraction of the total amount.\n",
        "\n",
        "##Sort extracted and non-extracted images into respective folders."
      ]
    },
    {
      "cell_type": "code",
      "metadata": {
        "colab_type": "code",
        "id": "DiZgVopW1vTd",
        "colab": {}
      },
      "source": [
        "for image_filename in list_files:\n",
        "  im = data+'/'+image_filename\n",
        "  text_split_text = extracted_text_split(im, lang)\n",
        "  \n",
        "  for line in text_split_text:\n",
        "    if regexLine(regex, line):\n",
        "      list_word_total.append(line)\n",
        "  \n",
        "  for el in list_word_total:\n",
        "    if hasNumbers(el):\n",
        "      candidat_good_total.append(el)\n",
        "    else:\n",
        "      candidat_bad_total.append(el)\n",
        "\n",
        "  total_invoice_good_info[image_filename] = {'file name': image_filename, 'candidates' :candidat_good_total }\n",
        "  total_invoice_bad_info[image_filename] = {'file name': image_filename, 'candidates' :candidat_bad_total }\n",
        "\n",
        "print('*****************good********************', len(total_invoice_good_info))\n",
        "total_invoice_good_info\n",
        "print('*****************bad***********************',len(total_invoice_bad_info))\n",
        "total_invoice_good_info"
      ],
      "execution_count": null,
      "outputs": []
    },
    {
      "cell_type": "markdown",
      "metadata": {
        "colab_type": "text",
        "id": "URRLbzbtd83N"
      },
      "source": [
        "##Reading an invoice image and extracting the total amount"
      ]
    },
    {
      "cell_type": "code",
      "metadata": {
        "colab_type": "code",
        "id": "3BnRKrn1_3FU",
        "colab": {}
      },
      "source": [
        "total_invoice_good_info = {}\n",
        "\n",
        "def hasNumbers(inputString):\n",
        "  return any(char.isdigit() for char in inputString)\n",
        "candidat_word_total = []\n",
        "list_candidat_word_total = []\n",
        "\n",
        "im = np.array(Image.open('data/1004-receipt.jpg'), dtype=np.uint8)\n",
        "# Create figure and axes\n",
        "fig,ax = plt.subplots(1)\n",
        "receipt_ocr = {}\n",
        "extracted_text = pytesseract.image_to_string(im, lang = 'eng')\n",
        "splits = extracted_text.splitlines()\n",
        "list_word_total = []\n",
        "for line in splits:\n",
        "  if re.search(r'TOTAL',line):\n",
        "    list_word_total.append(line)\n",
        "  \n",
        "for el in list_word_total:\n",
        "  if hasNumbers(el):\n",
        "    total_invoice_good_info['info'] = {'invoice_name' : image_filename, 'total' : el}\n",
        "    candidat_word_total.append(el)\n",
        "    \n",
        "candidat_word_total     \n",
        "total_invoice_good_info"
      ],
      "execution_count": null,
      "outputs": []
    },
    {
      "cell_type": "code",
      "metadata": {
        "id": "H1tH269Z-th9",
        "colab_type": "code",
        "colab": {}
      },
      "source": [
        "receipt_ocr = {}\n",
        "total_invoice_good_info = {}\n",
        "total_invoice_bad_info = {}\n",
        "all_total_invoice_info = {}\n",
        "\n",
        "def hasNumbers(inputString):\n",
        "  return any(char.isdigit() for char in inputString)\n",
        "\n",
        "def createFolder(path):\n",
        "  try:\n",
        "    os.mkdir(path)\n",
        "  except OSError:\n",
        "    print (\"Creation of the directory %s failed\" % path)\n",
        "  else:\n",
        "    print (\"Successfully created the directory %s \" % path)\n",
        "\n",
        "candidat_word_total = []\n",
        "list_candidat_word_total = []\n",
        "\n",
        "#list_files = os.listdir('data_image')\n",
        "image_extract_path = \"image_extract\"\n",
        "image_NO_extract_path = \"image_NO_extract\"\n",
        "\n",
        "createFolder(image_extract_path)\n",
        "createFolder(image_NO_extract_path)\n",
        "\n",
        "with RemoteZip('https://expressexpense.com/large-receipt-image-dataset-SRD.zip') as zip:\n",
        "  for zip_info in zip.infolist():\n",
        "    im = np.array(Image.open(zip_info.filename), dtype=np.uint8)\n",
        "    extracted_text = pytesseract.image_to_string(im, lang = 'eng')\n",
        "    "
      ],
      "execution_count": null,
      "outputs": []
    },
    {
      "cell_type": "markdown",
      "metadata": {
        "colab_type": "text",
        "id": "HKF8rq3bzTUX"
      },
      "source": [
        "#References\n",
        "\n",
        "https://nanonets.com/blog/receipt-ocr/?fbclid=IwAR0H4VkHhpimqKIgEUQOUCOJS1mtk6vQREcv3MMiqJ2NpxG9LHZnsHM-aeE"
      ]
    }
  ]
}