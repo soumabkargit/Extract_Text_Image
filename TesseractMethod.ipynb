{
  "nbformat": 4,
  "nbformat_minor": 0,
  "metadata": {
    "colab": {
      "name": "TesseractMethod.ipynb",
      "provenance": [],
      "include_colab_link": true
    },
    "kernelspec": {
      "display_name": "Python 3",
      "language": "python",
      "name": "python3"
    },
    "language_info": {
      "codemirror_mode": {
        "name": "ipython",
        "version": 3
      },
      "file_extension": ".py",
      "mimetype": "text/x-python",
      "name": "python",
      "nbconvert_exporter": "python",
      "pygments_lexer": "ipython3",
      "version": "3.7.6"
    }
  },
  "cells": [
    {
      "cell_type": "markdown",
      "metadata": {
        "id": "view-in-github",
        "colab_type": "text"
      },
      "source": [
        "<a href=\"https://colab.research.google.com/github/soumabkargit/Extract_Text_Image/blob/master/TesseractMethod.ipynb\" target=\"_parent\"><img src=\"https://colab.research.google.com/assets/colab-badge.svg\" alt=\"Open In Colab\"/></a>"
      ]
    },
    {
      "cell_type": "markdown",
      "metadata": {
        "colab_type": "text",
        "id": "ZZfsXQ75Tpr4"
      },
      "source": [
        "# **Extraction du montant ttc sur les photos de facture**"
      ]
    },
    {
      "cell_type": "markdown",
      "metadata": {
        "id": "zzChY4oUegaQ",
        "colab_type": "text"
      },
      "source": [
        "#installation de l'ocr Tesseract, prise en charge de Tesseract en Anglais et installation de remotezip. \n",
        "\n",
        "[https://github.com/tesseract-ocr/tesseract/wiki](https://)\n"
      ]
    },
    {
      "cell_type": "code",
      "metadata": {
        "colab_type": "code",
        "id": "fBxV6GDWzMEM",
        "colab": {
          "base_uri": "https://localhost:8080/",
          "height": 442
        },
        "outputId": "fd69727b-43bf-41e2-c086-d9633e1e59e7"
      },
      "source": [
        "!sudo apt install tesseract-ocr\n",
        "!pip install pytesseract\n",
        "!sudo apt-get install tesseract-ocr-eng\n",
        "!pip install remotezip"
      ],
      "execution_count": 23,
      "outputs": [
        {
          "output_type": "stream",
          "text": [
            "Reading package lists... Done\n",
            "Building dependency tree       \n",
            "Reading state information... Done\n",
            "tesseract-ocr is already the newest version (4.00~git2288-10f4998a-2).\n",
            "The following package was automatically installed and is no longer required:\n",
            "  libnvidia-common-440\n",
            "Use 'sudo apt autoremove' to remove it.\n",
            "0 upgraded, 0 newly installed, 0 to remove and 39 not upgraded.\n",
            "Requirement already satisfied: pytesseract in /usr/local/lib/python3.6/dist-packages (0.3.5)\n",
            "Requirement already satisfied: Pillow in /usr/local/lib/python3.6/dist-packages (from pytesseract) (7.0.0)\n",
            "Reading package lists... Done\n",
            "Building dependency tree       \n",
            "Reading state information... Done\n",
            "tesseract-ocr-eng is already the newest version (4.00~git24-0e00fe6-1.2).\n",
            "The following package was automatically installed and is no longer required:\n",
            "  libnvidia-common-440\n",
            "Use 'sudo apt autoremove' to remove it.\n",
            "0 upgraded, 0 newly installed, 0 to remove and 39 not upgraded.\n",
            "Requirement already satisfied: remotezip in /usr/local/lib/python3.6/dist-packages (0.9.2)\n",
            "Requirement already satisfied: requests in /usr/local/lib/python3.6/dist-packages (from remotezip) (2.23.0)\n",
            "Requirement already satisfied: tabulate in /usr/local/lib/python3.6/dist-packages (from remotezip) (0.8.7)\n",
            "Requirement already satisfied: certifi>=2017.4.17 in /usr/local/lib/python3.6/dist-packages (from requests->remotezip) (2020.6.20)\n",
            "Requirement already satisfied: idna<3,>=2.5 in /usr/local/lib/python3.6/dist-packages (from requests->remotezip) (2.10)\n",
            "Requirement already satisfied: chardet<4,>=3.0.2 in /usr/local/lib/python3.6/dist-packages (from requests->remotezip) (3.0.4)\n",
            "Requirement already satisfied: urllib3!=1.25.0,!=1.25.1,<1.26,>=1.21.1 in /usr/local/lib/python3.6/dist-packages (from requests->remotezip) (1.24.3)\n"
          ],
          "name": "stdout"
        }
      ]
    },
    {
      "cell_type": "markdown",
      "metadata": {
        "colab_type": "text",
        "id": "k7RjnMkSVrau"
      },
      "source": [
        "##Importation de toutes les dépendances"
      ]
    },
    {
      "cell_type": "code",
      "metadata": {
        "colab_type": "code",
        "id": "mrBJ-l8IyRu5",
        "colab": {}
      },
      "source": [
        "from matplotlib.image import imread\n",
        "import numpy as np\n",
        "from matplotlib import pyplot as plt\n",
        "import os\n",
        "import pytesseract\n",
        "from pytesseract import Output\n",
        "import matplotlib.patches as patches\n",
        "from PIL import Image\n",
        "import re\n",
        "from pathlib import Path\n",
        "from shutil import copyfile\n",
        "from remotezip import RemoteZip\n",
        "import json\n",
        "import csv\n",
        "# Technically not necessary in newest versions of jupyter\n",
        "%matplotlib inline"
      ],
      "execution_count": 14,
      "outputs": []
    },
    {
      "cell_type": "markdown",
      "metadata": {
        "id": "LuBaI-fvUq_i",
        "colab_type": "text"
      },
      "source": [
        "## Déclarations et assignations de toutes les variables globales"
      ]
    },
    {
      "cell_type": "code",
      "metadata": {
        "id": "Y8S1spQphmB9",
        "colab_type": "code",
        "colab": {}
      },
      "source": [
        "url = 'https://expressexpense.com/large-receipt-image-dataset-SRD.zip'\n",
        "\n",
        "lang = 'eng'\n",
        "\n",
        "image_extract_path = \"image_extract\"\n",
        "image_NO_extract_path = \"image_NO_extract\"\n",
        "image_NO_read_text_path = \"image_NO_read_text\"\n",
        "data = \"data\"\n",
        "\n",
        "list_regex = []\n",
        "regex_1 = r'TOTAL(.)*(\\:)*(.)*(\\d)'\n",
        "regex_2 = r'BALANCE(.)*(\\:)*(.)*(\\d)'\n",
        "regex_3 = r'AMOUNT(.)*(\\:)*(.)*(\\d)'\n",
        "regex_4 = r'GRAND(.)*TOTAL(.)*(\\:)*(.)*(\\d)'\n",
        "regex_5 = r'CASH(.)*(\\:)*(.)*(\\d)'\n",
        "regex_6 = r'ORDER(.)*BALANCE(.)*(\\:)*(.)*(\\d)'\n",
        "regex_amount = r'(\\d)'\n",
        "list_regex.append(regex_1)\n",
        "list_regex.append(regex_2)\n",
        "list_regex.append(regex_3)\n",
        "list_regex.append(regex_4)\n",
        "list_regex.append(regex_5)\n",
        "\n",
        "good_info_candidat = 'good_info_candidat'\n",
        "bad_info_candidat_value = 'bad_info_candidat_value'\n",
        "bad_info_candidat_no_value = 'bad_info_candidat_no_value'\n",
        "bad_info_not_foreseen = 'bad_info_not_foreseen'\n",
        "warning_situation = 'warning_situation'\n"
      ],
      "execution_count": 15,
      "outputs": []
    },
    {
      "cell_type": "markdown",
      "metadata": {
        "id": "9kagEaalVUMG",
        "colab_type": "text"
      },
      "source": [
        "##Implémentation de toutes les méthodes utiles pour l'extraction du montant TTC"
      ]
    },
    {
      "cell_type": "code",
      "metadata": {
        "id": "itWMgSI6egp-",
        "colab_type": "code",
        "colab": {}
      },
      "source": [
        "def hasNumbers(inputString):\n",
        "  \"\"\"Vérifier si la chaîne est alphanumérique.\"\"\"\n",
        "  return any(char.isdigit() for char in inputString)\n",
        "\n",
        "def add_regex(list_regex, regex):\n",
        "  \"\"\"Ajouter une expression régulière.\"\"\"\n",
        "  list_regex.append(regex)\n",
        "\n",
        "def extract_amount(regex_amount, string):\n",
        "  \"\"\"Appliquer l'expression régulière pour avoir le montant TTC en chiffre.\"\"\"\n",
        "  return re.search(regex_amount, string, re.IGNORECASE)\n",
        "\n",
        "def createFolder(path):\n",
        "  \"\"\"Créer un dossier.\"\"\"\n",
        "  try:\n",
        "    os.mkdir(path)\n",
        "  except OSError:\n",
        "    print (\"la création du dossier %s a échoué\" % path)\n",
        "  else:\n",
        "    print (\"Réussite de la création du dossier %s \" % path)\n",
        "\n",
        "def extracted(url, data):\n",
        "  \"\"\"Téléchargement des données zipées et extraction dans un dossier\"\"\"\n",
        "  try:\n",
        "    with RemoteZip(url) as zip:\n",
        "      zip.extractall(path=data)\n",
        "  except :\n",
        "    print (\"Le zip n'a pas pu être chargé au lien %s \" % url)\n",
        "  \n",
        "    \n",
        "def extracted_text_split(imageName, lang):\n",
        "  \"\"\"Extraire le text sur l'image et spliter le text selon espace.\"\"\"\n",
        "  im = np.array(Image.open(imageName), dtype=np.uint8)\n",
        "  extracted_text = pytesseract.image_to_string(im, lang)\n",
        "  text_split_line = extracted_text.splitlines()\n",
        "  return text_split_line\n",
        "\n",
        "def extracted_text_split_file_name(file_path):\n",
        "  \"\"\"Faire l'extraction en précisant le chemen de l'image.\"\"\"\n",
        "  im = file_path\n",
        "  text_split_text = extracted_text_split(im, lang)\n",
        "  return text_split_text\n",
        "\n",
        "def read_all_line_file(text_split_text):\n",
        "  \"\"\"Rechercher les information selon les patterns défis.\"\"\"\n",
        "  file_info_res = {}\n",
        "  for line in text_split_text:\n",
        "    for regex in list_regex:\n",
        "      if regexLine(regex, line):\n",
        "        if hasNumbers(line):\n",
        "          file_info_res[good_info_candidat] = line\n",
        "        else:\n",
        "          file_info_res = bad_file_info(line,file_info)\n",
        "  return file_info_res\n",
        "\n",
        "def bad_file_info(line,file_info):\n",
        "  \"\"\"Donner des détaills sur les images qu'ont n'a pas pu avoir le montant TTC.\"\"\"\n",
        "  if line.strip() :\n",
        "    file_info[bad_info_candidat_value] = line\n",
        "    print(line)\n",
        "  elif not line.strip() :\n",
        "    file_info[bad_info_candidat_no_value] = line\n",
        "  else :\n",
        "    file_info[bad_info_not_foreseen] = line\n",
        "  return file_info\n",
        "\n",
        "\n",
        "def regexLine(regex, line):\n",
        "  \"\"\"Appliquer une expression régulière.\"\"\"\n",
        "  return re.search(regex, line, re.IGNORECASE)\n",
        "    \n",
        "def copy_file_folder(file_name, path):\n",
        "  \"\"\"Copier un fichier d'un dossier à un autre.\"\"\"\n",
        "  copyfile(file_name, path)\n",
        "\n",
        "def get_all_names_files(data):\n",
        "  \"\"\"Avoir la liste de tout les fichiers.\"\"\"\n",
        "  try :\n",
        "    list_files = os.listdir(data)\n",
        "  except OSError:\n",
        "    print (\"La lecture de tout les fichiers dans le dossier %s a échoué\" % data)\n",
        "  else:\n",
        "    print (\"Réussite de la lecture de tout les fichiers dans le dossier %s \" % data)\n",
        "  return list_files\n",
        "\n",
        "def get_all_amount(data):\n",
        "  \"\"\"Avoir le montant TTC de toute les photos de facture lues dans un dossier fournie.\"\"\"\n",
        "  files_infos_results = {}\n",
        "  temp_list_files = {}\n",
        "\n",
        "  temp_list_files = get_all_names_files(data)\n",
        "\n",
        "  if len(temp_list_files) == 0 :\n",
        "    print(\"Le dossier est vide\")\n",
        "  else :\n",
        "    for image_filename in temp_list_files:\n",
        "      file_info_res = get_amount(image_filename)\n",
        "      files_infos_results[image_filename] = file_info_res\n",
        "      arrange_files_quality(file_info_res, image_filename)\n",
        "  return files_infos_results\n",
        "\n",
        "def get_amount(file_name):\n",
        "   \"\"\"Avoir le montant TTC d'une photo de facture.\"\"\"\n",
        "   file_info_result = {}\n",
        "   \n",
        "   if len(extracted_text_split_file_name(data + '/' + file_name)) == 0 :\n",
        "     print(\"the file has not been read\")\n",
        "     copy_file_folder(data + '/' + file_name, image_NO_read_text_path + '/' + file_name)\n",
        "   else :\n",
        "     text_split_text = extracted_text_split_file_name(data + '/' + file_name)\n",
        "\n",
        "     if len(read_all_line_file(text_split_text)) == 0 :\n",
        "       temp_file_info_result = read_all_line_file(text_split_text)   \n",
        "       file_info_result['Amount'] = temp_file_info_result\n",
        "       file_info_result[file_name] = file_name\n",
        "       #print(\"no information was read\")\n",
        "     else :\n",
        "       temp_file_info_result = read_all_line_file(text_split_text)     \n",
        "\n",
        "     file_info_result[file_name] = file_name\n",
        "     file_info_result['Amount'] = temp_file_info_result\n",
        "   arrange_files_quality(file_info_result, file_name)\n",
        "   return file_info_result\n",
        "\n",
        "def arrange_files_quality(file_info_res,file_name):\n",
        "  \"\"\"Ranger la facture selon le résultat du traitement.\"\"\"\n",
        "  value = file_info_res['Amount']\n",
        "  res_key = list(value.keys())\n",
        "  if good_info_candidat in res_key:\n",
        "    copyfile(data + '/' + file_name, image_extract_path + '/' + file_name) \n",
        "  elif ( ( good_info_candidat not in  res_key ) and (bad_info_candidat_value in res_key) ) :  \n",
        "    copyfile(data + '/' + file_name, image_NO_extract_path + '/' + file_name)\n",
        "  elif ( (good_info_candidat not in res_key)  and (bad_info_candidat_value not in  res_key) and (bad_info_candidat_no_value in res_key) ) :\n",
        "    copyfile(data + '/' + file_name, bad_info_candidat_no_value + '/' + file_name)\n",
        "  elif ( (good_info_candidat not in res_key)  and (bad_info_candidat_value not in res_key) and (bad_info_candidat_no_value not in res_key) and (bad_info_not_foreseen in res_key) ) :\n",
        "    copyfile(data + '/' + file_name, bad_info_not_foreseen + '/' + file_name)\n",
        "  else : \n",
        "    copyfile(data + '/' + file_name, warning_situation + '/' + file_name)\n"
      ],
      "execution_count": 25,
      "outputs": []
    },
    {
      "cell_type": "markdown",
      "metadata": {
        "id": "k6xqLUg5ZU5w",
        "colab_type": "text"
      },
      "source": [
        "##Création des dossiers\n",
        "Dossier de toute les photos de facture\n",
        "\n",
        "Dossier des factures dont l'extraction du montant ttc a réussi\n",
        "\n",
        "Dossier des factures dont l'extraction des montant ttc a échoué\n"
      ]
    },
    {
      "cell_type": "code",
      "metadata": {
        "id": "0qd0F9IPjcJJ",
        "colab_type": "code",
        "colab": {
          "base_uri": "https://localhost:8080/",
          "height": 102
        },
        "outputId": "a2088acb-dad8-480a-cd08-6913d858eceb"
      },
      "source": [
        "createFolder(image_extract_path)\n",
        "createFolder(image_NO_extract_path)\n",
        "createFolder(image_NO_read_text_path)\n",
        "createFolder(data)\n",
        "createFolder(warning_situation)"
      ],
      "execution_count": 17,
      "outputs": [
        {
          "output_type": "stream",
          "text": [
            "la création du dossier image_extract a échoué\n",
            "la création du dossier image_NO_extract a échoué\n",
            "la création du dossier image_NO_read_text a échoué\n",
            "la création du dossier data a échoué\n",
            "la création du dossier warning_situation a échoué\n"
          ],
          "name": "stdout"
        }
      ]
    },
    {
      "cell_type": "markdown",
      "metadata": {
        "id": "_SsSwJKcfyU6",
        "colab_type": "text"
      },
      "source": [
        "Téléchargement du zip des photos et extraction dans le dossier de toute les factures"
      ]
    },
    {
      "cell_type": "code",
      "metadata": {
        "id": "EH1X_d-AQfqg",
        "colab_type": "code",
        "colab": {}
      },
      "source": [
        "extracted(url, data)"
      ],
      "execution_count": null,
      "outputs": []
    },
    {
      "cell_type": "markdown",
      "metadata": {
        "id": "2HiY6OAxs_fi",
        "colab_type": "text"
      },
      "source": [
        "Extraction de montant ttc pour une facture"
      ]
    },
    {
      "cell_type": "code",
      "metadata": {
        "id": "C5RBxcE7EV2i",
        "colab_type": "code",
        "colab": {
          "base_uri": "https://localhost:8080/",
          "height": 51
        },
        "outputId": "da183e97-60e0-4f8a-94ba-d0da87da4110"
      },
      "source": [
        "file_name = '1023-receipt.jpg'\n",
        "res = get_amount(file_name)\n",
        "print(\"file name :\", res[file_name] ,\"\\n\",\"Amount :\", res['Amount'])"
      ],
      "execution_count": 109,
      "outputs": [
        {
          "output_type": "stream",
          "text": [
            "file name : 1023-receipt.jpg \n",
            " Amount : {'good_info_candidat': 'Grand Total $30.15'}\n"
          ],
          "name": "stdout"
        }
      ]
    },
    {
      "cell_type": "code",
      "metadata": {
        "id": "ceH0sRsjWtDA",
        "colab_type": "code",
        "colab": {}
      },
      "source": [
        "array = extracted_text_split_file_name(data + '/' + file_name)\n",
        "array"
      ],
      "execution_count": null,
      "outputs": []
    },
    {
      "cell_type": "code",
      "metadata": {
        "id": "2PWVJwDiif60",
        "colab_type": "code",
        "colab": {}
      },
      "source": [
        "def is_all_values_table_null(array):\n",
        "  test = False\n",
        "  if all('' == s or s.isspace() for s in array):\n",
        "    test = True\n",
        "  print(test)\n",
        "  return test\n",
        "\n",
        "is_all_values_table_null(array)"
      ],
      "execution_count": null,
      "outputs": []
    },
    {
      "cell_type": "markdown",
      "metadata": {
        "id": "nqBMrivevHsc",
        "colab_type": "text"
      },
      "source": [
        "Extraction de montant ttc pour toute les factures"
      ]
    },
    {
      "cell_type": "code",
      "metadata": {
        "id": "FmIVj6QbbC_m",
        "colab_type": "code",
        "colab": {
          "base_uri": "https://localhost:8080/",
          "height": 1000
        },
        "outputId": "83068e84-92f8-4d05-e4d9-3d35d5aae026"
      },
      "source": [
        "get_all_amount(data)"
      ],
      "execution_count": 27,
      "outputs": [
        {
          "output_type": "stream",
          "text": [
            "Réussite de la lecture de tout les fichiers dans le dossier data \n"
          ],
          "name": "stdout"
        },
        {
          "output_type": "execute_result",
          "data": {
            "text/plain": [
              "{'1000-receipt.jpg': {'1000-receipt.jpg': '1000-receipt.jpg',\n",
              "  'Amount': {'good_info_candidat': 'SUB TOTAL: 51.90'}},\n",
              " '1001-receipt.jpg': {'1001-receipt.jpg': '1001-receipt.jpg', 'Amount': {}},\n",
              " '1002-receipt.jpg': {'1002-receipt.jpg': '1002-receipt.jpg',\n",
              "  'Amount': {'good_info_candidat': 'Total 161'}},\n",
              " '1003-receipt.jpg': {'1003-receipt.jpg': '1003-receipt.jpg', 'Amount': {}},\n",
              " '1004-receipt.jpg': {'1004-receipt.jpg': '1004-receipt.jpg',\n",
              "  'Amount': {'good_info_candidat': 'TOTAL. $1IS.03'}},\n",
              " '1005-receipt.jpg': {'1005-receipt.jpg': '1005-receipt.jpg',\n",
              "  'Amount': {'good_info_candidat': 'Balance Due 179.94'}},\n",
              " '1006-receipt.jpg': {'1006-receipt.jpg': '1006-receipt.jpg', 'Amount': {}},\n",
              " '1007-receipt.jpg': {'1007-receipt.jpg': '1007-receipt.jpg',\n",
              "  'Amount': {'good_info_candidat': 'Total $143.71'}},\n",
              " '1008-receipt.jpg': {'1008-receipt.jpg': '1008-receipt.jpg',\n",
              "  'Amount': {'good_info_candidat': 'TOTAL: $24.47'}},\n",
              " '1009-receipt.jpg': {'1009-receipt.jpg': '1009-receipt.jpg', 'Amount': {}},\n",
              " '1010-receipt.jpg': {'1010-receipt.jpg': '1010-receipt.jpg', 'Amount': {}},\n",
              " '1011-receipt.jpg': {'1011-receipt.jpg': '1011-receipt.jpg', 'Amount': {}},\n",
              " '1012-receipt.jpg': {'1012-receipt.jpg': '1012-receipt.jpg',\n",
              "  'Amount': {'good_info_candidat': 'Total $33 26'}},\n",
              " '1013-receipt.jpg': {'1013-receipt.jpg': '1013-receipt.jpg', 'Amount': {}},\n",
              " '1014-receipt.jpg': {'1014-receipt.jpg': '1014-receipt.jpg', 'Amount': {}},\n",
              " '1015-receipt.jpg': {'1015-receipt.jpg': '1015-receipt.jpg', 'Amount': {}},\n",
              " '1016-receipt.jpg': {'1016-receipt.jpg': '1016-receipt.jpg',\n",
              "  'Amount': {'good_info_candidat': 'Total $35.52'}},\n",
              " '1017-receipt.jpg': {'1017-receipt.jpg': '1017-receipt.jpg', 'Amount': {}},\n",
              " '1018-receipt.jpg': {'1018-receipt.jpg': '1018-receipt.jpg', 'Amount': {}},\n",
              " '1019-receipt.jpg': {'1019-receipt.jpg': '1019-receipt.jpg', 'Amount': {}},\n",
              " '1020-receipt.jpg': {'1020-receipt.jpg': '1020-receipt.jpg', 'Amount': {}},\n",
              " '1021-receipt.jpg': {'1021-receipt.jpg': '1021-receipt.jpg', 'Amount': {}},\n",
              " '1022-receipt.jpg': {'1022-receipt.jpg': '1022-receipt.jpg', 'Amount': {}},\n",
              " '1023-receipt.jpg': {'1023-receipt.jpg': '1023-receipt.jpg',\n",
              "  'Amount': {'good_info_candidat': 'Grand Total $30.15'}},\n",
              " '1024-receipt.jpg': {'1024-receipt.jpg': '1024-receipt.jpg',\n",
              "  'Amount': {'good_info_candidat': 'TOTAL : 33.92'}},\n",
              " '1025-receipt.jpg': {'1025-receipt.jpg': '1025-receipt.jpg',\n",
              "  'Amount': {'good_info_candidat': 'Cashle3s eel'}},\n",
              " '1026-receipt.jpg': {'1026-receipt.jpg': '1026-receipt.jpg', 'Amount': {}},\n",
              " '1027-receipt.jpg': {'1027-receipt.jpg': '1027-receipt.jpg',\n",
              "  'Amount': {'good_info_candidat': 'Total $41.31'}},\n",
              " '1028-receipt.jpg': {'1028-receipt.jpg': '1028-receipt.jpg', 'Amount': {}},\n",
              " '1029-receipt.jpg': {'1029-receipt.jpg': '1029-receipt.jpg', 'Amount': {}},\n",
              " '1030-receipt.jpg': {'1030-receipt.jpg': '1030-receipt.jpg', 'Amount': {}},\n",
              " '1031-receipt.jpg': {'1031-receipt.jpg': '1031-receipt.jpg',\n",
              "  'Amount': {'good_info_candidat': 'Total Due: 44.35'}},\n",
              " '1032-receipt.jpg': {'1032-receipt.jpg': '1032-receipt.jpg',\n",
              "  'Amount': {'good_info_candidat': 'CASH 3.50'}},\n",
              " '1033-receipt.jpg': {'1033-receipt.jpg': '1033-receipt.jpg', 'Amount': {}},\n",
              " '1034-receipt.jpg': {'1034-receipt.jpg': '1034-receipt.jpg', 'Amount': {}},\n",
              " '1035-receipt.jpg': {'1035-receipt.jpg': '1035-receipt.jpg',\n",
              "  'Amount': {'good_info_candidat': 'total: $24.25'}},\n",
              " '1036-receipt.jpg': {'1036-receipt.jpg': '1036-receipt.jpg',\n",
              "  'Amount': {'good_info_candidat': '11/18 12:45 TOTAL: 52). 76'}},\n",
              " '1037-receipt.jpg': {'1037-receipt.jpg': '1037-receipt.jpg',\n",
              "  'Amount': {'good_info_candidat': 'Cash 200.00'}},\n",
              " '1038-receipt.jpg': {'1038-receipt.jpg': '1038-receipt.jpg', 'Amount': {}},\n",
              " '1039-receipt.jpg': {'1039-receipt.jpg': '1039-receipt.jpg', 'Amount': {}},\n",
              " '1040-receipt.jpg': {'1040-receipt.jpg': '1040-receipt.jpg',\n",
              "  'Amount': {'good_info_candidat': 'Total $28.04'}},\n",
              " '1041-receipt.jpg': {'1041-receipt.jpg': '1041-receipt.jpg', 'Amount': {}},\n",
              " '1042-receipt.jpg': {'1042-receipt.jpg': '1042-receipt.jpg',\n",
              "  'Amount': {'good_info_candidat': 'Subtotal: $69.90'}},\n",
              " '1043-receipt.jpg': {'1043-receipt.jpg': '1043-receipt.jpg',\n",
              "  'Amount': {'good_info_candidat': 'Subtotal! 24,50'}},\n",
              " '1044-receipt.jpg': {'1044-receipt.jpg': '1044-receipt.jpg', 'Amount': {}},\n",
              " '1045-receipt.jpg': {'1045-receipt.jpg': '1045-receipt.jpg', 'Amount': {}},\n",
              " '1046-receipt.jpg': {'1046-receipt.jpg': '1046-receipt.jpg', 'Amount': {}},\n",
              " '1047-receipt.jpg': {'1047-receipt.jpg': '1047-receipt.jpg', 'Amount': {}},\n",
              " '1048-receipt.jpg': {'1048-receipt.jpg': '1048-receipt.jpg',\n",
              "  'Amount': {'good_info_candidat': 'Balance Due 91.45'}},\n",
              " '1049-receipt.jpg': {'1049-receipt.jpg': '1049-receipt.jpg',\n",
              "  'Amount': {'good_info_candidat': 'Receipt Total: $38.75'}},\n",
              " '1050-receipt.jpg': {'1050-receipt.jpg': '1050-receipt.jpg',\n",
              "  'Amount': {'good_info_candidat': 'Total Tax 1.74'}},\n",
              " '1051-receipt.jpg': {'1051-receipt.jpg': '1051-receipt.jpg', 'Amount': {}},\n",
              " '1052-receipt.jpg': {'1052-receipt.jpg': '1052-receipt.jpg',\n",
              "  'Amount': {'good_info_candidat': '‘SUBTOTAL 86.50'}},\n",
              " '1053-receipt.jpg': {'1053-receipt.jpg': '1053-receipt.jpg', 'Amount': {}},\n",
              " '1054-receipt.jpg': {'1054-receipt.jpg': '1054-receipt.jpg',\n",
              "  'Amount': {'good_info_candidat': 'Cash $60.00'}},\n",
              " '1055-receipt.jpg': {'1055-receipt.jpg': '1055-receipt.jpg', 'Amount': {}},\n",
              " '1056-receipt.jpg': {'1056-receipt.jpg': '1056-receipt.jpg', 'Amount': {}},\n",
              " '1057-receipt.jpg': {'1057-receipt.jpg': '1057-receipt.jpg',\n",
              "  'Amount': {'good_info_candidat': 'Total $9.58'}},\n",
              " '1058-receipt.jpg': {'1058-receipt.jpg': '1058-receipt.jpg', 'Amount': {}},\n",
              " '1059-receipt.jpg': {'1059-receipt.jpg': '1059-receipt.jpg', 'Amount': {}},\n",
              " '1060-receipt.jpg': {'1060-receipt.jpg': '1060-receipt.jpg', 'Amount': {}},\n",
              " '1061-receipt.jpg': {'1061-receipt.jpg': '1061-receipt.jpg', 'Amount': {}},\n",
              " '1062-receipt.jpg': {'1062-receipt.jpg': '1062-receipt.jpg', 'Amount': {}},\n",
              " '1063-receipt.jpg': {'1063-receipt.jpg': '1063-receipt.jpg', 'Amount': {}},\n",
              " '1064-receipt.jpg': {'1064-receipt.jpg': '1064-receipt.jpg', 'Amount': {}},\n",
              " '1065-receipt.jpg': {'1065-receipt.jpg': '1065-receipt.jpg', 'Amount': {}},\n",
              " '1066-receipt.jpg': {'1066-receipt.jpg': '1066-receipt.jpg', 'Amount': {}},\n",
              " '1067-receipt.jpg': {'1067-receipt.jpg': '1067-receipt.jpg', 'Amount': {}},\n",
              " '1068-receipt.jpg': {'1068-receipt.jpg': '1068-receipt.jpg', 'Amount': {}},\n",
              " '1069-receipt.jpg': {'1069-receipt.jpg': '1069-receipt.jpg', 'Amount': {}},\n",
              " '1070-receipt.jpg': {'1070-receipt.jpg': '1070-receipt.jpg', 'Amount': {}},\n",
              " '1071-receipt.jpg': {'1071-receipt.jpg': '1071-receipt.jpg', 'Amount': {}},\n",
              " '1072-receipt.jpg': {'1072-receipt.jpg': '1072-receipt.jpg', 'Amount': {}},\n",
              " '1073-receipt.jpg': {'1073-receipt.jpg': '1073-receipt.jpg', 'Amount': {}},\n",
              " '1074-receipt.jpg': {'1074-receipt.jpg': '1074-receipt.jpg', 'Amount': {}},\n",
              " '1075-receipt.jpg': {'1075-receipt.jpg': '1075-receipt.jpg', 'Amount': {}},\n",
              " '1076-receipt.jpg': {'1076-receipt.jpg': '1076-receipt.jpg', 'Amount': {}},\n",
              " '1077-receipt.jpg': {'1077-receipt.jpg': '1077-receipt.jpg',\n",
              "  'Amount': {'good_info_candidat': 'Total $69.79'}},\n",
              " '1078-receipt.jpg': {'1078-receipt.jpg': '1078-receipt.jpg', 'Amount': {}},\n",
              " '1079-receipt.jpg': {'1079-receipt.jpg': '1079-receipt.jpg',\n",
              "  'Amount': {'good_info_candidat': 'TOTAL 235.19'}},\n",
              " '1080-receipt.jpg': {'1080-receipt.jpg': '1080-receipt.jpg',\n",
              "  'Amount': {'good_info_candidat': 'TOTAL: 92.22'}},\n",
              " '1081-receipt.jpg': {'1081-receipt.jpg': '1081-receipt.jpg',\n",
              "  'Amount': {'good_info_candidat': 'Total $9.97'}},\n",
              " '1082-receipt.jpg': {'1082-receipt.jpg': '1082-receipt.jpg', 'Amount': {}},\n",
              " '1083-receipt.jpg': {'1083-receipt.jpg': '1083-receipt.jpg',\n",
              "  'Amount': {'good_info_candidat': 'Cashier 12875 CYNTHIA'}},\n",
              " '1084-receipt.jpg': {'1084-receipt.jpg': '1084-receipt.jpg',\n",
              "  'Amount': {'good_info_candidat': 'Subtotal = si. 5'}},\n",
              " '1085-receipt.jpg': {'1085-receipt.jpg': '1085-receipt.jpg',\n",
              "  'Amount': {'good_info_candidat': 'Total 228.92'}},\n",
              " '1086-receipt.jpg': {'1086-receipt.jpg': '1086-receipt.jpg',\n",
              "  'Amount': {'good_info_candidat': 'Amount Due: $157. 51'}},\n",
              " '1087-receipt.jpg': {'1087-receipt.jpg': '1087-receipt.jpg', 'Amount': {}},\n",
              " '1088-receipt.jpg': {'1088-receipt.jpg': '1088-receipt.jpg',\n",
              "  'Amount': {'good_info_candidat': 'TOTAL: $13.03'}},\n",
              " '1089-receipt.jpg': {'1089-receipt.jpg': '1089-receipt.jpg',\n",
              "  'Amount': {'good_info_candidat': 'Total 142.93'}},\n",
              " '1090-receipt.jpg': {'1090-receipt.jpg': '1090-receipt.jpg', 'Amount': {}},\n",
              " '1091-receipt.jpg': {'1091-receipt.jpg': '1091-receipt.jpg',\n",
              "  'Amount': {'good_info_candidat': 'TOTAL: 28.78'}},\n",
              " '1092-receipt.jpg': {'1092-receipt.jpg': '1092-receipt.jpg',\n",
              "  'Amount': {'good_info_candidat': 'Total: 43.30'}},\n",
              " '1093-receipt.jpg': {'1093-receipt.jpg': '1093-receipt.jpg', 'Amount': {}},\n",
              " '1094-receipt.jpg': {'1094-receipt.jpg': '1094-receipt.jpg',\n",
              "  'Amount': {'good_info_candidat': 'Subtotal $13.50'}},\n",
              " '1095-receipt.jpg': {'1095-receipt.jpg': '1095-receipt.jpg',\n",
              "  'Amount': {'good_info_candidat': 'Bar Subtotal 0'}},\n",
              " '1096-receipt.jpg': {'1096-receipt.jpg': '1096-receipt.jpg',\n",
              "  'Amount': {'good_info_candidat': 'Total: $46 .98'}},\n",
              " '1097-receipt.jpg': {'1097-receipt.jpg': '1097-receipt.jpg',\n",
              "  'Amount': {'good_info_candidat': 'Cash 13925'}},\n",
              " '1098-receipt.jpg': {'1098-receipt.jpg': '1098-receipt.jpg',\n",
              "  'Amount': {'good_info_candidat': 'Total 67.89'}},\n",
              " '1099-receipt.jpg': {'1099-receipt.jpg': '1099-receipt.jpg',\n",
              "  'Amount': {'good_info_candidat': 'Balance Due 64-52'}},\n",
              " '1100-receipt.jpg': {'1100-receipt.jpg': '1100-receipt.jpg', 'Amount': {}},\n",
              " '1101-receipt.jpg': {'1101-receipt.jpg': '1101-receipt.jpg',\n",
              "  'Amount': {'good_info_candidat': 'Total $14.06'}},\n",
              " '1102-receipt.jpg': {'1102-receipt.jpg': '1102-receipt.jpg',\n",
              "  'Amount': {'good_info_candidat': 'TOTAL: $16.24'}},\n",
              " '1103-receipt.jpg': {'1103-receipt.jpg': '1103-receipt.jpg',\n",
              "  'Amount': {'good_info_candidat': 'TOTAL: $42. 74'}},\n",
              " '1104-receipt.jpg': {'1104-receipt.jpg': '1104-receipt.jpg', 'Amount': {}},\n",
              " '1105-receipt.jpg': {'1105-receipt.jpg': '1105-receipt.jpg', 'Amount': {}},\n",
              " '1106-receipt.jpg': {'1106-receipt.jpg': '1106-receipt.jpg', 'Amount': {}},\n",
              " '1107-receipt.jpg': {'1107-receipt.jpg': '1107-receipt.jpg', 'Amount': {}},\n",
              " '1108-receipt.jpg': {'1108-receipt.jpg': '1108-receipt.jpg', 'Amount': {}},\n",
              " '1109-receipt.jpg': {'1109-receipt.jpg': '1109-receipt.jpg',\n",
              "  'Amount': {'good_info_candidat': 'Sub-Total: $27.62'}},\n",
              " '1110-receipt.jpg': {'1110-receipt.jpg': '1110-receipt.jpg',\n",
              "  'Amount': {'good_info_candidat': 'Subtotal $146.85'}},\n",
              " '1111-receipt.jpg': {'1111-receipt.jpg': '1111-receipt.jpg', 'Amount': {}},\n",
              " '1112-receipt.jpg': {'1112-receipt.jpg': '1112-receipt.jpg',\n",
              "  'Amount': {'good_info_candidat': 'TOTAL 184.47'}},\n",
              " '1113-receipt.jpg': {'1113-receipt.jpg': '1113-receipt.jpg',\n",
              "  'Amount': {'good_info_candidat': 'Amount Tendered 29.96'}},\n",
              " '1114-receipt.jpg': {'1114-receipt.jpg': '1114-receipt.jpg', 'Amount': {}},\n",
              " '1115-receipt.jpg': {'1115-receipt.jpg': '1115-receipt.jpg',\n",
              "  'Amount': {'good_info_candidat': 'Subtotal: 7 Sie |'}},\n",
              " '1116-receipt.jpg': {'1116-receipt.jpg': '1116-receipt.jpg',\n",
              "  'Amount': {'good_info_candidat': 'Total Due: 34.12'}},\n",
              " '1117-receipt.jpg': {'1117-receipt.jpg': '1117-receipt.jpg',\n",
              "  'Amount': {'good_info_candidat': 'Amount: $ 158.87'}},\n",
              " '1118-receipt.jpg': {'1118-receipt.jpg': '1118-receipt.jpg',\n",
              "  'Amount': {'good_info_candidat': 'Total Itess 3'}},\n",
              " '1119-receipt.jpg': {'1119-receipt.jpg': '1119-receipt.jpg', 'Amount': {}},\n",
              " '1120-receipt.jpg': {'1120-receipt.jpg': '1120-receipt.jpg',\n",
              "  'Amount': {'good_info_candidat': 'TOTAL : 23. 46'}},\n",
              " '1121-receipt.jpg': {'1121-receipt.jpg': '1121-receipt.jpg', 'Amount': {}},\n",
              " '1122-receipt.jpg': {'1122-receipt.jpg': '1122-receipt.jpg',\n",
              "  'Amount': {'good_info_candidat': 'SUB TOTAL: 4'}},\n",
              " '1123-receipt.jpg': {'1123-receipt.jpg': '1123-receipt.jpg', 'Amount': {}},\n",
              " '1124-receipt.jpg': {'1124-receipt.jpg': '1124-receipt.jpg',\n",
              "  'Amount': {'good_info_candidat': 'Total $83.64'}},\n",
              " '1125-receipt.jpg': {'1125-receipt.jpg': '1125-receipt.jpg',\n",
              "  'Amount': {'good_info_candidat': 'Total $19.10'}},\n",
              " '1126-receipt.jpg': {'1126-receipt.jpg': '1126-receipt.jpg',\n",
              "  'Amount': {'good_info_candidat': 'Sub Total: 31 .80'}},\n",
              " '1127-receipt.jpg': {'1127-receipt.jpg': '1127-receipt.jpg',\n",
              "  'Amount': {'good_info_candidat': 'Balance Que 26.76'}},\n",
              " '1128-receipt.jpg': {'1128-receipt.jpg': '1128-receipt.jpg', 'Amount': {}},\n",
              " '1129-receipt.jpg': {'1129-receipt.jpg': '1129-receipt.jpg',\n",
              "  'Amount': {'good_info_candidat': 'TOTAL: $17.18'}},\n",
              " '1130-receipt.jpg': {'1130-receipt.jpg': '1130-receipt.jpg', 'Amount': {}},\n",
              " '1131-receipt.jpg': {'1131-receipt.jpg': '1131-receipt.jpg',\n",
              "  'Amount': {'good_info_candidat': 'REG CASHIER 11-24-2017 12:13 PM o00072'}},\n",
              " '1132-receipt.jpg': {'1132-receipt.jpg': '1132-receipt.jpg', 'Amount': {}},\n",
              " '1133-receipt.jpg': {'1133-receipt.jpg': '1133-receipt.jpg',\n",
              "  'Amount': {'good_info_candidat': 'SUBTOTAL: “134. 46'}},\n",
              " '1134-receipt.jpg': {'1134-receipt.jpg': '1134-receipt.jpg', 'Amount': {}},\n",
              " '1135-receipt.jpg': {'1135-receipt.jpg': '1135-receipt.jpg', 'Amount': {}},\n",
              " '1136-receipt.jpg': {'1136-receipt.jpg': '1136-receipt.jpg',\n",
              "  'Amount': {'good_info_candidat': 'Total $13.13'}},\n",
              " '1137-receipt.jpg': {'1137-receipt.jpg': '1137-receipt.jpg', 'Amount': {}},\n",
              " '1138-receipt.jpg': {'1138-receipt.jpg': '1138-receipt.jpg',\n",
              "  'Amount': {'good_info_candidat': 'Subtotal $24.24'}},\n",
              " '1139-receipt.jpg': {'1139-receipt.jpg': '1139-receipt.jpg', 'Amount': {}},\n",
              " '1140-receipt.jpg': {'1140-receipt.jpg': '1140-receipt.jpg',\n",
              "  'Amount': {'good_info_candidat': 'To Stay Total 25.47'}},\n",
              " '1141-receipt.jpg': {'1141-receipt.jpg': '1141-receipt.jpg',\n",
              "  'Amount': {'good_info_candidat': 'Total Bue $88 .62'}},\n",
              " '1142-receipt.jpg': {'1142-receipt.jpg': '1142-receipt.jpg', 'Amount': {}},\n",
              " '1143-receipt.jpg': {'1143-receipt.jpg': '1143-receipt.jpg', 'Amount': {}},\n",
              " '1144-receipt.jpg': {'1144-receipt.jpg': '1144-receipt.jpg', 'Amount': {}},\n",
              " '1145-receipt.jpg': {'1145-receipt.jpg': '1145-receipt.jpg',\n",
              "  'Amount': {'good_info_candidat': '05:19PM Total 65.14'}},\n",
              " '1146-receipt.jpg': {'1146-receipt.jpg': '1146-receipt.jpg', 'Amount': {}},\n",
              " '1147-receipt.jpg': {'1147-receipt.jpg': '1147-receipt.jpg', 'Amount': {}},\n",
              " '1148-receipt.jpg': {'1148-receipt.jpg': '1148-receipt.jpg',\n",
              "  'Amount': {'good_info_candidat': '(08;000H Total bun 13.07'}},\n",
              " '1149-receipt.jpg': {'1149-receipt.jpg': '1149-receipt.jpg',\n",
              "  'Amount': {'good_info_candidat': 'Total 5.29'}},\n",
              " '1150-receipt.jpg': {'1150-receipt.jpg': '1150-receipt.jpg',\n",
              "  'Amount': {'good_info_candidat': 'BTOTAL 74.49'}},\n",
              " '1151-receipt.jpg': {'1151-receipt.jpg': '1151-receipt.jpg',\n",
              "  'Amount': {'good_info_candidat': 'Subtotal hrs oh 11.62'}},\n",
              " '1152-receipt.jpg': {'1152-receipt.jpg': '1152-receipt.jpg', 'Amount': {}},\n",
              " '1153-receipt.jpg': {'1153-receipt.jpg': '1153-receipt.jpg',\n",
              "  'Amount': {'good_info_candidat': 'Subtotal 290,00'}},\n",
              " '1154-receipt.jpg': {'1154-receipt.jpg': '1154-receipt.jpg',\n",
              "  'Amount': {'good_info_candidat': 'SUB TOTAL: 68°89'}},\n",
              " '1155-receipt.jpg': {'1155-receipt.jpg': '1155-receipt.jpg', 'Amount': {}},\n",
              " '1156-receipt.jpg': {'1156-receipt.jpg': '1156-receipt.jpg',\n",
              "  'Amount': {'good_info_candidat': 'ubTotal : 2.37'}},\n",
              " '1157-receipt.jpg': {'1157-receipt.jpg': '1157-receipt.jpg', 'Amount': {}},\n",
              " '1158-receipt.jpg': {'1158-receipt.jpg': '1158-receipt.jpg',\n",
              "  'Amount': {'good_info_candidat': 'TOTAL: 780.45'}},\n",
              " '1159-receipt.jpg': {'1159-receipt.jpg': '1159-receipt.jpg', 'Amount': {}},\n",
              " '1160-receipt.jpg': {'1160-receipt.jpg': '1160-receipt.jpg', 'Amount': {}},\n",
              " '1161-receipt.jpg': {'1161-receipt.jpg': '1161-receipt.jpg',\n",
              "  'Amount': {'good_info_candidat': 'Check Total § 53,23'}},\n",
              " '1162-receipt.jpg': {'1162-receipt.jpg': '1162-receipt.jpg',\n",
              "  'Amount': {'good_info_candidat': '09:19PH Total 24.72'}},\n",
              " '1163-receipt.jpg': {'1163-receipt.jpg': '1163-receipt.jpg', 'Amount': {}},\n",
              " '1164-receipt.jpg': {'1164-receipt.jpg': '1164-receipt.jpg', 'Amount': {}},\n",
              " '1165-receipt.jpg': {'1165-receipt.jpg': '1165-receipt.jpg',\n",
              "  'Amount': {'good_info_candidat': '‘Amount: Due 117.00'}},\n",
              " '1166-receipt.jpg': {'1166-receipt.jpg': '1166-receipt.jpg',\n",
              "  'Amount': {'good_info_candidat': '01/07 13:29 TOTAL: 42.16'}},\n",
              " '1167-receipt.jpg': {'1167-receipt.jpg': '1167-receipt.jpg', 'Amount': {}},\n",
              " '1168-receipt.jpg': {'1168-receipt.jpg': '1168-receipt.jpg', 'Amount': {}},\n",
              " '1169-receipt.jpg': {'1169-receipt.jpg': '1169-receipt.jpg', 'Amount': {}},\n",
              " '1170-receipt.jpg': {'1170-receipt.jpg': '1170-receipt.jpg',\n",
              "  'Amount': {'good_info_candidat': 'Subtotal 100.26 ara.'}},\n",
              " '1171-receipt.jpg': {'1171-receipt.jpg': '1171-receipt.jpg', 'Amount': {}},\n",
              " '1172-receipt.jpg': {'1172-receipt.jpg': '1172-receipt.jpg', 'Amount': {}},\n",
              " '1173-receipt.jpg': {'1173-receipt.jpg': '1173-receipt.jpg', 'Amount': {}},\n",
              " '1174-receipt.jpg': {'1174-receipt.jpg': '1174-receipt.jpg', 'Amount': {}},\n",
              " '1175-receipt.jpg': {'1175-receipt.jpg': '1175-receipt.jpg',\n",
              "  'Amount': {'good_info_candidat': 'CASH 10.00'}},\n",
              " '1176-receipt.jpg': {'1176-receipt.jpg': '1176-receipt.jpg', 'Amount': {}},\n",
              " '1177-receipt.jpg': {'1177-receipt.jpg': '1177-receipt.jpg',\n",
              "  'Amount': {'good_info_candidat': 'Balance Due 47.30'}},\n",
              " '1178-receipt.jpg': {'1178-receipt.jpg': '1178-receipt.jpg', 'Amount': {}},\n",
              " '1179-receipt.jpg': {'1179-receipt.jpg': '1179-receipt.jpg',\n",
              "  'Amount': {'good_info_candidat': 'Total $54.20'}},\n",
              " '1180-receipt.jpg': {'1180-receipt.jpg': '1180-receipt.jpg', 'Amount': {}},\n",
              " '1181-receipt.jpg': {'1181-receipt.jpg': '1181-receipt.jpg', 'Amount': {}},\n",
              " '1182-receipt.jpg': {'1182-receipt.jpg': '1182-receipt.jpg',\n",
              "  'Amount': {'good_info_candidat': 'Total: \"43°60'}},\n",
              " '1183-receipt.jpg': {'1183-receipt.jpg': '1183-receipt.jpg',\n",
              "  'Amount': {'good_info_candidat': 'BALANCE. DUE 10.00'}},\n",
              " '1184-receipt.jpg': {'1184-receipt.jpg': '1184-receipt.jpg',\n",
              "  'Amount': {'good_info_candidat': '03/22 9:54pTOTAL : 193.35'}},\n",
              " '1185-receipt.jpg': {'1185-receipt.jpg': '1185-receipt.jpg', 'Amount': {}},\n",
              " '1186-receipt.jpg': {'1186-receipt.jpg': '1186-receipt.jpg', 'Amount': {}},\n",
              " '1187-receipt.jpg': {'1187-receipt.jpg': '1187-receipt.jpg',\n",
              "  'Amount': {'good_info_candidat': 'Total: 8'}},\n",
              " '1188-receipt.jpg': {'1188-receipt.jpg': '1188-receipt.jpg',\n",
              "  'Amount': {'good_info_candidat': 'TOTAL: 26.96'}},\n",
              " '1189-receipt.jpg': {'1189-receipt.jpg': '1189-receipt.jpg', 'Amount': {}},\n",
              " '1190-receipt.jpg': {'1190-receipt.jpg': '1190-receipt.jpg',\n",
              "  'Amount': {'good_info_candidat': 'Total 1SH00'}},\n",
              " '1191-receipt.jpg': {'1191-receipt.jpg': '1191-receipt.jpg', 'Amount': {}},\n",
              " '1192-receipt.jpg': {'1192-receipt.jpg': '1192-receipt.jpg', 'Amount': {}},\n",
              " '1193-receipt.jpg': {'1193-receipt.jpg': '1193-receipt.jpg', 'Amount': {}},\n",
              " '1194-receipt.jpg': {'1194-receipt.jpg': '1194-receipt.jpg', 'Amount': {}},\n",
              " '1195-receipt.jpg': {'1195-receipt.jpg': '1195-receipt.jpg',\n",
              "  'Amount': {'good_info_candidat': 'Balance Due 33.75'}},\n",
              " '1196-receipt.jpg': {'1196-receipt.jpg': '1196-receipt.jpg',\n",
              "  'Amount': {'good_info_candidat': 'Total before tip: 5.30)'}},\n",
              " '1197-receipt.jpg': {'1197-receipt.jpg': '1197-receipt.jpg', 'Amount': {}},\n",
              " '1198-receipt.jpg': {'1198-receipt.jpg': '1198-receipt.jpg',\n",
              "  'Amount': {'good_info_candidat': 'TOTAL UE $154.7'}},\n",
              " '1199-receipt.jpg': {'1199-receipt.jpg': '1199-receipt.jpg',\n",
              "  'Amount': {'good_info_candidat': 'Total Due: 128.33'}}}"
            ]
          },
          "metadata": {
            "tags": []
          },
          "execution_count": 27
        }
      ]
    },
    {
      "cell_type": "markdown",
      "metadata": {
        "colab_type": "text",
        "id": "HKF8rq3bzTUX"
      },
      "source": [
        "#References\n",
        "\n",
        "https://nanonets.com/blog/receipt-ocr/?fbclid=IwAR0H4VkHhpimqKIgEUQOUCOJS1mtk6vQREcv3MMiqJ2NpxG9LHZnsHM-aeE\n",
        "\n",
        "\n",
        "https://www.datacamp.com/community/tutorials/zip-file"
      ]
    }
  ]
}