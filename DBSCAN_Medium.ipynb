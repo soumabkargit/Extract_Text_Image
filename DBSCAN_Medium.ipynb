{
  "nbformat": 4,
  "nbformat_minor": 0,
  "metadata": {
    "kernelspec": {
      "display_name": "Python 3",
      "language": "python",
      "name": "python3"
    },
    "language_info": {
      "codemirror_mode": {
        "name": "ipython",
        "version": 3
      },
      "file_extension": ".py",
      "mimetype": "text/x-python",
      "name": "python",
      "nbconvert_exporter": "python",
      "pygments_lexer": "ipython3",
      "version": "3.6.7"
    },
    "colab": {
      "name": "DBSCAN_Medium.ipynb",
      "provenance": [],
      "include_colab_link": true
    }
  },
  "cells": [
    {
      "cell_type": "markdown",
      "metadata": {
        "id": "view-in-github",
        "colab_type": "text"
      },
      "source": [
        "<a href=\"https://colab.research.google.com/github/soumabkargit/Extract_Text_Image/blob/master/DBSCAN_Medium.ipynb\" target=\"_parent\"><img src=\"https://colab.research.google.com/assets/colab-badge.svg\" alt=\"Open In Colab\"/></a>"
      ]
    },
    {
      "cell_type": "code",
      "metadata": {
        "colab": {
          "base_uri": "https://localhost:8080/"
        },
        "id": "rM-tX9KBEFOg",
        "outputId": "cadf8ea3-bb4f-491b-e7c0-f91238994782"
      },
      "source": [
        "!pip install basemap\r\n"
      ],
      "execution_count": 8,
      "outputs": [
        {
          "output_type": "stream",
          "text": [
            "\u001b[31mERROR: Could not find a version that satisfies the requirement basemap (from versions: none)\u001b[0m\n",
            "\u001b[31mERROR: No matching distribution found for basemap\u001b[0m\n"
          ],
          "name": "stdout"
        }
      ]
    },
    {
      "cell_type": "markdown",
      "metadata": {
        "id": "-r5rvOYiDFM4"
      },
      "source": [
        "# Density Based Spatial Clustering of Applications with Noise"
      ]
    },
    {
      "cell_type": "code",
      "metadata": {
        "id": "diSUEkxfDFNI"
      },
      "source": [
        "import numpy as np \n",
        "from sklearn.cluster import DBSCAN\n",
        "from sklearn.preprocessing import StandardScaler\n",
        "import matplotlib\n",
        "import matplotlib.pyplot as plt"
      ],
      "execution_count": 1,
      "outputs": []
    },
    {
      "cell_type": "code",
      "metadata": {
        "colab": {
          "base_uri": "https://localhost:8080/"
        },
        "id": "2_egCh4MDFNJ",
        "outputId": "c294558f-53f9-473d-9cbd-ed6be04ec10f"
      },
      "source": [
        "# Check the Matplotlib Version \n",
        "print (\"Matplotlib Version\", matplotlib.__version__)"
      ],
      "execution_count": 2,
      "outputs": [
        {
          "output_type": "stream",
          "text": [
            "Matplotlib Version 3.2.2\n"
          ],
          "name": "stdout"
        }
      ]
    },
    {
      "cell_type": "markdown",
      "metadata": {
        "id": "afU02umoDFNK"
      },
      "source": [
        "## Using DBSCAN for Tasks Like Class Identification on a Spatial Context"
      ]
    },
    {
      "cell_type": "markdown",
      "metadata": {
        "id": "LkVTGPMVDFNK"
      },
      "source": [
        "Usually 2 parameters for DBSCAN to Optimize \n",
        "* <font color='red'>Epsilon</font> \n",
        "* <font color='red'>Minimum Points</font>\n",
        "\n",
        "<font color='red'>Epsilon $(\\epsilon)$ </font> determines how much close the points should be to be considered a part of a cluster and <font color='red'>Minimum Points _(MinPts)_ </font> determines how many number of samples (points) need to be considered around a point within the radius $\\epsilon$ to be considered as a _Core Point_. _MinPts_ include the point in consideration itself.   \n",
        "\n",
        "\n",
        "We start with loading the Canada Weather Data-Set. We will __cluster weather stations that show similar weather conditions__. Selection of features and applications on clustering will be shown. Since the data domain is not so well understood, it is always best to play around with $\\epsilon$ and _MinPts_ parameter in Scikit learn.  "
      ]
    },
    {
      "cell_type": "code",
      "metadata": {
        "colab": {
          "base_uri": "https://localhost:8080/",
          "height": 232
        },
        "id": "WXuuDAQEDFNL",
        "outputId": "d26784c2-90ec-497a-cc94-bb83effdc4d9"
      },
      "source": [
        "import pandas as pd\n",
        "\n",
        "weather_df = pd.read_csv('weather-stations.csv')\n",
        "print (\"Shape of the DataFrame: \", weather_df.shape)\n",
        "weather_df.head(3) "
      ],
      "execution_count": 3,
      "outputs": [
        {
          "output_type": "stream",
          "text": [
            "Shape of the DataFrame:  (1341, 25)\n"
          ],
          "name": "stdout"
        },
        {
          "output_type": "execute_result",
          "data": {
            "text/html": [
              "<div>\n",
              "<style scoped>\n",
              "    .dataframe tbody tr th:only-of-type {\n",
              "        vertical-align: middle;\n",
              "    }\n",
              "\n",
              "    .dataframe tbody tr th {\n",
              "        vertical-align: top;\n",
              "    }\n",
              "\n",
              "    .dataframe thead th {\n",
              "        text-align: right;\n",
              "    }\n",
              "</style>\n",
              "<table border=\"1\" class=\"dataframe\">\n",
              "  <thead>\n",
              "    <tr style=\"text-align: right;\">\n",
              "      <th></th>\n",
              "      <th>Stn_Name</th>\n",
              "      <th>Lat</th>\n",
              "      <th>Long</th>\n",
              "      <th>Prov</th>\n",
              "      <th>Tm</th>\n",
              "      <th>DwTm</th>\n",
              "      <th>D</th>\n",
              "      <th>Tx</th>\n",
              "      <th>DwTx</th>\n",
              "      <th>Tn</th>\n",
              "      <th>DwTn</th>\n",
              "      <th>S</th>\n",
              "      <th>DwS</th>\n",
              "      <th>S%N</th>\n",
              "      <th>P</th>\n",
              "      <th>DwP</th>\n",
              "      <th>P%N</th>\n",
              "      <th>S_G</th>\n",
              "      <th>Pd</th>\n",
              "      <th>BS</th>\n",
              "      <th>DwBS</th>\n",
              "      <th>BS%</th>\n",
              "      <th>HDD</th>\n",
              "      <th>CDD</th>\n",
              "      <th>Stn_No</th>\n",
              "    </tr>\n",
              "  </thead>\n",
              "  <tbody>\n",
              "    <tr>\n",
              "      <th>0</th>\n",
              "      <td>CHEMAINUS</td>\n",
              "      <td>48.935</td>\n",
              "      <td>-123.742</td>\n",
              "      <td>BC</td>\n",
              "      <td>8.2</td>\n",
              "      <td>0.0</td>\n",
              "      <td>NaN</td>\n",
              "      <td>13.5</td>\n",
              "      <td>0.0</td>\n",
              "      <td>1.0</td>\n",
              "      <td>0.0</td>\n",
              "      <td>0.0</td>\n",
              "      <td>0.0</td>\n",
              "      <td>NaN</td>\n",
              "      <td>178.8</td>\n",
              "      <td>0.0</td>\n",
              "      <td>NaN</td>\n",
              "      <td>0.0</td>\n",
              "      <td>12.0</td>\n",
              "      <td>NaN</td>\n",
              "      <td>NaN</td>\n",
              "      <td>NaN</td>\n",
              "      <td>273.3</td>\n",
              "      <td>0.0</td>\n",
              "      <td>1011500</td>\n",
              "    </tr>\n",
              "    <tr>\n",
              "      <th>1</th>\n",
              "      <td>COWICHAN LAKE FORESTRY</td>\n",
              "      <td>48.824</td>\n",
              "      <td>-124.133</td>\n",
              "      <td>BC</td>\n",
              "      <td>7.0</td>\n",
              "      <td>0.0</td>\n",
              "      <td>3.0</td>\n",
              "      <td>15.0</td>\n",
              "      <td>0.0</td>\n",
              "      <td>-3.0</td>\n",
              "      <td>0.0</td>\n",
              "      <td>0.0</td>\n",
              "      <td>0.0</td>\n",
              "      <td>0.0</td>\n",
              "      <td>258.6</td>\n",
              "      <td>0.0</td>\n",
              "      <td>104.0</td>\n",
              "      <td>0.0</td>\n",
              "      <td>12.0</td>\n",
              "      <td>NaN</td>\n",
              "      <td>NaN</td>\n",
              "      <td>NaN</td>\n",
              "      <td>307.0</td>\n",
              "      <td>0.0</td>\n",
              "      <td>1012040</td>\n",
              "    </tr>\n",
              "    <tr>\n",
              "      <th>2</th>\n",
              "      <td>LAKE COWICHAN</td>\n",
              "      <td>48.829</td>\n",
              "      <td>-124.052</td>\n",
              "      <td>BC</td>\n",
              "      <td>6.8</td>\n",
              "      <td>13.0</td>\n",
              "      <td>2.8</td>\n",
              "      <td>16.0</td>\n",
              "      <td>9.0</td>\n",
              "      <td>-2.5</td>\n",
              "      <td>9.0</td>\n",
              "      <td>0.0</td>\n",
              "      <td>9.0</td>\n",
              "      <td>NaN</td>\n",
              "      <td>264.6</td>\n",
              "      <td>9.0</td>\n",
              "      <td>NaN</td>\n",
              "      <td>NaN</td>\n",
              "      <td>11.0</td>\n",
              "      <td>NaN</td>\n",
              "      <td>NaN</td>\n",
              "      <td>NaN</td>\n",
              "      <td>168.1</td>\n",
              "      <td>0.0</td>\n",
              "      <td>1012055</td>\n",
              "    </tr>\n",
              "  </tbody>\n",
              "</table>\n",
              "</div>"
            ],
            "text/plain": [
              "                 Stn_Name     Lat     Long Prov  ...  BS%    HDD  CDD   Stn_No\n",
              "0               CHEMAINUS  48.935 -123.742   BC  ...  NaN  273.3  0.0  1011500\n",
              "1  COWICHAN LAKE FORESTRY  48.824 -124.133   BC  ...  NaN  307.0  0.0  1012040\n",
              "2           LAKE COWICHAN  48.829 -124.052   BC  ...  NaN  168.1  0.0  1012055\n",
              "\n",
              "[3 rows x 25 columns]"
            ]
          },
          "metadata": {
            "tags": []
          },
          "execution_count": 3
        }
      ]
    },
    {
      "cell_type": "markdown",
      "metadata": {
        "id": "-0rTNeSUDFNL"
      },
      "source": [
        "So there are 25 columns and now we need to learn more about the Columns, The names that are difficult to guess \n",
        "* Stn_Name === Station Name\n",
        "* Prov     === Province\n",
        "* Tm       === Mean Temperature (°C)\n",
        "* Tn       === Lowest Monthly Minimum Temperature \n",
        "* Tx       === Highest Monthly Maximum Temperature \n",
        "* DwTm     === Days Without Valid Mean Temperature\n",
        "* DwTx     === Days Without Valid Maximum Temperature\n",
        "* DwTn     === Days Without Valid Minimum Temperature\n",
        "* D        === Mean Temperature Difference from Normal\n",
        "* S        === Snowfall (cm)\n",
        "* DwS      === Days Without Snowfall\n",
        "* S%N      === Percent of Normal Snowfall\n",
        "* P        === Total Precipitation (mm)\n",
        "* DwP      === Days Without Valid Precipitation\n",
        "* P%N      === Percent of Normal Precipitation\n",
        "* Pd       === No. of days with precipitation 1mm or More \n",
        "* BS       === Bright Sunshine days\n",
        "* DwBS     === Days Without valid Bright Sunshine\n",
        "* BS%      === Percent of Normal Bright Sunshine\n",
        "* HDD      === Degree Days Below $18^{\\circ}$C \n",
        "* CDD      === Degree Days Above $18^{\\circ}$C\n",
        "* Stn_No   === Station Number; Climate Station Identifier (1st 3 Digits==Indicate drainage basin, Last 4 Digits Sorting Alphabetically)\n",
        "\n"
      ]
    },
    {
      "cell_type": "markdown",
      "metadata": {
        "id": "vQUtUxPPDFNL"
      },
      "source": [
        "We can see that there are some columns that contains NaN values. One of the importnat features is Mean temperature (Tm), so we drop the rows that contain NaN values in Tm column   "
      ]
    },
    {
      "cell_type": "code",
      "metadata": {
        "colab": {
          "base_uri": "https://localhost:8080/"
        },
        "id": "DfemT1FsDFNM",
        "outputId": "986a01b3-b111-4d05-8865-5d9d71bc4204"
      },
      "source": [
        "# check the nan values in the dataframe \n",
        "weather_df.isna().sum()"
      ],
      "execution_count": 4,
      "outputs": [
        {
          "output_type": "execute_result",
          "data": {
            "text/plain": [
              "Stn_Name       0\n",
              "Lat            0\n",
              "Long           0\n",
              "Prov           0\n",
              "Tm            85\n",
              "DwTm          85\n",
              "D            984\n",
              "Tx            81\n",
              "DwTx          81\n",
              "Tn            81\n",
              "DwTn          81\n",
              "S            755\n",
              "DwS          755\n",
              "S%N         1143\n",
              "P            114\n",
              "DwP          114\n",
              "P%N         1132\n",
              "S_G          543\n",
              "Pd           114\n",
              "BS          1341\n",
              "DwBS        1341\n",
              "BS%         1341\n",
              "HDD           85\n",
              "CDD           85\n",
              "Stn_No         0\n",
              "dtype: int64"
            ]
          },
          "metadata": {
            "tags": []
          },
          "execution_count": 4
        }
      ]
    },
    {
      "cell_type": "code",
      "metadata": {
        "colab": {
          "base_uri": "https://localhost:8080/"
        },
        "id": "nTUohbDxDFNM",
        "outputId": "5c08dc75-0c5a-4f75-aef6-bf64ffcd1c66"
      },
      "source": [
        "weather_df.dropna(subset=['Tm', 'Tx', 'Tn'], inplace=True)\n",
        "print (\"After Dropping Rows that contains NaN on Mean, Max, Min Temperature Column: \", weather_df.shape)"
      ],
      "execution_count": 5,
      "outputs": [
        {
          "output_type": "stream",
          "text": [
            "After Dropping Rows that contains NaN on Mean, Max, Min Temperature Column:  (1255, 25)\n"
          ],
          "name": "stdout"
        }
      ]
    },
    {
      "cell_type": "code",
      "metadata": {
        "colab": {
          "base_uri": "https://localhost:8080/",
          "height": 173
        },
        "id": "2fQuMg9JDFNM",
        "outputId": "337c001f-7e8f-41c1-a807-2f4145e83d7b"
      },
      "source": [
        "# from mpl_toolkits.basemap import Basemap\n",
        "import matplotlib\n",
        "from PIL import Image\n",
        "import matplotlib.pyplot as plt\n",
        "#print (matplotlib.__version__)\n",
        "from pylab import rcParams\n",
        "%matplotlib inline\n",
        "rcParams['figure.figsize'] = (14,10)\n",
        "\n",
        "\n",
        "llon=-140\n",
        "ulon=-50\n",
        "llat=40\n",
        "ulat=75\n",
        "\n",
        "# selecting the boundaries of the map from lattitude and longitude \n",
        "\n",
        "weather_df = weather_df[(weather_df['Long'] > llon) & (weather_df['Long'] < ulon) & \n",
        "                        (weather_df['Lat'] > llat) &(weather_df['Lat'] < ulat)]\n",
        "\n",
        "'''\n",
        "\n",
        "my_map = Basemap(projection='merc',\n",
        "            resolution = 'l', area_thresh = 1000.0,\n",
        "            llcrnrlon=llon, llcrnrlat=llat, #min longitude (llcrnrlon) and latitude (llcrnrlat)\n",
        "            urcrnrlon=ulon, urcrnrlat=ulat) #max longitude (urcrnrlon) and latitude (urcrnrlat)\n",
        "\n",
        "my_map.drawcoastlines()\n",
        "my_map.drawcountries()\n",
        "my_map.drawlsmask(land_color='orange', ocean_color='skyblue')\n",
        "#my_map.shadedrelief()\n",
        "my_map.bluemarble()\n",
        "# To collect data based on stations        \n",
        "\n",
        "xs,ys = my_map(np.asarray(weather_df.Long), np.asarray(weather_df.Lat))\n",
        "weather_df['xm']= xs.tolist()\n",
        "weather_df['ym'] =ys.tolist()\n",
        "\n",
        "#Visualization1\n",
        "for index,row in weather_df.iterrows():\n",
        "#   x,y = my_map(row.Long, row.Lat)\n",
        "   my_map.plot(row.xm, row.ym,markerfacecolor ='lime',markeredgecolor='pink', marker='s', markersize= 10, alpha = 0.4)\n",
        "#plt.text(x,y,stn)\n",
        "plt.title(\"Weather Stations in Canada\", fontsize=14)\n",
        "plt.savefig(\"Canada_WS.png\", dpi=300)\n",
        "plt.show()\n",
        "\n",
        "'''"
      ],
      "execution_count": 9,
      "outputs": [
        {
          "output_type": "execute_result",
          "data": {
            "application/vnd.google.colaboratory.intrinsic+json": {
              "type": "string"
            },
            "text/plain": [
              "'\\n\\nmy_map = Basemap(projection=\\'merc\\',\\n            resolution = \\'l\\', area_thresh = 1000.0,\\n            llcrnrlon=llon, llcrnrlat=llat, #min longitude (llcrnrlon) and latitude (llcrnrlat)\\n            urcrnrlon=ulon, urcrnrlat=ulat) #max longitude (urcrnrlon) and latitude (urcrnrlat)\\n\\nmy_map.drawcoastlines()\\nmy_map.drawcountries()\\nmy_map.drawlsmask(land_color=\\'orange\\', ocean_color=\\'skyblue\\')\\n#my_map.shadedrelief()\\nmy_map.bluemarble()\\n# To collect data based on stations        \\n\\nxs,ys = my_map(np.asarray(weather_df.Long), np.asarray(weather_df.Lat))\\nweather_df[\\'xm\\']= xs.tolist()\\nweather_df[\\'ym\\'] =ys.tolist()\\n\\n#Visualization1\\nfor index,row in weather_df.iterrows():\\n#   x,y = my_map(row.Long, row.Lat)\\n   my_map.plot(row.xm, row.ym,markerfacecolor =\\'lime\\',markeredgecolor=\\'pink\\', marker=\\'s\\', markersize= 10, alpha = 0.4)\\n#plt.text(x,y,stn)\\nplt.title(\"Weather Stations in Canada\", fontsize=14)\\nplt.savefig(\"Canada_WS.png\", dpi=300)\\nplt.show()\\n\\n'"
            ]
          },
          "metadata": {
            "tags": []
          },
          "execution_count": 9
        }
      ]
    },
    {
      "cell_type": "code",
      "metadata": {
        "id": "bvdQNeYZDFNN"
      },
      "source": [
        "#my_map.drawmapboundary()\n",
        "#my_map.fillcontinents(color = 'orange', alpha = 0.3)\n",
        "#my_map.fillcontinents(color='#cc9955', lake_color='aqua', alpha=0.4)"
      ],
      "execution_count": null,
      "outputs": []
    },
    {
      "cell_type": "code",
      "metadata": {
        "id": "vLqUxNCNDFNN"
      },
      "source": [
        "#print (xs.tolist())\n",
        "#print (ys.tolist())"
      ],
      "execution_count": null,
      "outputs": []
    },
    {
      "cell_type": "markdown",
      "metadata": {
        "id": "Qojck3PsDFNN"
      },
      "source": [
        "### Clustering Weather Stations Based on Mean, Maximum and Minimum Temperature. <br>\n",
        "\n",
        "#### In the DataFrame the Variables are Tm, Tn, Tx.   <br> First we check the distribution of the temperatures to get an rough Idea. Find the maximum, minimum of these three features to get a rough idea.  "
      ]
    },
    {
      "cell_type": "code",
      "metadata": {
        "colab": {
          "base_uri": "https://localhost:8080/"
        },
        "id": "ls09L44dDFNO",
        "outputId": "6a9e4313-a245-4c75-f82f-f4712f37eeb1"
      },
      "source": [
        "#print (weather_df.loc[weather_df['Tn'].idxmin()])\n",
        "\n",
        "# Apart from the idxmax, we ca just use dataframe min max function to get the values\n",
        "\n",
        "print (\"Minimum Mean temperature: \", weather_df['Tm'].min())\n",
        "print (\"Minimum Max Temperature: \", weather_df['Tx'].min())\n",
        "print (\"Maximun Min Temperature: \", weather_df['Tn'].max())"
      ],
      "execution_count": 10,
      "outputs": [
        {
          "output_type": "stream",
          "text": [
            "Minimum Mean temperature:  -37.0\n",
            "Minimum Max Temperature:  -28.9\n",
            "Maximun Min Temperature:  5.3\n"
          ],
          "name": "stdout"
        }
      ]
    },
    {
      "cell_type": "code",
      "metadata": {
        "colab": {
          "base_uri": "https://localhost:8080/",
          "height": 681
        },
        "id": "LWpXCeFXDFNO",
        "outputId": "d54bbd5c-14f6-4b96-8433-5b2fd452f794"
      },
      "source": [
        " \n",
        "\n",
        "import seaborn as sns\n",
        "\n",
        "sns.distplot(weather_df['Tm'], color='purple', kde=False)\n",
        "plt.xlabel('Mean Temperature (°C)', fontsize=14)\n",
        "plt.title(\"Distribution of Mean Temperature\", fontsize=14)\n",
        "plt.savefig(\"Dist_of_Mean_Temp.png\", dpi=200)\n",
        "plt.show()"
      ],
      "execution_count": 11,
      "outputs": [
        {
          "output_type": "stream",
          "text": [
            "/usr/local/lib/python3.6/dist-packages/seaborn/distributions.py:2551: FutureWarning: `distplot` is a deprecated function and will be removed in a future version. Please adapt your code to use either `displot` (a figure-level function with similar flexibility) or `histplot` (an axes-level function for histograms).\n",
            "  warnings.warn(msg, FutureWarning)\n"
          ],
          "name": "stderr"
        },
        {
          "output_type": "display_data",
          "data": {
            "image/png": "[encoded data removed]",
            "text/plain": [
              "<Figure size 1008x720 with 1 Axes>"
            ]
          },
          "metadata": {
            "tags": [],
            "needs_background": "light"
          }
        }
      ]
    },
    {
      "cell_type": "code",
      "metadata": {
        "colab": {
          "base_uri": "https://localhost:8080/",
          "height": 602
        },
        "id": "8NflDsw8DFNP",
        "outputId": "e69b3146-3d14-4a9c-96d5-dc79db1c64d4"
      },
      "source": [
        "# Violin Plots of Minimum and Maximum Temperature\n",
        "fig = plt.figure(figsize=(12,8))\n",
        "plt.subplot(1,2,1)\n",
        "sns.violinplot(x=weather_df[\"Tn\"], color='deepskyblue')\n",
        "plt.xlabel(\"Min. Temperature (°C)\", fontsize=14, color='deepskyblue')\n",
        "plt.subplot(1,2,2)\n",
        "sns.violinplot(x=weather_df[\"Tx\"], color='tomato')\n",
        "plt.xlabel(\"Max. Temperature (°C)\", fontsize=14, color='tomato')\n",
        "plt.tight_layout()\n",
        "plt.title(\"Violin Plots of Minimum and Maximum Temperature Over All Weather Stations\", fontsize=14, x=-0.0)\n",
        "plt.savefig(\"Violin_Plots_Min_Max_Temp.png\", dpi=200)\n",
        "plt.show()"
      ],
      "execution_count": 12,
      "outputs": [
        {
          "output_type": "display_data",
          "data": {
            "image/png": "[encoded data removed]",
            "text/plain": [
              "<Figure size 864x576 with 2 Axes>"
            ]
          },
          "metadata": {
            "tags": [],
            "needs_background": "light"
          }
        }
      ]
    },
    {
      "cell_type": "code",
      "metadata": {
        "colab": {
          "base_uri": "https://localhost:8080/",
          "height": 445
        },
        "id": "qbTC892cDFNP",
        "outputId": "99290e02-b18c-414c-a8f1-1a7d9dbf953f"
      },
      "source": [
        "# Joint Plot of Mean Temperature and Minimum Temperature\n",
        "g=sns.jointplot(x=weather_df['Tm'], y=weather_df['Tn'], kind='hex', color='cyan')\n",
        "g.set_axis_labels(\"Mean Temperature (°C)\",\"Minimum Temperature (°C)\", fontsize=14)\n",
        "plt.savefig(\"Hex_Tm_Tn.png\", dpi=200)\n",
        "plt.show()"
      ],
      "execution_count": 13,
      "outputs": [
        {
          "output_type": "display_data",
          "data": {
            "image/png": "[encoded data removed]",
            "text/plain": [
              "<Figure size 432x432 with 3 Axes>"
            ]
          },
          "metadata": {
            "tags": [],
            "needs_background": "light"
          }
        }
      ]
    },
    {
      "cell_type": "markdown",
      "metadata": {
        "id": "U2D60of6DFNP"
      },
      "source": [
        "### Proceed To Clustering using DBSCAN"
      ]
    },
    {
      "cell_type": "code",
      "metadata": {
        "colab": {
          "base_uri": "https://localhost:8080/"
        },
        "id": "xWE4jxkKDFNQ",
        "outputId": "941ba990-a398-4de9-86ef-89224030b0f7"
      },
      "source": [
        "from sklearn.cluster import DBSCAN\n",
        "import sklearn.utils\n",
        "from sklearn.preprocessing import StandardScaler\n",
        "weather_df_clus_temp = weather_df[[\"Tm\", \"Tx\", \"Tn\"]]\n",
        "weather_df_clus_temp = StandardScaler().fit_transform(weather_df_clus_temp)\n",
        "\n",
        "db = DBSCAN(eps=0.3, min_samples=10).fit(weather_df_clus_temp)\n",
        "labels = db.labels_\n",
        "print (labels[500:560])\n",
        "weather_df[\"Clus_Db\"]=labels\n",
        "\n",
        "realClusterNum=len(set(labels)) - (1 if -1 in labels else 0)\n",
        "clusterNum = len(set(labels))"
      ],
      "execution_count": 15,
      "outputs": [
        {
          "output_type": "stream",
          "text": [
            "[0 0 0 0 0 0 0 0 0 0 0 0 0 0 0 0 0 0 0 0 0 0 0 0 0 0 0 0 0 0 0 0 0 0 0 0 0\n",
            " 0 0 0 0 0 0 0 0 0 0 0 0 0 0 0 0 0 0 0 0 0 0 0]\n"
          ],
          "name": "stdout"
        }
      ]
    },
    {
      "cell_type": "code",
      "metadata": {
        "colab": {
          "base_uri": "https://localhost:8080/"
        },
        "id": "NBhQha5PDFNQ",
        "outputId": "c4fe9b89-a96b-4b56-c8ea-759f6d75a3f4"
      },
      "source": [
        "set(labels)"
      ],
      "execution_count": 16,
      "outputs": [
        {
          "output_type": "execute_result",
          "data": {
            "text/plain": [
              "{-1, 0, 1}"
            ]
          },
          "metadata": {
            "tags": []
          },
          "execution_count": 16
        }
      ]
    },
    {
      "cell_type": "markdown",
      "metadata": {
        "id": "TFBVeoQwDFNR"
      },
      "source": [
        "#### Plot the Clusters in the Map. "
      ]
    },
    {
      "cell_type": "code",
      "metadata": {
        "colab": {
          "base_uri": "https://localhost:8080/",
          "height": 191
        },
        "id": "pKn_0GpKDFNR",
        "outputId": "4107dc96-248b-4cf0-df65-88eab05ec7ad"
      },
      "source": [
        "#from mpl_toolkits.basemap import Basemap\n",
        "import matplotlib.pyplot as plt\n",
        "from pylab import rcParams\n",
        "%matplotlib inline\n",
        "rcParams['figure.figsize'] = (14,10)\n",
        "'''\n",
        "my_map = Basemap(projection='merc',\n",
        "            resolution = 'l', area_thresh = 1000.0,\n",
        "            llcrnrlon=llon, llcrnrlat=llat, #min longitude (llcrnrlon) and latitude (llcrnrlat)\n",
        "            urcrnrlon=ulon, urcrnrlat=ulat) #max longitude (urcrnrlon) and latitude (urcrnrlat)\n",
        "\n",
        "my_map.drawcoastlines()\n",
        "my_map.drawcountries()\n",
        "#my_map.drawmapboundary()\n",
        "#my_map.fillcontinents(color = 'white', alpha = 0.3)\n",
        "my_map.drawlsmask(land_color='orange', ocean_color='skyblue')\n",
        "#my_map.shadedrelief()\n",
        "#my_map.bluemarble()\n",
        "#my_map.shadedrelief()\n",
        "my_map.etopo()\n",
        "\n",
        "# To create a color map\n",
        "colors = plt.get_cmap('jet')(np.linspace(0.0, 1.0, clusterNum))\n",
        "\n",
        "\n",
        "\n",
        "#Visualization1\n",
        "for clust_number in set(labels):\n",
        "    c=(([0.4,0.4,0.4]) if clust_number == -1 else colors[np.int(clust_number)])\n",
        "    clust_set = weather_df[weather_df.Clus_Db == clust_number]                    \n",
        "    my_map.scatter(clust_set.xm, clust_set.ym, color =c,  marker='o', s= 40, alpha = 0.65)\n",
        "    if clust_number != -1:\n",
        "        cenx=np.mean(clust_set.xm) \n",
        "        ceny=np.mean(clust_set.ym) \n",
        "        plt.text(cenx,ceny,str(clust_number), fontsize=30, color='red',)\n",
        "        print (\"Cluster \"+str(clust_number)+', Average Mean Temp: '+ str(np.mean(clust_set.Tm)))\n",
        "plt.title(r\"Weather Stations in Canada Clustered (1): $ \\epsilon = 0.3$\", fontsize=14)        \n",
        "plt.savefig(\"etopo_cluster.png\", dpi=300)   \n",
        "'''     "
      ],
      "execution_count": 19,
      "outputs": [
        {
          "output_type": "execute_result",
          "data": {
            "application/vnd.google.colaboratory.intrinsic+json": {
              "type": "string"
            },
            "text/plain": [
              "'\\nmy_map = Basemap(projection=\\'merc\\',\\n            resolution = \\'l\\', area_thresh = 1000.0,\\n            llcrnrlon=llon, llcrnrlat=llat, #min longitude (llcrnrlon) and latitude (llcrnrlat)\\n            urcrnrlon=ulon, urcrnrlat=ulat) #max longitude (urcrnrlon) and latitude (urcrnrlat)\\n\\nmy_map.drawcoastlines()\\nmy_map.drawcountries()\\n#my_map.drawmapboundary()\\n#my_map.fillcontinents(color = \\'white\\', alpha = 0.3)\\nmy_map.drawlsmask(land_color=\\'orange\\', ocean_color=\\'skyblue\\')\\n#my_map.shadedrelief()\\n#my_map.bluemarble()\\n#my_map.shadedrelief()\\nmy_map.etopo()\\n\\n# To create a color map\\ncolors = plt.get_cmap(\\'jet\\')(np.linspace(0.0, 1.0, clusterNum))\\n\\n\\n\\n#Visualization1\\nfor clust_number in set(labels):\\n    c=(([0.4,0.4,0.4]) if clust_number == -1 else colors[np.int(clust_number)])\\n    clust_set = weather_df[weather_df.Clus_Db == clust_number]                    \\n    my_map.scatter(clust_set.xm, clust_set.ym, color =c,  marker=\\'o\\', s= 40, alpha = 0.65)\\n    if clust_number != -1:\\n        cenx=np.mean(clust_set.xm) \\n        ceny=np.mean(clust_set.ym) \\n        plt.text(cenx,ceny,str(clust_number), fontsize=30, color=\\'red\\',)\\n        print (\"Cluster \"+str(clust_number)+\\', Average Mean Temp: \\'+ str(np.mean(clust_set.Tm)))\\nplt.title(r\"Weather Stations in Canada Clustered (1): $ \\\\epsilon = 0.3$\", fontsize=14)        \\nplt.savefig(\"etopo_cluster.png\", dpi=300)   \\n'"
            ]
          },
          "metadata": {
            "tags": []
          },
          "execution_count": 19
        }
      ]
    },
    {
      "cell_type": "markdown",
      "metadata": {
        "id": "eRGABoOaDFNR"
      },
      "source": [
        "## Repeat The Process One More Time Including Precipitation as Feature  "
      ]
    },
    {
      "cell_type": "code",
      "metadata": {
        "colab": {
          "base_uri": "https://localhost:8080/"
        },
        "id": "Gnu2A9AfDFNS",
        "outputId": "126d4bbb-9e3d-4243-a2e4-dc277013a421"
      },
      "source": [
        "# stop the SettingWithCopyWarning: \n",
        "pd.options.mode.chained_assignment = None  # default='warn'\n",
        "#\n",
        "\n",
        "from sklearn.cluster import DBSCAN\n",
        "import sklearn.utils\n",
        "from sklearn.preprocessing import StandardScaler\n",
        "weather_df_copy = weather_df.copy()\n",
        "weather_df_clus_temp_P = weather_df_copy[[\"Tm\", \"Tx\", \"Tn\",\"P\"]]\n",
        "\n",
        "weather_df_clus_temp_P.dropna(subset=[\"Tm\", \"Tx\", \"Tn\", \"P\"], inplace=True)\n",
        "print (\"After Dropping Rows that contains NaN on Precipitation Column: \", weather_df_clus_temp_P.shape)\n",
        "\n",
        "print (weather_df_clus_temp_P.head(6))"
      ],
      "execution_count": 21,
      "outputs": [
        {
          "output_type": "stream",
          "text": [
            "After Dropping Rows that contains NaN on Precipitation Column:  (1136, 4)\n",
            "    Tm    Tx   Tn      P\n",
            "0  8.2  13.5  1.0  178.8\n",
            "1  7.0  15.0 -3.0  258.6\n",
            "2  6.8  16.0 -2.5  264.6\n",
            "4  7.7  14.5 -1.0  168.4\n",
            "5  8.8  13.1  1.9   81.0\n",
            "6  8.9  13.5  2.0  110.0\n"
          ],
          "name": "stdout"
        }
      ]
    },
    {
      "cell_type": "code",
      "metadata": {
        "colab": {
          "base_uri": "https://localhost:8080/"
        },
        "id": "WG9_0bkgDFNS",
        "outputId": "0e7f5d7d-cff7-42d8-b883-613a3baa55a0"
      },
      "source": [
        "#print (weather_df_clus_temp.shape)\n",
        "weather_df_clus_temp_P_arr = weather_df_clus_temp_P[[\"Tm\", \"Tx\", \"Tn\", \"P\"]]\n",
        "weather_df_clus_temp_P_arr = StandardScaler().fit_transform(weather_df_clus_temp_P_arr)\n",
        "\n",
        "db_P = DBSCAN(eps=0.5, min_samples=10).fit(weather_df_clus_temp_P_arr)\n",
        "# # create an array of zeroes of same size as db.labels_. db.labels_ is an array containing labels for \n",
        "labels_P = db_P.labels_\n",
        "print(labels_P[500:560])\n",
        "print (labels_P.dtype)\n",
        "#print(np.isnan(labels_P).any())\n",
        "weather_df_clus_temp_P[\"Clus_Db_\"]=labels_P"
      ],
      "execution_count": 23,
      "outputs": [
        {
          "output_type": "stream",
          "text": [
            "[0 0 0 0 0 0 0 0 0 0 0 0 0 0 0 0 0 0 0 0 0 0 0 0 0 0 0 0 0 0 0 0 0 0 0 0 0\n",
            " 0 0 0 0 0 0 0 0 0 0 0 0 0 0 0 0 0 0 0 0 0 0 0]\n",
            "int64\n"
          ],
          "name": "stdout"
        }
      ]
    },
    {
      "cell_type": "code",
      "metadata": {
        "colab": {
          "base_uri": "https://localhost:8080/",
          "height": 237
        },
        "id": "JCRpa55rDFNT",
        "outputId": "30776933-7aee-463c-f9c8-849e50c7b887"
      },
      "source": [
        "weather_df_clus_temp_P.head(6)"
      ],
      "execution_count": 24,
      "outputs": [
        {
          "output_type": "execute_result",
          "data": {
            "text/html": [
              "<div>\n",
              "<style scoped>\n",
              "    .dataframe tbody tr th:only-of-type {\n",
              "        vertical-align: middle;\n",
              "    }\n",
              "\n",
              "    .dataframe tbody tr th {\n",
              "        vertical-align: top;\n",
              "    }\n",
              "\n",
              "    .dataframe thead th {\n",
              "        text-align: right;\n",
              "    }\n",
              "</style>\n",
              "<table border=\"1\" class=\"dataframe\">\n",
              "  <thead>\n",
              "    <tr style=\"text-align: right;\">\n",
              "      <th></th>\n",
              "      <th>Tm</th>\n",
              "      <th>Tx</th>\n",
              "      <th>Tn</th>\n",
              "      <th>P</th>\n",
              "      <th>Clus_Db_</th>\n",
              "    </tr>\n",
              "  </thead>\n",
              "  <tbody>\n",
              "    <tr>\n",
              "      <th>0</th>\n",
              "      <td>8.2</td>\n",
              "      <td>13.5</td>\n",
              "      <td>1.0</td>\n",
              "      <td>178.8</td>\n",
              "      <td>0</td>\n",
              "    </tr>\n",
              "    <tr>\n",
              "      <th>1</th>\n",
              "      <td>7.0</td>\n",
              "      <td>15.0</td>\n",
              "      <td>-3.0</td>\n",
              "      <td>258.6</td>\n",
              "      <td>0</td>\n",
              "    </tr>\n",
              "    <tr>\n",
              "      <th>2</th>\n",
              "      <td>6.8</td>\n",
              "      <td>16.0</td>\n",
              "      <td>-2.5</td>\n",
              "      <td>264.6</td>\n",
              "      <td>0</td>\n",
              "    </tr>\n",
              "    <tr>\n",
              "      <th>4</th>\n",
              "      <td>7.7</td>\n",
              "      <td>14.5</td>\n",
              "      <td>-1.0</td>\n",
              "      <td>168.4</td>\n",
              "      <td>0</td>\n",
              "    </tr>\n",
              "    <tr>\n",
              "      <th>5</th>\n",
              "      <td>8.8</td>\n",
              "      <td>13.1</td>\n",
              "      <td>1.9</td>\n",
              "      <td>81.0</td>\n",
              "      <td>0</td>\n",
              "    </tr>\n",
              "    <tr>\n",
              "      <th>6</th>\n",
              "      <td>8.9</td>\n",
              "      <td>13.5</td>\n",
              "      <td>2.0</td>\n",
              "      <td>110.0</td>\n",
              "      <td>0</td>\n",
              "    </tr>\n",
              "  </tbody>\n",
              "</table>\n",
              "</div>"
            ],
            "text/plain": [
              "    Tm    Tx   Tn      P  Clus_Db_\n",
              "0  8.2  13.5  1.0  178.8         0\n",
              "1  7.0  15.0 -3.0  258.6         0\n",
              "2  6.8  16.0 -2.5  264.6         0\n",
              "4  7.7  14.5 -1.0  168.4         0\n",
              "5  8.8  13.1  1.9   81.0         0\n",
              "6  8.9  13.5  2.0  110.0         0"
            ]
          },
          "metadata": {
            "tags": []
          },
          "execution_count": 24
        }
      ]
    },
    {
      "cell_type": "code",
      "metadata": {
        "colab": {
          "base_uri": "https://localhost:8080/"
        },
        "id": "IGIARI6cDFNT",
        "outputId": "e7976366-2107-4cde-b9ac-5e085a6c7247"
      },
      "source": [
        "realClusterNum_P=len(set(labels_P)) - (1 if -1 in labels_P else 0)\n",
        "clusterNum_P = len(set(labels_P)) \n",
        "\n",
        "\n",
        "print (set(labels_P))"
      ],
      "execution_count": 25,
      "outputs": [
        {
          "output_type": "stream",
          "text": [
            "{0, -1}\n"
          ],
          "name": "stdout"
        }
      ]
    },
    {
      "cell_type": "code",
      "metadata": {
        "id": "yEqZy9h7DFNT"
      },
      "source": [
        "'''from mpl_toolkits.basemap import Basemap\n",
        "import matplotlib.pyplot as plt\n",
        "from pylab import rcParams\n",
        "%matplotlib inline\n",
        "rcParams['figure.figsize'] = (14,10)\n",
        "\n",
        "my_map1 = Basemap(projection='merc',\n",
        "            resolution = 'l', area_thresh = 1000.0,\n",
        "            llcrnrlon=llon, llcrnrlat=llat, #min longitude (llcrnrlon) and latitude (llcrnrlat)\n",
        "            urcrnrlon=ulon, urcrnrlat=ulat) #max longitude (urcrnrlon) and latitude (urcrnrlat)\n",
        "\n",
        "my_map1.drawcoastlines()\n",
        "my_map1.drawcountries()\n",
        "#my_map.drawmapboundary()\n",
        "#my_map.fillcontinents(color = 'white', alpha = 0.3)\n",
        "my_map1.drawlsmask(land_color='orange', ocean_color='skyblue')\n",
        "#my_map.shadedrelief()\n",
        "#my_map.bluemarble()\n",
        "#my_map.shadedrelief()\n",
        "my_map1.etopo()\n",
        "\n",
        "# To create a color map\n",
        "colors1 = plt.get_cmap('jet')(np.linspace(0.0, 1.0, clusterNum_P))\n",
        "\n",
        "\n",
        "\n",
        "#Visualization1\n",
        "for clust_number_P in set(labels_P):\n",
        "    c=(([0.4,0.4,0.4]) if clust_number_P == -1 else colors1[np.int(clust_number_P)])\n",
        "    clust_set_P = weather_df_clus_temp_P[weather_df_clus_temp_P.Clus_Db_ == clust_number_P]                    \n",
        "    my_map.scatter(clust_set_P.xm, clust_set_P.ym, color =c,  marker='o', s= 40, alpha = 0.65)\n",
        "    if clust_number_P != -1:\n",
        "        cenx=np.mean(clust_set_P.xm) \n",
        "        ceny=np.mean(clust_set_P.ym) \n",
        "        plt.text(cenx,ceny,str(clust_number_P), fontsize=30, color='red',)\n",
        "        print (\"Cluster \"+str(clust_number_P)+', Average Mean Temp: '+ str(np.mean(clust_set_P.Tm)))\n",
        "        print (\"Cluster \"+str(clust_number_P)+', Average Mean Precipitation: '+ str(np.mean(clust_set_P.P)))\n",
        "plt.savefig(\"etopo_cluster_preci.png\", dpi=300)\n",
        "'''"
      ],
      "execution_count": null,
      "outputs": []
    },
    {
      "cell_type": "code",
      "metadata": {
        "id": "bTTWBAxFDFNU"
      },
      "source": [
        ""
      ],
      "execution_count": null,
      "outputs": []
    }
  ]
}