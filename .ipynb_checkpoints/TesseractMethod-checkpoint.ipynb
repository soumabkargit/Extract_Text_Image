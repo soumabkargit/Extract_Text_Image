{
 "cells": [
  {
   "cell_type": "markdown",
   "metadata": {
    "colab_type": "text",
    "id": "view-in-github"
   },
   "source": [
    "<a href=\"https://colab.research.google.com/github/soumabkargit/Extract_Text_Image/blob/master/TesseractMethod.ipynb\" target=\"_parent\"><img src=\"https://colab.research.google.com/assets/colab-badge.svg\" alt=\"Open In Colab\"/></a>"
   ]
  },
  {
   "cell_type": "markdown",
   "metadata": {
    "colab_type": "text",
    "id": "ZZfsXQ75Tpr4"
   },
   "source": [
    "# **Tesseract installation**\n",
    "\n",
    "[https://github.com/tesseract-ocr/tesseract/wiki](https://)\n"
   ]
  },
  {
   "cell_type": "code",
   "execution_count": 1,
   "metadata": {
    "colab": {
     "base_uri": "https://localhost:8080/",
     "height": 329
    },
    "colab_type": "code",
    "id": "fBxV6GDWzMEM",
    "outputId": "fbfbb390-73ac-47bf-a604-ad8ea6182a7d"
   },
   "outputs": [
    {
     "name": "stderr",
     "output_type": "stream",
     "text": [
      "'sudo' n’est pas reconnu en tant que commande interne\n",
      "ou externe, un programme exécutable ou un fichier de commandes.\n"
     ]
    },
    {
     "name": "stdout",
     "output_type": "stream",
     "text": [
      "Collecting pytesseract\n",
      "  Downloading pytesseract-0.3.5.tar.gz (13 kB)\n",
      "Requirement already satisfied: Pillow in c:\\users\\soumabkar\\anaconda3\\lib\\site-packages (from pytesseract) (6.2.1)\n",
      "Building wheels for collected packages: pytesseract\n",
      "  Building wheel for pytesseract (setup.py): started\n",
      "  Building wheel for pytesseract (setup.py): finished with status 'done'\n",
      "  Created wheel for pytesseract: filename=pytesseract-0.3.5-py2.py3-none-any.whl size=13410 sha256=72ccb67ec8d5e6d20d689ce2704050d3fd666f86b542e76198299bd93a42a0d1\n",
      "  Stored in directory: c:\\users\\soumabkar\\appdata\\local\\pip\\cache\\wheels\\ec\\96\\0f\\7d88840e7f3c561bd597e2829e3f61e03d7dd41fa7363393ae\n",
      "Successfully built pytesseract\n",
      "Installing collected packages: pytesseract\n",
      "Successfully installed pytesseract-0.3.5\n"
     ]
    },
    {
     "name": "stderr",
     "output_type": "stream",
     "text": [
      "'sudo' n’est pas reconnu en tant que commande interne\n",
      "ou externe, un programme exécutable ou un fichier de commandes.\n"
     ]
    }
   ],
   "source": [
    "!sudo apt install tesseract-ocr\n",
    "!pip install pytesseract\n",
    "!sudo apt-get install tesseract-ocr-eng"
   ]
  },
  {
   "cell_type": "markdown",
   "metadata": {
    "colab_type": "text",
    "id": "k7RjnMkSVrau"
   },
   "source": [
    "##Importing all useful dependencies"
   ]
  },
  {
   "cell_type": "code",
   "execution_count": 2,
   "metadata": {
    "colab": {},
    "colab_type": "code",
    "id": "mrBJ-l8IyRu5"
   },
   "outputs": [],
   "source": [
    "from matplotlib.image import imread\n",
    "import numpy as np\n",
    "from matplotlib import pyplot as plt\n",
    "import os\n",
    "import pytesseract\n",
    "from pytesseract import Output\n",
    "import matplotlib.patches as patches\n",
    "from PIL import Image\n",
    "import re\n",
    "from pathlib import Path\n",
    "from shutil import copyfile\n",
    "# Technically not necessary in newest versions of jupyter\n",
    "%matplotlib inline"
   ]
  },
  {
   "cell_type": "markdown",
   "metadata": {
    "colab_type": "text",
    "id": "cy5XplxPYXZz"
   },
   "source": [
    "##Dataset\n",
    "\n",
    "https://expressexpense.com/blog/free-receipt-images-ocr-machine-learning-dataset/\n",
    "\n",
    "## Reading of all invoice images and extraction of the total amount.\n",
    "\n",
    "##Sort extracted and non-extracted images into respective folders."
   ]
  },
  {
   "cell_type": "code",
   "execution_count": 3,
   "metadata": {
    "colab": {
     "base_uri": "https://localhost:8080/",
     "height": 1000
    },
    "colab_type": "code",
    "id": "DiZgVopW1vTd",
    "outputId": "991879d4-0e15-4f9a-94b2-281918e1a8f9"
   },
   "outputs": [
    {
     "name": "stdout",
     "output_type": "stream",
     "text": [
      "Successfully created the directory image_extract \n",
      "Successfully created the directory image_NO_extract \n"
     ]
    },
    {
     "ename": "PermissionError",
     "evalue": "[Errno 13] Permission denied: 'data/test'",
     "output_type": "error",
     "traceback": [
      "\u001b[1;31m---------------------------------------------------------------------------\u001b[0m",
      "\u001b[1;31mPermissionError\u001b[0m                           Traceback (most recent call last)",
      "\u001b[1;32m<ipython-input-3-f290c35f9657>\u001b[0m in \u001b[0;36m<module>\u001b[1;34m\u001b[0m\n\u001b[0;32m     26\u001b[0m \u001b[1;33m\u001b[0m\u001b[0m\n\u001b[0;32m     27\u001b[0m \u001b[1;32mfor\u001b[0m \u001b[0mimage_filename\u001b[0m \u001b[1;32min\u001b[0m \u001b[0mlist_files\u001b[0m\u001b[1;33m:\u001b[0m\u001b[1;33m\u001b[0m\u001b[1;33m\u001b[0m\u001b[0m\n\u001b[1;32m---> 28\u001b[1;33m   \u001b[0mim\u001b[0m \u001b[1;33m=\u001b[0m \u001b[0mnp\u001b[0m\u001b[1;33m.\u001b[0m\u001b[0marray\u001b[0m\u001b[1;33m(\u001b[0m\u001b[0mImage\u001b[0m\u001b[1;33m.\u001b[0m\u001b[0mopen\u001b[0m\u001b[1;33m(\u001b[0m\u001b[1;34m'data'\u001b[0m\u001b[1;33m+\u001b[0m\u001b[1;34m'/'\u001b[0m\u001b[1;33m+\u001b[0m\u001b[0mimage_filename\u001b[0m\u001b[1;33m)\u001b[0m\u001b[1;33m,\u001b[0m \u001b[0mdtype\u001b[0m\u001b[1;33m=\u001b[0m\u001b[0mnp\u001b[0m\u001b[1;33m.\u001b[0m\u001b[0muint8\u001b[0m\u001b[1;33m)\u001b[0m\u001b[1;33m\u001b[0m\u001b[1;33m\u001b[0m\u001b[0m\n\u001b[0m\u001b[0;32m     29\u001b[0m   \u001b[1;31m# Create figure and axes\u001b[0m\u001b[1;33m\u001b[0m\u001b[1;33m\u001b[0m\u001b[1;33m\u001b[0m\u001b[0m\n\u001b[0;32m     30\u001b[0m   \u001b[0mfig\u001b[0m\u001b[1;33m,\u001b[0m\u001b[0max\u001b[0m \u001b[1;33m=\u001b[0m \u001b[0mplt\u001b[0m\u001b[1;33m.\u001b[0m\u001b[0msubplots\u001b[0m\u001b[1;33m(\u001b[0m\u001b[1;36m1\u001b[0m\u001b[1;33m)\u001b[0m\u001b[1;33m\u001b[0m\u001b[1;33m\u001b[0m\u001b[0m\n",
      "\u001b[1;32m~\\anaconda3\\lib\\site-packages\\PIL\\Image.py\u001b[0m in \u001b[0;36mopen\u001b[1;34m(fp, mode)\u001b[0m\n\u001b[0;32m   2764\u001b[0m \u001b[1;33m\u001b[0m\u001b[0m\n\u001b[0;32m   2765\u001b[0m     \u001b[1;32mif\u001b[0m \u001b[0mfilename\u001b[0m\u001b[1;33m:\u001b[0m\u001b[1;33m\u001b[0m\u001b[1;33m\u001b[0m\u001b[0m\n\u001b[1;32m-> 2766\u001b[1;33m         \u001b[0mfp\u001b[0m \u001b[1;33m=\u001b[0m \u001b[0mbuiltins\u001b[0m\u001b[1;33m.\u001b[0m\u001b[0mopen\u001b[0m\u001b[1;33m(\u001b[0m\u001b[0mfilename\u001b[0m\u001b[1;33m,\u001b[0m \u001b[1;34m\"rb\"\u001b[0m\u001b[1;33m)\u001b[0m\u001b[1;33m\u001b[0m\u001b[1;33m\u001b[0m\u001b[0m\n\u001b[0m\u001b[0;32m   2767\u001b[0m         \u001b[0mexclusive_fp\u001b[0m \u001b[1;33m=\u001b[0m \u001b[1;32mTrue\u001b[0m\u001b[1;33m\u001b[0m\u001b[1;33m\u001b[0m\u001b[0m\n\u001b[0;32m   2768\u001b[0m \u001b[1;33m\u001b[0m\u001b[0m\n",
      "\u001b[1;31mPermissionError\u001b[0m: [Errno 13] Permission denied: 'data/test'"
     ]
    }
   ],
   "source": [
    "receipt_ocr = {}\n",
    "total_invoice_good_info = {}\n",
    "total_invoice_bad_info = {}\n",
    "all_total_invoice_info = {}\n",
    "\n",
    "def hasNumbers(inputString):\n",
    "  return any(char.isdigit() for char in inputString)\n",
    "\n",
    "def createFolder(path):\n",
    "  try:\n",
    "    os.mkdir(path)\n",
    "  except OSError:\n",
    "    print (\"Creation of the directory %s failed\" % path)\n",
    "  else:\n",
    "    print (\"Successfully created the directory %s \" % path)\n",
    "\n",
    "candidat_word_total = []\n",
    "list_candidat_word_total = []\n",
    "\n",
    "list_files = os.listdir('data_image')\n",
    "image_extract_path = \"image_extract\"\n",
    "image_NO_extract_path = \"image_NO_extract\"\n",
    "\n",
    "createFolder(image_extract_path)\n",
    "createFolder(image_NO_extract_path)\n",
    "\n",
    "for image_filename in list_files:\n",
    "  im = np.array(Image.open('data'+'/'+image_filename), dtype=np.uint8)\n",
    "  # Create figure and axes\n",
    "  fig,ax = plt.subplots(1)\n",
    "  receipt_ocr = {}\n",
    "  extracted_text = pytesseract.image_to_string(im, lang = 'eng')\n",
    "  splits = extracted_text.splitlines()\n",
    "  list_word_total = []\n",
    "\n",
    "  for line in splits:\n",
    "    if re.search(r'TOTAL',line):\n",
    "      list_word_total.append(line)\n",
    "\n",
    "  for el in list_word_total:\n",
    "    if hasNumbers(el):\n",
    "      candidat_word_total.append(el)\n",
    "      copyfile('data'+'/'+image_filename, image_extract_path+'/'+image_filename)\n",
    "      print(el)\n",
    "      total_invoice_good_info[image_filename] = {image_filename : image_filename, 'total': ''+el}\n",
    "      all_total_invoice_info[image_filename] = {image_filename : image_filename, 'total': ''+el}\n",
    "    else:\n",
    "        copyfile('data'+'/'+image_filename, image_NO_extract_path+'/'+image_filename)\n",
    "        total_invoice_bad_info[image_filename] = {image_filename : image_filename, 'total' : 'to be defined'}\n",
    "        all_total_invoice_info[image_filename] = {image_filename : image_filename, 'total' : 'to be defined'}\n",
    "\n",
    "print('********** list_candidat_word_total ***********************************') \n",
    "list_candidat_word_total.append(candidat_word_total)\n",
    "list_candidat_word_total  \n",
    "print('************ all_total_invoice_info ***********************************')\n",
    "all_total_invoice_info \n",
    "print('************ total_invoice_good_info **********************************')\n",
    "total_invoice_good_info\n",
    "print('************* total_invoice_bad_info **********************************')\n",
    "total_invoice_bad_info"
   ]
  },
  {
   "cell_type": "markdown",
   "metadata": {
    "colab_type": "text",
    "id": "URRLbzbtd83N"
   },
   "source": [
    "##Reading an invoice image and extracting the total amount"
   ]
  },
  {
   "cell_type": "code",
   "execution_count": null,
   "metadata": {
    "colab": {
     "base_uri": "https://localhost:8080/",
     "height": 287
    },
    "colab_type": "code",
    "id": "3BnRKrn1_3FU",
    "outputId": "6b84bb98-be42-4b49-e007-d18012cba391"
   },
   "outputs": [
    {
     "data": {
      "text/plain": [
       "{'info': {'invoice_name': '1103-receipt.jpg', 'total': 'TOTAL. $1IS.03'}}"
      ]
     },
     "execution_count": 17,
     "metadata": {
      "tags": []
     },
     "output_type": "execute_result"
    },
    {
     "data": {
      "image/png": "[encoded data removed]",
      "text/plain": [
       "<Figure size 432x288 with 1 Axes>"
      ]
     },
     "metadata": {
      "needs_background": "light",
      "tags": []
     },
     "output_type": "display_data"
    }
   ],
   "source": [
    "total_invoice_good_info = {}\n",
    "\n",
    "def hasNumbers(inputString):\n",
    "  return any(char.isdigit() for char in inputString)\n",
    "candidat_word_total = []\n",
    "list_candidat_word_total = []\n",
    "\n",
    "im = np.array(Image.open('data/1004-receipt.jpg'), dtype=np.uint8)\n",
    "# Create figure and axes\n",
    "fig,ax = plt.subplots(1)\n",
    "receipt_ocr = {}\n",
    "extracted_text = pytesseract.image_to_string(im, lang = 'eng')\n",
    "splits = extracted_text.splitlines()\n",
    "list_word_total = []\n",
    "for line in splits:\n",
    "  if re.search(r'TOTAL',line):\n",
    "    list_word_total.append(line)\n",
    "  \n",
    "for el in list_word_total:\n",
    "  if hasNumbers(el):\n",
    "    total_invoice_good_info['info'] = {'invoice_name' : image_filename, 'total' : el}\n",
    "    candidat_word_total.append(el)\n",
    "    \n",
    "candidat_word_total     \n",
    "total_invoice_good_info"
   ]
  },
  {
   "cell_type": "markdown",
   "metadata": {
    "colab_type": "text",
    "id": "HKF8rq3bzTUX"
   },
   "source": [
    "#References\n",
    "\n",
    "https://nanonets.com/blog/receipt-ocr/?fbclid=IwAR0H4VkHhpimqKIgEUQOUCOJS1mtk6vQREcv3MMiqJ2NpxG9LHZnsHM-aeE"
   ]
  }
 ],
 "metadata": {
  "colab": {
   "authorship_tag": "ABX9TyNToZPUR7yjk3qMZs1m7rkU",
   "include_colab_link": true,
   "name": "TesseractMethod.ipynb",
   "provenance": []
  },
  "kernelspec": {
   "display_name": "Python 3",
   "language": "python",
   "name": "python3"
  },
  "language_info": {
   "codemirror_mode": {
    "name": "ipython",
    "version": 3
   },
   "file_extension": ".py",
   "mimetype": "text/x-python",
   "name": "python",
   "nbconvert_exporter": "python",
   "pygments_lexer": "ipython3",
   "version": "3.7.6"
  }
 },
 "nbformat": 4,
 "nbformat_minor": 1
}
